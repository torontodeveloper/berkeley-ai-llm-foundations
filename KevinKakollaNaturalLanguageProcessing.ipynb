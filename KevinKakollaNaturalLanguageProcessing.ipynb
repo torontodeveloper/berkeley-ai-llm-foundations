{
  "nbformat": 4,
  "nbformat_minor": 0,
  "metadata": {
    "colab": {
      "provenance": [],
      "gpuType": "A100",
      "authorship_tag": "ABX9TyMLlMim7mSTWNBp5DD77n+B",
      "include_colab_link": true
    },
    "kernelspec": {
      "name": "python3",
      "display_name": "Python 3"
    },
    "language_info": {
      "name": "python"
    },
    "accelerator": "GPU",
    "widgets": {
      "application/vnd.jupyter.widget-state+json": {
        "a485909dcd92448f8866d51b90e6cb2c": {
          "model_module": "@jupyter-widgets/controls",
          "model_name": "HBoxModel",
          "model_module_version": "1.5.0",
          "state": {
            "_dom_classes": [],
            "_model_module": "@jupyter-widgets/controls",
            "_model_module_version": "1.5.0",
            "_model_name": "HBoxModel",
            "_view_count": null,
            "_view_module": "@jupyter-widgets/controls",
            "_view_module_version": "1.5.0",
            "_view_name": "HBoxView",
            "box_style": "",
            "children": [
              "IPY_MODEL_5d4154ab13a246c3a0b76ce6f2910186",
              "IPY_MODEL_f6910cbb9bef4b8d9c3d66e2003ffc1c",
              "IPY_MODEL_c61744311e554594afba54f6d15a4d9c"
            ],
            "layout": "IPY_MODEL_8081fefbe4ab49fd9f423d1b705e82e2"
          }
        },
        "5d4154ab13a246c3a0b76ce6f2910186": {
          "model_module": "@jupyter-widgets/controls",
          "model_name": "HTMLModel",
          "model_module_version": "1.5.0",
          "state": {
            "_dom_classes": [],
            "_model_module": "@jupyter-widgets/controls",
            "_model_module_version": "1.5.0",
            "_model_name": "HTMLModel",
            "_view_count": null,
            "_view_module": "@jupyter-widgets/controls",
            "_view_module_version": "1.5.0",
            "_view_name": "HTMLView",
            "description": "",
            "description_tooltip": null,
            "layout": "IPY_MODEL_397151c245974174a62a89f426777740",
            "placeholder": "​",
            "style": "IPY_MODEL_4c8de193f22445f282ec4243b8bb5bbd",
            "value": "tokenizer_config.json: 100%"
          }
        },
        "f6910cbb9bef4b8d9c3d66e2003ffc1c": {
          "model_module": "@jupyter-widgets/controls",
          "model_name": "FloatProgressModel",
          "model_module_version": "1.5.0",
          "state": {
            "_dom_classes": [],
            "_model_module": "@jupyter-widgets/controls",
            "_model_module_version": "1.5.0",
            "_model_name": "FloatProgressModel",
            "_view_count": null,
            "_view_module": "@jupyter-widgets/controls",
            "_view_module_version": "1.5.0",
            "_view_name": "ProgressView",
            "bar_style": "success",
            "description": "",
            "description_tooltip": null,
            "layout": "IPY_MODEL_4c7718a43b0845639ab3c6a6a5cd1a07",
            "max": 48,
            "min": 0,
            "orientation": "horizontal",
            "style": "IPY_MODEL_7ca42d4929ae43cc8cd4c02c4630c5c6",
            "value": 48
          }
        },
        "c61744311e554594afba54f6d15a4d9c": {
          "model_module": "@jupyter-widgets/controls",
          "model_name": "HTMLModel",
          "model_module_version": "1.5.0",
          "state": {
            "_dom_classes": [],
            "_model_module": "@jupyter-widgets/controls",
            "_model_module_version": "1.5.0",
            "_model_name": "HTMLModel",
            "_view_count": null,
            "_view_module": "@jupyter-widgets/controls",
            "_view_module_version": "1.5.0",
            "_view_name": "HTMLView",
            "description": "",
            "description_tooltip": null,
            "layout": "IPY_MODEL_530f8bc4e6f54d9a984923119f47edd9",
            "placeholder": "​",
            "style": "IPY_MODEL_1a7680b26e7c4edcb00a97bcc127f6fe",
            "value": " 48.0/48.0 [00:00&lt;00:00, 3.57kB/s]"
          }
        },
        "8081fefbe4ab49fd9f423d1b705e82e2": {
          "model_module": "@jupyter-widgets/base",
          "model_name": "LayoutModel",
          "model_module_version": "1.2.0",
          "state": {
            "_model_module": "@jupyter-widgets/base",
            "_model_module_version": "1.2.0",
            "_model_name": "LayoutModel",
            "_view_count": null,
            "_view_module": "@jupyter-widgets/base",
            "_view_module_version": "1.2.0",
            "_view_name": "LayoutView",
            "align_content": null,
            "align_items": null,
            "align_self": null,
            "border": null,
            "bottom": null,
            "display": null,
            "flex": null,
            "flex_flow": null,
            "grid_area": null,
            "grid_auto_columns": null,
            "grid_auto_flow": null,
            "grid_auto_rows": null,
            "grid_column": null,
            "grid_gap": null,
            "grid_row": null,
            "grid_template_areas": null,
            "grid_template_columns": null,
            "grid_template_rows": null,
            "height": null,
            "justify_content": null,
            "justify_items": null,
            "left": null,
            "margin": null,
            "max_height": null,
            "max_width": null,
            "min_height": null,
            "min_width": null,
            "object_fit": null,
            "object_position": null,
            "order": null,
            "overflow": null,
            "overflow_x": null,
            "overflow_y": null,
            "padding": null,
            "right": null,
            "top": null,
            "visibility": null,
            "width": null
          }
        },
        "397151c245974174a62a89f426777740": {
          "model_module": "@jupyter-widgets/base",
          "model_name": "LayoutModel",
          "model_module_version": "1.2.0",
          "state": {
            "_model_module": "@jupyter-widgets/base",
            "_model_module_version": "1.2.0",
            "_model_name": "LayoutModel",
            "_view_count": null,
            "_view_module": "@jupyter-widgets/base",
            "_view_module_version": "1.2.0",
            "_view_name": "LayoutView",
            "align_content": null,
            "align_items": null,
            "align_self": null,
            "border": null,
            "bottom": null,
            "display": null,
            "flex": null,
            "flex_flow": null,
            "grid_area": null,
            "grid_auto_columns": null,
            "grid_auto_flow": null,
            "grid_auto_rows": null,
            "grid_column": null,
            "grid_gap": null,
            "grid_row": null,
            "grid_template_areas": null,
            "grid_template_columns": null,
            "grid_template_rows": null,
            "height": null,
            "justify_content": null,
            "justify_items": null,
            "left": null,
            "margin": null,
            "max_height": null,
            "max_width": null,
            "min_height": null,
            "min_width": null,
            "object_fit": null,
            "object_position": null,
            "order": null,
            "overflow": null,
            "overflow_x": null,
            "overflow_y": null,
            "padding": null,
            "right": null,
            "top": null,
            "visibility": null,
            "width": null
          }
        },
        "4c8de193f22445f282ec4243b8bb5bbd": {
          "model_module": "@jupyter-widgets/controls",
          "model_name": "DescriptionStyleModel",
          "model_module_version": "1.5.0",
          "state": {
            "_model_module": "@jupyter-widgets/controls",
            "_model_module_version": "1.5.0",
            "_model_name": "DescriptionStyleModel",
            "_view_count": null,
            "_view_module": "@jupyter-widgets/base",
            "_view_module_version": "1.2.0",
            "_view_name": "StyleView",
            "description_width": ""
          }
        },
        "4c7718a43b0845639ab3c6a6a5cd1a07": {
          "model_module": "@jupyter-widgets/base",
          "model_name": "LayoutModel",
          "model_module_version": "1.2.0",
          "state": {
            "_model_module": "@jupyter-widgets/base",
            "_model_module_version": "1.2.0",
            "_model_name": "LayoutModel",
            "_view_count": null,
            "_view_module": "@jupyter-widgets/base",
            "_view_module_version": "1.2.0",
            "_view_name": "LayoutView",
            "align_content": null,
            "align_items": null,
            "align_self": null,
            "border": null,
            "bottom": null,
            "display": null,
            "flex": null,
            "flex_flow": null,
            "grid_area": null,
            "grid_auto_columns": null,
            "grid_auto_flow": null,
            "grid_auto_rows": null,
            "grid_column": null,
            "grid_gap": null,
            "grid_row": null,
            "grid_template_areas": null,
            "grid_template_columns": null,
            "grid_template_rows": null,
            "height": null,
            "justify_content": null,
            "justify_items": null,
            "left": null,
            "margin": null,
            "max_height": null,
            "max_width": null,
            "min_height": null,
            "min_width": null,
            "object_fit": null,
            "object_position": null,
            "order": null,
            "overflow": null,
            "overflow_x": null,
            "overflow_y": null,
            "padding": null,
            "right": null,
            "top": null,
            "visibility": null,
            "width": null
          }
        },
        "7ca42d4929ae43cc8cd4c02c4630c5c6": {
          "model_module": "@jupyter-widgets/controls",
          "model_name": "ProgressStyleModel",
          "model_module_version": "1.5.0",
          "state": {
            "_model_module": "@jupyter-widgets/controls",
            "_model_module_version": "1.5.0",
            "_model_name": "ProgressStyleModel",
            "_view_count": null,
            "_view_module": "@jupyter-widgets/base",
            "_view_module_version": "1.2.0",
            "_view_name": "StyleView",
            "bar_color": null,
            "description_width": ""
          }
        },
        "530f8bc4e6f54d9a984923119f47edd9": {
          "model_module": "@jupyter-widgets/base",
          "model_name": "LayoutModel",
          "model_module_version": "1.2.0",
          "state": {
            "_model_module": "@jupyter-widgets/base",
            "_model_module_version": "1.2.0",
            "_model_name": "LayoutModel",
            "_view_count": null,
            "_view_module": "@jupyter-widgets/base",
            "_view_module_version": "1.2.0",
            "_view_name": "LayoutView",
            "align_content": null,
            "align_items": null,
            "align_self": null,
            "border": null,
            "bottom": null,
            "display": null,
            "flex": null,
            "flex_flow": null,
            "grid_area": null,
            "grid_auto_columns": null,
            "grid_auto_flow": null,
            "grid_auto_rows": null,
            "grid_column": null,
            "grid_gap": null,
            "grid_row": null,
            "grid_template_areas": null,
            "grid_template_columns": null,
            "grid_template_rows": null,
            "height": null,
            "justify_content": null,
            "justify_items": null,
            "left": null,
            "margin": null,
            "max_height": null,
            "max_width": null,
            "min_height": null,
            "min_width": null,
            "object_fit": null,
            "object_position": null,
            "order": null,
            "overflow": null,
            "overflow_x": null,
            "overflow_y": null,
            "padding": null,
            "right": null,
            "top": null,
            "visibility": null,
            "width": null
          }
        },
        "1a7680b26e7c4edcb00a97bcc127f6fe": {
          "model_module": "@jupyter-widgets/controls",
          "model_name": "DescriptionStyleModel",
          "model_module_version": "1.5.0",
          "state": {
            "_model_module": "@jupyter-widgets/controls",
            "_model_module_version": "1.5.0",
            "_model_name": "DescriptionStyleModel",
            "_view_count": null,
            "_view_module": "@jupyter-widgets/base",
            "_view_module_version": "1.2.0",
            "_view_name": "StyleView",
            "description_width": ""
          }
        },
        "fbdd0b8ccaeb42d996e4cc8c426bf06f": {
          "model_module": "@jupyter-widgets/controls",
          "model_name": "HBoxModel",
          "model_module_version": "1.5.0",
          "state": {
            "_dom_classes": [],
            "_model_module": "@jupyter-widgets/controls",
            "_model_module_version": "1.5.0",
            "_model_name": "HBoxModel",
            "_view_count": null,
            "_view_module": "@jupyter-widgets/controls",
            "_view_module_version": "1.5.0",
            "_view_name": "HBoxView",
            "box_style": "",
            "children": [
              "IPY_MODEL_b85e211cde674d45aab5c3fe871a4020",
              "IPY_MODEL_8d5dc731841d4aef8273d3543792ed4b",
              "IPY_MODEL_0a25f844aa724004ab7eaef41ec44f8d"
            ],
            "layout": "IPY_MODEL_ad56fca4822149529ce28c3cb5993110"
          }
        },
        "b85e211cde674d45aab5c3fe871a4020": {
          "model_module": "@jupyter-widgets/controls",
          "model_name": "HTMLModel",
          "model_module_version": "1.5.0",
          "state": {
            "_dom_classes": [],
            "_model_module": "@jupyter-widgets/controls",
            "_model_module_version": "1.5.0",
            "_model_name": "HTMLModel",
            "_view_count": null,
            "_view_module": "@jupyter-widgets/controls",
            "_view_module_version": "1.5.0",
            "_view_name": "HTMLView",
            "description": "",
            "description_tooltip": null,
            "layout": "IPY_MODEL_3cb96858b08640bb97b3ae7c83a3de50",
            "placeholder": "​",
            "style": "IPY_MODEL_17df82fb38ae4f86938ea65bd71e02aa",
            "value": "vocab.txt: 100%"
          }
        },
        "8d5dc731841d4aef8273d3543792ed4b": {
          "model_module": "@jupyter-widgets/controls",
          "model_name": "FloatProgressModel",
          "model_module_version": "1.5.0",
          "state": {
            "_dom_classes": [],
            "_model_module": "@jupyter-widgets/controls",
            "_model_module_version": "1.5.0",
            "_model_name": "FloatProgressModel",
            "_view_count": null,
            "_view_module": "@jupyter-widgets/controls",
            "_view_module_version": "1.5.0",
            "_view_name": "ProgressView",
            "bar_style": "success",
            "description": "",
            "description_tooltip": null,
            "layout": "IPY_MODEL_901ae21597574160ac17b848afdee5a8",
            "max": 231508,
            "min": 0,
            "orientation": "horizontal",
            "style": "IPY_MODEL_6e5ac2cf999a471e91018ea834e927b3",
            "value": 231508
          }
        },
        "0a25f844aa724004ab7eaef41ec44f8d": {
          "model_module": "@jupyter-widgets/controls",
          "model_name": "HTMLModel",
          "model_module_version": "1.5.0",
          "state": {
            "_dom_classes": [],
            "_model_module": "@jupyter-widgets/controls",
            "_model_module_version": "1.5.0",
            "_model_name": "HTMLModel",
            "_view_count": null,
            "_view_module": "@jupyter-widgets/controls",
            "_view_module_version": "1.5.0",
            "_view_name": "HTMLView",
            "description": "",
            "description_tooltip": null,
            "layout": "IPY_MODEL_2f801efb1975455fafae16bba38c49e8",
            "placeholder": "​",
            "style": "IPY_MODEL_6c310e9534214aa1a35d3e7543f7dd5b",
            "value": " 232k/232k [00:00&lt;00:00, 5.02MB/s]"
          }
        },
        "ad56fca4822149529ce28c3cb5993110": {
          "model_module": "@jupyter-widgets/base",
          "model_name": "LayoutModel",
          "model_module_version": "1.2.0",
          "state": {
            "_model_module": "@jupyter-widgets/base",
            "_model_module_version": "1.2.0",
            "_model_name": "LayoutModel",
            "_view_count": null,
            "_view_module": "@jupyter-widgets/base",
            "_view_module_version": "1.2.0",
            "_view_name": "LayoutView",
            "align_content": null,
            "align_items": null,
            "align_self": null,
            "border": null,
            "bottom": null,
            "display": null,
            "flex": null,
            "flex_flow": null,
            "grid_area": null,
            "grid_auto_columns": null,
            "grid_auto_flow": null,
            "grid_auto_rows": null,
            "grid_column": null,
            "grid_gap": null,
            "grid_row": null,
            "grid_template_areas": null,
            "grid_template_columns": null,
            "grid_template_rows": null,
            "height": null,
            "justify_content": null,
            "justify_items": null,
            "left": null,
            "margin": null,
            "max_height": null,
            "max_width": null,
            "min_height": null,
            "min_width": null,
            "object_fit": null,
            "object_position": null,
            "order": null,
            "overflow": null,
            "overflow_x": null,
            "overflow_y": null,
            "padding": null,
            "right": null,
            "top": null,
            "visibility": null,
            "width": null
          }
        },
        "3cb96858b08640bb97b3ae7c83a3de50": {
          "model_module": "@jupyter-widgets/base",
          "model_name": "LayoutModel",
          "model_module_version": "1.2.0",
          "state": {
            "_model_module": "@jupyter-widgets/base",
            "_model_module_version": "1.2.0",
            "_model_name": "LayoutModel",
            "_view_count": null,
            "_view_module": "@jupyter-widgets/base",
            "_view_module_version": "1.2.0",
            "_view_name": "LayoutView",
            "align_content": null,
            "align_items": null,
            "align_self": null,
            "border": null,
            "bottom": null,
            "display": null,
            "flex": null,
            "flex_flow": null,
            "grid_area": null,
            "grid_auto_columns": null,
            "grid_auto_flow": null,
            "grid_auto_rows": null,
            "grid_column": null,
            "grid_gap": null,
            "grid_row": null,
            "grid_template_areas": null,
            "grid_template_columns": null,
            "grid_template_rows": null,
            "height": null,
            "justify_content": null,
            "justify_items": null,
            "left": null,
            "margin": null,
            "max_height": null,
            "max_width": null,
            "min_height": null,
            "min_width": null,
            "object_fit": null,
            "object_position": null,
            "order": null,
            "overflow": null,
            "overflow_x": null,
            "overflow_y": null,
            "padding": null,
            "right": null,
            "top": null,
            "visibility": null,
            "width": null
          }
        },
        "17df82fb38ae4f86938ea65bd71e02aa": {
          "model_module": "@jupyter-widgets/controls",
          "model_name": "DescriptionStyleModel",
          "model_module_version": "1.5.0",
          "state": {
            "_model_module": "@jupyter-widgets/controls",
            "_model_module_version": "1.5.0",
            "_model_name": "DescriptionStyleModel",
            "_view_count": null,
            "_view_module": "@jupyter-widgets/base",
            "_view_module_version": "1.2.0",
            "_view_name": "StyleView",
            "description_width": ""
          }
        },
        "901ae21597574160ac17b848afdee5a8": {
          "model_module": "@jupyter-widgets/base",
          "model_name": "LayoutModel",
          "model_module_version": "1.2.0",
          "state": {
            "_model_module": "@jupyter-widgets/base",
            "_model_module_version": "1.2.0",
            "_model_name": "LayoutModel",
            "_view_count": null,
            "_view_module": "@jupyter-widgets/base",
            "_view_module_version": "1.2.0",
            "_view_name": "LayoutView",
            "align_content": null,
            "align_items": null,
            "align_self": null,
            "border": null,
            "bottom": null,
            "display": null,
            "flex": null,
            "flex_flow": null,
            "grid_area": null,
            "grid_auto_columns": null,
            "grid_auto_flow": null,
            "grid_auto_rows": null,
            "grid_column": null,
            "grid_gap": null,
            "grid_row": null,
            "grid_template_areas": null,
            "grid_template_columns": null,
            "grid_template_rows": null,
            "height": null,
            "justify_content": null,
            "justify_items": null,
            "left": null,
            "margin": null,
            "max_height": null,
            "max_width": null,
            "min_height": null,
            "min_width": null,
            "object_fit": null,
            "object_position": null,
            "order": null,
            "overflow": null,
            "overflow_x": null,
            "overflow_y": null,
            "padding": null,
            "right": null,
            "top": null,
            "visibility": null,
            "width": null
          }
        },
        "6e5ac2cf999a471e91018ea834e927b3": {
          "model_module": "@jupyter-widgets/controls",
          "model_name": "ProgressStyleModel",
          "model_module_version": "1.5.0",
          "state": {
            "_model_module": "@jupyter-widgets/controls",
            "_model_module_version": "1.5.0",
            "_model_name": "ProgressStyleModel",
            "_view_count": null,
            "_view_module": "@jupyter-widgets/base",
            "_view_module_version": "1.2.0",
            "_view_name": "StyleView",
            "bar_color": null,
            "description_width": ""
          }
        },
        "2f801efb1975455fafae16bba38c49e8": {
          "model_module": "@jupyter-widgets/base",
          "model_name": "LayoutModel",
          "model_module_version": "1.2.0",
          "state": {
            "_model_module": "@jupyter-widgets/base",
            "_model_module_version": "1.2.0",
            "_model_name": "LayoutModel",
            "_view_count": null,
            "_view_module": "@jupyter-widgets/base",
            "_view_module_version": "1.2.0",
            "_view_name": "LayoutView",
            "align_content": null,
            "align_items": null,
            "align_self": null,
            "border": null,
            "bottom": null,
            "display": null,
            "flex": null,
            "flex_flow": null,
            "grid_area": null,
            "grid_auto_columns": null,
            "grid_auto_flow": null,
            "grid_auto_rows": null,
            "grid_column": null,
            "grid_gap": null,
            "grid_row": null,
            "grid_template_areas": null,
            "grid_template_columns": null,
            "grid_template_rows": null,
            "height": null,
            "justify_content": null,
            "justify_items": null,
            "left": null,
            "margin": null,
            "max_height": null,
            "max_width": null,
            "min_height": null,
            "min_width": null,
            "object_fit": null,
            "object_position": null,
            "order": null,
            "overflow": null,
            "overflow_x": null,
            "overflow_y": null,
            "padding": null,
            "right": null,
            "top": null,
            "visibility": null,
            "width": null
          }
        },
        "6c310e9534214aa1a35d3e7543f7dd5b": {
          "model_module": "@jupyter-widgets/controls",
          "model_name": "DescriptionStyleModel",
          "model_module_version": "1.5.0",
          "state": {
            "_model_module": "@jupyter-widgets/controls",
            "_model_module_version": "1.5.0",
            "_model_name": "DescriptionStyleModel",
            "_view_count": null,
            "_view_module": "@jupyter-widgets/base",
            "_view_module_version": "1.2.0",
            "_view_name": "StyleView",
            "description_width": ""
          }
        },
        "f2069827214644b4bb31b198a2f34e8a": {
          "model_module": "@jupyter-widgets/controls",
          "model_name": "HBoxModel",
          "model_module_version": "1.5.0",
          "state": {
            "_dom_classes": [],
            "_model_module": "@jupyter-widgets/controls",
            "_model_module_version": "1.5.0",
            "_model_name": "HBoxModel",
            "_view_count": null,
            "_view_module": "@jupyter-widgets/controls",
            "_view_module_version": "1.5.0",
            "_view_name": "HBoxView",
            "box_style": "",
            "children": [
              "IPY_MODEL_540104a3ec5b4934b35e6ab1b50ecab5",
              "IPY_MODEL_9d87aded8f2146d08a313deabdd91930",
              "IPY_MODEL_2ad433525b314fb7849ca88abe2ececb"
            ],
            "layout": "IPY_MODEL_3b7a9eeb7d0b4ae58bcc98158eb54ecd"
          }
        },
        "540104a3ec5b4934b35e6ab1b50ecab5": {
          "model_module": "@jupyter-widgets/controls",
          "model_name": "HTMLModel",
          "model_module_version": "1.5.0",
          "state": {
            "_dom_classes": [],
            "_model_module": "@jupyter-widgets/controls",
            "_model_module_version": "1.5.0",
            "_model_name": "HTMLModel",
            "_view_count": null,
            "_view_module": "@jupyter-widgets/controls",
            "_view_module_version": "1.5.0",
            "_view_name": "HTMLView",
            "description": "",
            "description_tooltip": null,
            "layout": "IPY_MODEL_21f5172ba1bf449ca2fa6324bf609653",
            "placeholder": "​",
            "style": "IPY_MODEL_a51cd69b598649fcb4cb607ac4c3dc75",
            "value": "tokenizer.json: 100%"
          }
        },
        "9d87aded8f2146d08a313deabdd91930": {
          "model_module": "@jupyter-widgets/controls",
          "model_name": "FloatProgressModel",
          "model_module_version": "1.5.0",
          "state": {
            "_dom_classes": [],
            "_model_module": "@jupyter-widgets/controls",
            "_model_module_version": "1.5.0",
            "_model_name": "FloatProgressModel",
            "_view_count": null,
            "_view_module": "@jupyter-widgets/controls",
            "_view_module_version": "1.5.0",
            "_view_name": "ProgressView",
            "bar_style": "success",
            "description": "",
            "description_tooltip": null,
            "layout": "IPY_MODEL_463cf58b95d54913a5e897250b1fa8d7",
            "max": 466062,
            "min": 0,
            "orientation": "horizontal",
            "style": "IPY_MODEL_137b85dee11746c4a0bbf0c1441d65cb",
            "value": 466062
          }
        },
        "2ad433525b314fb7849ca88abe2ececb": {
          "model_module": "@jupyter-widgets/controls",
          "model_name": "HTMLModel",
          "model_module_version": "1.5.0",
          "state": {
            "_dom_classes": [],
            "_model_module": "@jupyter-widgets/controls",
            "_model_module_version": "1.5.0",
            "_model_name": "HTMLModel",
            "_view_count": null,
            "_view_module": "@jupyter-widgets/controls",
            "_view_module_version": "1.5.0",
            "_view_name": "HTMLView",
            "description": "",
            "description_tooltip": null,
            "layout": "IPY_MODEL_aaa8c3d2b0b84a5eb1ae84e524e3747b",
            "placeholder": "​",
            "style": "IPY_MODEL_8bbab3d2b7344438a65c75b82f924a2e",
            "value": " 466k/466k [00:00&lt;00:00, 14.5MB/s]"
          }
        },
        "3b7a9eeb7d0b4ae58bcc98158eb54ecd": {
          "model_module": "@jupyter-widgets/base",
          "model_name": "LayoutModel",
          "model_module_version": "1.2.0",
          "state": {
            "_model_module": "@jupyter-widgets/base",
            "_model_module_version": "1.2.0",
            "_model_name": "LayoutModel",
            "_view_count": null,
            "_view_module": "@jupyter-widgets/base",
            "_view_module_version": "1.2.0",
            "_view_name": "LayoutView",
            "align_content": null,
            "align_items": null,
            "align_self": null,
            "border": null,
            "bottom": null,
            "display": null,
            "flex": null,
            "flex_flow": null,
            "grid_area": null,
            "grid_auto_columns": null,
            "grid_auto_flow": null,
            "grid_auto_rows": null,
            "grid_column": null,
            "grid_gap": null,
            "grid_row": null,
            "grid_template_areas": null,
            "grid_template_columns": null,
            "grid_template_rows": null,
            "height": null,
            "justify_content": null,
            "justify_items": null,
            "left": null,
            "margin": null,
            "max_height": null,
            "max_width": null,
            "min_height": null,
            "min_width": null,
            "object_fit": null,
            "object_position": null,
            "order": null,
            "overflow": null,
            "overflow_x": null,
            "overflow_y": null,
            "padding": null,
            "right": null,
            "top": null,
            "visibility": null,
            "width": null
          }
        },
        "21f5172ba1bf449ca2fa6324bf609653": {
          "model_module": "@jupyter-widgets/base",
          "model_name": "LayoutModel",
          "model_module_version": "1.2.0",
          "state": {
            "_model_module": "@jupyter-widgets/base",
            "_model_module_version": "1.2.0",
            "_model_name": "LayoutModel",
            "_view_count": null,
            "_view_module": "@jupyter-widgets/base",
            "_view_module_version": "1.2.0",
            "_view_name": "LayoutView",
            "align_content": null,
            "align_items": null,
            "align_self": null,
            "border": null,
            "bottom": null,
            "display": null,
            "flex": null,
            "flex_flow": null,
            "grid_area": null,
            "grid_auto_columns": null,
            "grid_auto_flow": null,
            "grid_auto_rows": null,
            "grid_column": null,
            "grid_gap": null,
            "grid_row": null,
            "grid_template_areas": null,
            "grid_template_columns": null,
            "grid_template_rows": null,
            "height": null,
            "justify_content": null,
            "justify_items": null,
            "left": null,
            "margin": null,
            "max_height": null,
            "max_width": null,
            "min_height": null,
            "min_width": null,
            "object_fit": null,
            "object_position": null,
            "order": null,
            "overflow": null,
            "overflow_x": null,
            "overflow_y": null,
            "padding": null,
            "right": null,
            "top": null,
            "visibility": null,
            "width": null
          }
        },
        "a51cd69b598649fcb4cb607ac4c3dc75": {
          "model_module": "@jupyter-widgets/controls",
          "model_name": "DescriptionStyleModel",
          "model_module_version": "1.5.0",
          "state": {
            "_model_module": "@jupyter-widgets/controls",
            "_model_module_version": "1.5.0",
            "_model_name": "DescriptionStyleModel",
            "_view_count": null,
            "_view_module": "@jupyter-widgets/base",
            "_view_module_version": "1.2.0",
            "_view_name": "StyleView",
            "description_width": ""
          }
        },
        "463cf58b95d54913a5e897250b1fa8d7": {
          "model_module": "@jupyter-widgets/base",
          "model_name": "LayoutModel",
          "model_module_version": "1.2.0",
          "state": {
            "_model_module": "@jupyter-widgets/base",
            "_model_module_version": "1.2.0",
            "_model_name": "LayoutModel",
            "_view_count": null,
            "_view_module": "@jupyter-widgets/base",
            "_view_module_version": "1.2.0",
            "_view_name": "LayoutView",
            "align_content": null,
            "align_items": null,
            "align_self": null,
            "border": null,
            "bottom": null,
            "display": null,
            "flex": null,
            "flex_flow": null,
            "grid_area": null,
            "grid_auto_columns": null,
            "grid_auto_flow": null,
            "grid_auto_rows": null,
            "grid_column": null,
            "grid_gap": null,
            "grid_row": null,
            "grid_template_areas": null,
            "grid_template_columns": null,
            "grid_template_rows": null,
            "height": null,
            "justify_content": null,
            "justify_items": null,
            "left": null,
            "margin": null,
            "max_height": null,
            "max_width": null,
            "min_height": null,
            "min_width": null,
            "object_fit": null,
            "object_position": null,
            "order": null,
            "overflow": null,
            "overflow_x": null,
            "overflow_y": null,
            "padding": null,
            "right": null,
            "top": null,
            "visibility": null,
            "width": null
          }
        },
        "137b85dee11746c4a0bbf0c1441d65cb": {
          "model_module": "@jupyter-widgets/controls",
          "model_name": "ProgressStyleModel",
          "model_module_version": "1.5.0",
          "state": {
            "_model_module": "@jupyter-widgets/controls",
            "_model_module_version": "1.5.0",
            "_model_name": "ProgressStyleModel",
            "_view_count": null,
            "_view_module": "@jupyter-widgets/base",
            "_view_module_version": "1.2.0",
            "_view_name": "StyleView",
            "bar_color": null,
            "description_width": ""
          }
        },
        "aaa8c3d2b0b84a5eb1ae84e524e3747b": {
          "model_module": "@jupyter-widgets/base",
          "model_name": "LayoutModel",
          "model_module_version": "1.2.0",
          "state": {
            "_model_module": "@jupyter-widgets/base",
            "_model_module_version": "1.2.0",
            "_model_name": "LayoutModel",
            "_view_count": null,
            "_view_module": "@jupyter-widgets/base",
            "_view_module_version": "1.2.0",
            "_view_name": "LayoutView",
            "align_content": null,
            "align_items": null,
            "align_self": null,
            "border": null,
            "bottom": null,
            "display": null,
            "flex": null,
            "flex_flow": null,
            "grid_area": null,
            "grid_auto_columns": null,
            "grid_auto_flow": null,
            "grid_auto_rows": null,
            "grid_column": null,
            "grid_gap": null,
            "grid_row": null,
            "grid_template_areas": null,
            "grid_template_columns": null,
            "grid_template_rows": null,
            "height": null,
            "justify_content": null,
            "justify_items": null,
            "left": null,
            "margin": null,
            "max_height": null,
            "max_width": null,
            "min_height": null,
            "min_width": null,
            "object_fit": null,
            "object_position": null,
            "order": null,
            "overflow": null,
            "overflow_x": null,
            "overflow_y": null,
            "padding": null,
            "right": null,
            "top": null,
            "visibility": null,
            "width": null
          }
        },
        "8bbab3d2b7344438a65c75b82f924a2e": {
          "model_module": "@jupyter-widgets/controls",
          "model_name": "DescriptionStyleModel",
          "model_module_version": "1.5.0",
          "state": {
            "_model_module": "@jupyter-widgets/controls",
            "_model_module_version": "1.5.0",
            "_model_name": "DescriptionStyleModel",
            "_view_count": null,
            "_view_module": "@jupyter-widgets/base",
            "_view_module_version": "1.2.0",
            "_view_name": "StyleView",
            "description_width": ""
          }
        },
        "4b5e47bbb5ba4e5c9436672478bb2ae0": {
          "model_module": "@jupyter-widgets/controls",
          "model_name": "HBoxModel",
          "model_module_version": "1.5.0",
          "state": {
            "_dom_classes": [],
            "_model_module": "@jupyter-widgets/controls",
            "_model_module_version": "1.5.0",
            "_model_name": "HBoxModel",
            "_view_count": null,
            "_view_module": "@jupyter-widgets/controls",
            "_view_module_version": "1.5.0",
            "_view_name": "HBoxView",
            "box_style": "",
            "children": [
              "IPY_MODEL_4d3cc51cef4b4b4aabe1f484cf13af90",
              "IPY_MODEL_5073e19009284deea5e518aa02490fc2",
              "IPY_MODEL_f515db706d264c518cb2188f1d146493"
            ],
            "layout": "IPY_MODEL_dfebe1a0c4fd45158c8863a3eea563b6"
          }
        },
        "4d3cc51cef4b4b4aabe1f484cf13af90": {
          "model_module": "@jupyter-widgets/controls",
          "model_name": "HTMLModel",
          "model_module_version": "1.5.0",
          "state": {
            "_dom_classes": [],
            "_model_module": "@jupyter-widgets/controls",
            "_model_module_version": "1.5.0",
            "_model_name": "HTMLModel",
            "_view_count": null,
            "_view_module": "@jupyter-widgets/controls",
            "_view_module_version": "1.5.0",
            "_view_name": "HTMLView",
            "description": "",
            "description_tooltip": null,
            "layout": "IPY_MODEL_db1734d09d384e69aea70273d1fb67c1",
            "placeholder": "​",
            "style": "IPY_MODEL_b87d4c77411541cfa5088e099862bb44",
            "value": "config.json: 100%"
          }
        },
        "5073e19009284deea5e518aa02490fc2": {
          "model_module": "@jupyter-widgets/controls",
          "model_name": "FloatProgressModel",
          "model_module_version": "1.5.0",
          "state": {
            "_dom_classes": [],
            "_model_module": "@jupyter-widgets/controls",
            "_model_module_version": "1.5.0",
            "_model_name": "FloatProgressModel",
            "_view_count": null,
            "_view_module": "@jupyter-widgets/controls",
            "_view_module_version": "1.5.0",
            "_view_name": "ProgressView",
            "bar_style": "success",
            "description": "",
            "description_tooltip": null,
            "layout": "IPY_MODEL_2b88dca157744b79a3dabf48fd061a83",
            "max": 570,
            "min": 0,
            "orientation": "horizontal",
            "style": "IPY_MODEL_7a466acbf36642f18dee4159a294e503",
            "value": 570
          }
        },
        "f515db706d264c518cb2188f1d146493": {
          "model_module": "@jupyter-widgets/controls",
          "model_name": "HTMLModel",
          "model_module_version": "1.5.0",
          "state": {
            "_dom_classes": [],
            "_model_module": "@jupyter-widgets/controls",
            "_model_module_version": "1.5.0",
            "_model_name": "HTMLModel",
            "_view_count": null,
            "_view_module": "@jupyter-widgets/controls",
            "_view_module_version": "1.5.0",
            "_view_name": "HTMLView",
            "description": "",
            "description_tooltip": null,
            "layout": "IPY_MODEL_404741faf6134d459a8c3eb9cdf6e888",
            "placeholder": "​",
            "style": "IPY_MODEL_d687e8ad2b294e768d330d39ab1946ce",
            "value": " 570/570 [00:00&lt;00:00, 48.6kB/s]"
          }
        },
        "dfebe1a0c4fd45158c8863a3eea563b6": {
          "model_module": "@jupyter-widgets/base",
          "model_name": "LayoutModel",
          "model_module_version": "1.2.0",
          "state": {
            "_model_module": "@jupyter-widgets/base",
            "_model_module_version": "1.2.0",
            "_model_name": "LayoutModel",
            "_view_count": null,
            "_view_module": "@jupyter-widgets/base",
            "_view_module_version": "1.2.0",
            "_view_name": "LayoutView",
            "align_content": null,
            "align_items": null,
            "align_self": null,
            "border": null,
            "bottom": null,
            "display": null,
            "flex": null,
            "flex_flow": null,
            "grid_area": null,
            "grid_auto_columns": null,
            "grid_auto_flow": null,
            "grid_auto_rows": null,
            "grid_column": null,
            "grid_gap": null,
            "grid_row": null,
            "grid_template_areas": null,
            "grid_template_columns": null,
            "grid_template_rows": null,
            "height": null,
            "justify_content": null,
            "justify_items": null,
            "left": null,
            "margin": null,
            "max_height": null,
            "max_width": null,
            "min_height": null,
            "min_width": null,
            "object_fit": null,
            "object_position": null,
            "order": null,
            "overflow": null,
            "overflow_x": null,
            "overflow_y": null,
            "padding": null,
            "right": null,
            "top": null,
            "visibility": null,
            "width": null
          }
        },
        "db1734d09d384e69aea70273d1fb67c1": {
          "model_module": "@jupyter-widgets/base",
          "model_name": "LayoutModel",
          "model_module_version": "1.2.0",
          "state": {
            "_model_module": "@jupyter-widgets/base",
            "_model_module_version": "1.2.0",
            "_model_name": "LayoutModel",
            "_view_count": null,
            "_view_module": "@jupyter-widgets/base",
            "_view_module_version": "1.2.0",
            "_view_name": "LayoutView",
            "align_content": null,
            "align_items": null,
            "align_self": null,
            "border": null,
            "bottom": null,
            "display": null,
            "flex": null,
            "flex_flow": null,
            "grid_area": null,
            "grid_auto_columns": null,
            "grid_auto_flow": null,
            "grid_auto_rows": null,
            "grid_column": null,
            "grid_gap": null,
            "grid_row": null,
            "grid_template_areas": null,
            "grid_template_columns": null,
            "grid_template_rows": null,
            "height": null,
            "justify_content": null,
            "justify_items": null,
            "left": null,
            "margin": null,
            "max_height": null,
            "max_width": null,
            "min_height": null,
            "min_width": null,
            "object_fit": null,
            "object_position": null,
            "order": null,
            "overflow": null,
            "overflow_x": null,
            "overflow_y": null,
            "padding": null,
            "right": null,
            "top": null,
            "visibility": null,
            "width": null
          }
        },
        "b87d4c77411541cfa5088e099862bb44": {
          "model_module": "@jupyter-widgets/controls",
          "model_name": "DescriptionStyleModel",
          "model_module_version": "1.5.0",
          "state": {
            "_model_module": "@jupyter-widgets/controls",
            "_model_module_version": "1.5.0",
            "_model_name": "DescriptionStyleModel",
            "_view_count": null,
            "_view_module": "@jupyter-widgets/base",
            "_view_module_version": "1.2.0",
            "_view_name": "StyleView",
            "description_width": ""
          }
        },
        "2b88dca157744b79a3dabf48fd061a83": {
          "model_module": "@jupyter-widgets/base",
          "model_name": "LayoutModel",
          "model_module_version": "1.2.0",
          "state": {
            "_model_module": "@jupyter-widgets/base",
            "_model_module_version": "1.2.0",
            "_model_name": "LayoutModel",
            "_view_count": null,
            "_view_module": "@jupyter-widgets/base",
            "_view_module_version": "1.2.0",
            "_view_name": "LayoutView",
            "align_content": null,
            "align_items": null,
            "align_self": null,
            "border": null,
            "bottom": null,
            "display": null,
            "flex": null,
            "flex_flow": null,
            "grid_area": null,
            "grid_auto_columns": null,
            "grid_auto_flow": null,
            "grid_auto_rows": null,
            "grid_column": null,
            "grid_gap": null,
            "grid_row": null,
            "grid_template_areas": null,
            "grid_template_columns": null,
            "grid_template_rows": null,
            "height": null,
            "justify_content": null,
            "justify_items": null,
            "left": null,
            "margin": null,
            "max_height": null,
            "max_width": null,
            "min_height": null,
            "min_width": null,
            "object_fit": null,
            "object_position": null,
            "order": null,
            "overflow": null,
            "overflow_x": null,
            "overflow_y": null,
            "padding": null,
            "right": null,
            "top": null,
            "visibility": null,
            "width": null
          }
        },
        "7a466acbf36642f18dee4159a294e503": {
          "model_module": "@jupyter-widgets/controls",
          "model_name": "ProgressStyleModel",
          "model_module_version": "1.5.0",
          "state": {
            "_model_module": "@jupyter-widgets/controls",
            "_model_module_version": "1.5.0",
            "_model_name": "ProgressStyleModel",
            "_view_count": null,
            "_view_module": "@jupyter-widgets/base",
            "_view_module_version": "1.2.0",
            "_view_name": "StyleView",
            "bar_color": null,
            "description_width": ""
          }
        },
        "404741faf6134d459a8c3eb9cdf6e888": {
          "model_module": "@jupyter-widgets/base",
          "model_name": "LayoutModel",
          "model_module_version": "1.2.0",
          "state": {
            "_model_module": "@jupyter-widgets/base",
            "_model_module_version": "1.2.0",
            "_model_name": "LayoutModel",
            "_view_count": null,
            "_view_module": "@jupyter-widgets/base",
            "_view_module_version": "1.2.0",
            "_view_name": "LayoutView",
            "align_content": null,
            "align_items": null,
            "align_self": null,
            "border": null,
            "bottom": null,
            "display": null,
            "flex": null,
            "flex_flow": null,
            "grid_area": null,
            "grid_auto_columns": null,
            "grid_auto_flow": null,
            "grid_auto_rows": null,
            "grid_column": null,
            "grid_gap": null,
            "grid_row": null,
            "grid_template_areas": null,
            "grid_template_columns": null,
            "grid_template_rows": null,
            "height": null,
            "justify_content": null,
            "justify_items": null,
            "left": null,
            "margin": null,
            "max_height": null,
            "max_width": null,
            "min_height": null,
            "min_width": null,
            "object_fit": null,
            "object_position": null,
            "order": null,
            "overflow": null,
            "overflow_x": null,
            "overflow_y": null,
            "padding": null,
            "right": null,
            "top": null,
            "visibility": null,
            "width": null
          }
        },
        "d687e8ad2b294e768d330d39ab1946ce": {
          "model_module": "@jupyter-widgets/controls",
          "model_name": "DescriptionStyleModel",
          "model_module_version": "1.5.0",
          "state": {
            "_model_module": "@jupyter-widgets/controls",
            "_model_module_version": "1.5.0",
            "_model_name": "DescriptionStyleModel",
            "_view_count": null,
            "_view_module": "@jupyter-widgets/base",
            "_view_module_version": "1.2.0",
            "_view_name": "StyleView",
            "description_width": ""
          }
        },
        "6799d4b0685b4b5582784b19be77069b": {
          "model_module": "@jupyter-widgets/controls",
          "model_name": "HBoxModel",
          "model_module_version": "1.5.0",
          "state": {
            "_dom_classes": [],
            "_model_module": "@jupyter-widgets/controls",
            "_model_module_version": "1.5.0",
            "_model_name": "HBoxModel",
            "_view_count": null,
            "_view_module": "@jupyter-widgets/controls",
            "_view_module_version": "1.5.0",
            "_view_name": "HBoxView",
            "box_style": "",
            "children": [
              "IPY_MODEL_e75c2d76c274467194e5049c44e8e495",
              "IPY_MODEL_2f449cff6cd34cd1a931b8c83a3c292a",
              "IPY_MODEL_d350d52340f14520b9a3bdd57bb8a95c"
            ],
            "layout": "IPY_MODEL_899f6620d3004ba18375e6d70899057c"
          }
        },
        "e75c2d76c274467194e5049c44e8e495": {
          "model_module": "@jupyter-widgets/controls",
          "model_name": "HTMLModel",
          "model_module_version": "1.5.0",
          "state": {
            "_dom_classes": [],
            "_model_module": "@jupyter-widgets/controls",
            "_model_module_version": "1.5.0",
            "_model_name": "HTMLModel",
            "_view_count": null,
            "_view_module": "@jupyter-widgets/controls",
            "_view_module_version": "1.5.0",
            "_view_name": "HTMLView",
            "description": "",
            "description_tooltip": null,
            "layout": "IPY_MODEL_4fe53ba9e8554695a5d01150e6139f3b",
            "placeholder": "​",
            "style": "IPY_MODEL_f423d0d244a44cc5bc1150ea9b8c24f2",
            "value": "model.safetensors: 100%"
          }
        },
        "2f449cff6cd34cd1a931b8c83a3c292a": {
          "model_module": "@jupyter-widgets/controls",
          "model_name": "FloatProgressModel",
          "model_module_version": "1.5.0",
          "state": {
            "_dom_classes": [],
            "_model_module": "@jupyter-widgets/controls",
            "_model_module_version": "1.5.0",
            "_model_name": "FloatProgressModel",
            "_view_count": null,
            "_view_module": "@jupyter-widgets/controls",
            "_view_module_version": "1.5.0",
            "_view_name": "ProgressView",
            "bar_style": "success",
            "description": "",
            "description_tooltip": null,
            "layout": "IPY_MODEL_b663fc477b87471fb6dcc3f4af3e8377",
            "max": 440449768,
            "min": 0,
            "orientation": "horizontal",
            "style": "IPY_MODEL_afff29ea55f84468abf80ab1276bab57",
            "value": 440449768
          }
        },
        "d350d52340f14520b9a3bdd57bb8a95c": {
          "model_module": "@jupyter-widgets/controls",
          "model_name": "HTMLModel",
          "model_module_version": "1.5.0",
          "state": {
            "_dom_classes": [],
            "_model_module": "@jupyter-widgets/controls",
            "_model_module_version": "1.5.0",
            "_model_name": "HTMLModel",
            "_view_count": null,
            "_view_module": "@jupyter-widgets/controls",
            "_view_module_version": "1.5.0",
            "_view_name": "HTMLView",
            "description": "",
            "description_tooltip": null,
            "layout": "IPY_MODEL_9070e6d9bc8148dd993cafeac9806e41",
            "placeholder": "​",
            "style": "IPY_MODEL_c485c46a5d444e16809ab508f8e5abf2",
            "value": " 440M/440M [00:01&lt;00:00, 244MB/s]"
          }
        },
        "899f6620d3004ba18375e6d70899057c": {
          "model_module": "@jupyter-widgets/base",
          "model_name": "LayoutModel",
          "model_module_version": "1.2.0",
          "state": {
            "_model_module": "@jupyter-widgets/base",
            "_model_module_version": "1.2.0",
            "_model_name": "LayoutModel",
            "_view_count": null,
            "_view_module": "@jupyter-widgets/base",
            "_view_module_version": "1.2.0",
            "_view_name": "LayoutView",
            "align_content": null,
            "align_items": null,
            "align_self": null,
            "border": null,
            "bottom": null,
            "display": null,
            "flex": null,
            "flex_flow": null,
            "grid_area": null,
            "grid_auto_columns": null,
            "grid_auto_flow": null,
            "grid_auto_rows": null,
            "grid_column": null,
            "grid_gap": null,
            "grid_row": null,
            "grid_template_areas": null,
            "grid_template_columns": null,
            "grid_template_rows": null,
            "height": null,
            "justify_content": null,
            "justify_items": null,
            "left": null,
            "margin": null,
            "max_height": null,
            "max_width": null,
            "min_height": null,
            "min_width": null,
            "object_fit": null,
            "object_position": null,
            "order": null,
            "overflow": null,
            "overflow_x": null,
            "overflow_y": null,
            "padding": null,
            "right": null,
            "top": null,
            "visibility": null,
            "width": null
          }
        },
        "4fe53ba9e8554695a5d01150e6139f3b": {
          "model_module": "@jupyter-widgets/base",
          "model_name": "LayoutModel",
          "model_module_version": "1.2.0",
          "state": {
            "_model_module": "@jupyter-widgets/base",
            "_model_module_version": "1.2.0",
            "_model_name": "LayoutModel",
            "_view_count": null,
            "_view_module": "@jupyter-widgets/base",
            "_view_module_version": "1.2.0",
            "_view_name": "LayoutView",
            "align_content": null,
            "align_items": null,
            "align_self": null,
            "border": null,
            "bottom": null,
            "display": null,
            "flex": null,
            "flex_flow": null,
            "grid_area": null,
            "grid_auto_columns": null,
            "grid_auto_flow": null,
            "grid_auto_rows": null,
            "grid_column": null,
            "grid_gap": null,
            "grid_row": null,
            "grid_template_areas": null,
            "grid_template_columns": null,
            "grid_template_rows": null,
            "height": null,
            "justify_content": null,
            "justify_items": null,
            "left": null,
            "margin": null,
            "max_height": null,
            "max_width": null,
            "min_height": null,
            "min_width": null,
            "object_fit": null,
            "object_position": null,
            "order": null,
            "overflow": null,
            "overflow_x": null,
            "overflow_y": null,
            "padding": null,
            "right": null,
            "top": null,
            "visibility": null,
            "width": null
          }
        },
        "f423d0d244a44cc5bc1150ea9b8c24f2": {
          "model_module": "@jupyter-widgets/controls",
          "model_name": "DescriptionStyleModel",
          "model_module_version": "1.5.0",
          "state": {
            "_model_module": "@jupyter-widgets/controls",
            "_model_module_version": "1.5.0",
            "_model_name": "DescriptionStyleModel",
            "_view_count": null,
            "_view_module": "@jupyter-widgets/base",
            "_view_module_version": "1.2.0",
            "_view_name": "StyleView",
            "description_width": ""
          }
        },
        "b663fc477b87471fb6dcc3f4af3e8377": {
          "model_module": "@jupyter-widgets/base",
          "model_name": "LayoutModel",
          "model_module_version": "1.2.0",
          "state": {
            "_model_module": "@jupyter-widgets/base",
            "_model_module_version": "1.2.0",
            "_model_name": "LayoutModel",
            "_view_count": null,
            "_view_module": "@jupyter-widgets/base",
            "_view_module_version": "1.2.0",
            "_view_name": "LayoutView",
            "align_content": null,
            "align_items": null,
            "align_self": null,
            "border": null,
            "bottom": null,
            "display": null,
            "flex": null,
            "flex_flow": null,
            "grid_area": null,
            "grid_auto_columns": null,
            "grid_auto_flow": null,
            "grid_auto_rows": null,
            "grid_column": null,
            "grid_gap": null,
            "grid_row": null,
            "grid_template_areas": null,
            "grid_template_columns": null,
            "grid_template_rows": null,
            "height": null,
            "justify_content": null,
            "justify_items": null,
            "left": null,
            "margin": null,
            "max_height": null,
            "max_width": null,
            "min_height": null,
            "min_width": null,
            "object_fit": null,
            "object_position": null,
            "order": null,
            "overflow": null,
            "overflow_x": null,
            "overflow_y": null,
            "padding": null,
            "right": null,
            "top": null,
            "visibility": null,
            "width": null
          }
        },
        "afff29ea55f84468abf80ab1276bab57": {
          "model_module": "@jupyter-widgets/controls",
          "model_name": "ProgressStyleModel",
          "model_module_version": "1.5.0",
          "state": {
            "_model_module": "@jupyter-widgets/controls",
            "_model_module_version": "1.5.0",
            "_model_name": "ProgressStyleModel",
            "_view_count": null,
            "_view_module": "@jupyter-widgets/base",
            "_view_module_version": "1.2.0",
            "_view_name": "StyleView",
            "bar_color": null,
            "description_width": ""
          }
        },
        "9070e6d9bc8148dd993cafeac9806e41": {
          "model_module": "@jupyter-widgets/base",
          "model_name": "LayoutModel",
          "model_module_version": "1.2.0",
          "state": {
            "_model_module": "@jupyter-widgets/base",
            "_model_module_version": "1.2.0",
            "_model_name": "LayoutModel",
            "_view_count": null,
            "_view_module": "@jupyter-widgets/base",
            "_view_module_version": "1.2.0",
            "_view_name": "LayoutView",
            "align_content": null,
            "align_items": null,
            "align_self": null,
            "border": null,
            "bottom": null,
            "display": null,
            "flex": null,
            "flex_flow": null,
            "grid_area": null,
            "grid_auto_columns": null,
            "grid_auto_flow": null,
            "grid_auto_rows": null,
            "grid_column": null,
            "grid_gap": null,
            "grid_row": null,
            "grid_template_areas": null,
            "grid_template_columns": null,
            "grid_template_rows": null,
            "height": null,
            "justify_content": null,
            "justify_items": null,
            "left": null,
            "margin": null,
            "max_height": null,
            "max_width": null,
            "min_height": null,
            "min_width": null,
            "object_fit": null,
            "object_position": null,
            "order": null,
            "overflow": null,
            "overflow_x": null,
            "overflow_y": null,
            "padding": null,
            "right": null,
            "top": null,
            "visibility": null,
            "width": null
          }
        },
        "c485c46a5d444e16809ab508f8e5abf2": {
          "model_module": "@jupyter-widgets/controls",
          "model_name": "DescriptionStyleModel",
          "model_module_version": "1.5.0",
          "state": {
            "_model_module": "@jupyter-widgets/controls",
            "_model_module_version": "1.5.0",
            "_model_name": "DescriptionStyleModel",
            "_view_count": null,
            "_view_module": "@jupyter-widgets/base",
            "_view_module_version": "1.2.0",
            "_view_name": "StyleView",
            "description_width": ""
          }
        }
      }
    }
  },
  "cells": [
    {
      "cell_type": "markdown",
      "metadata": {
        "id": "view-in-github",
        "colab_type": "text"
      },
      "source": [
        "<a href=\"https://colab.research.google.com/github/torontodeveloper/berkeley-ai-llm-foundations/blob/main/KevinKakollaNaturalLanguageProcessing.ipynb\" target=\"_parent\"><img src=\"https://colab.research.google.com/assets/colab-badge.svg\" alt=\"Open In Colab\"/></a>"
      ]
    },
    {
      "cell_type": "markdown",
      "source": [
        "# Student Name: Kevin Kakolla\n",
        "# Student Number: X257515"
      ],
      "metadata": {
        "id": "jKlw3idKfKFR"
      }
    },
    {
      "cell_type": "code",
      "execution_count": null,
      "metadata": {
        "id": "-TGHEVMJe7rX"
      },
      "outputs": [],
      "source": [
        "#import libraries\n",
        "import tensorflow as tf\n",
        "import numpy as np\n",
        "import pandas as pd\n",
        "import matplotlib.pyplot as plt\n",
        "from sklearn.model_selection import train_test_split\n",
        "import keras\n",
        "import tensorflow as tf\n",
        "import plotly.express as px\n",
        "from sklearn.feature_extraction.text import TfidfVectorizer\n",
        "import nltk\n",
        "from tensorflow.keras import layers,models,Sequential"
      ]
    },
    {
      "cell_type": "code",
      "source": [
        "nltk.download('stopwords')"
      ],
      "metadata": {
        "colab": {
          "base_uri": "https://localhost:8080/"
        },
        "id": "zviucjwhfezL",
        "outputId": "41b2ba2d-a689-4230-dbaa-d86a934034d1"
      },
      "execution_count": null,
      "outputs": [
        {
          "output_type": "stream",
          "name": "stderr",
          "text": [
            "[nltk_data] Downloading package stopwords to /root/nltk_data...\n",
            "[nltk_data]   Unzipping corpora/stopwords.zip.\n"
          ]
        },
        {
          "output_type": "execute_result",
          "data": {
            "text/plain": [
              "True"
            ]
          },
          "metadata": {},
          "execution_count": 2
        }
      ]
    },
    {
      "cell_type": "code",
      "source": [
        "print(tf.config.list_physical_devices('GPU'))"
      ],
      "metadata": {
        "colab": {
          "base_uri": "https://localhost:8080/"
        },
        "id": "1wwcTWLpfWzQ",
        "outputId": "f01b0b24-848b-462c-de79-63cbea9b916d"
      },
      "execution_count": null,
      "outputs": [
        {
          "output_type": "stream",
          "name": "stdout",
          "text": [
            "[PhysicalDevice(name='/physical_device:GPU:0', device_type='GPU')]\n"
          ]
        }
      ]
    },
    {
      "cell_type": "code",
      "source": [
        "gpus = tf.config.list_physical_devices('GPU')\n",
        "for gpu in gpus:\n",
        "        tf.config.experimental.set_memory_growth(gpu, True)"
      ],
      "metadata": {
        "id": "STisngQxfdIh"
      },
      "execution_count": null,
      "outputs": []
    },
    {
      "cell_type": "code",
      "source": [
        "tf.debugging.set_log_device_placement(True)"
      ],
      "metadata": {
        "id": "u7jtmnCXfjc7"
      },
      "execution_count": null,
      "outputs": []
    },
    {
      "cell_type": "code",
      "source": [
        "from google.colab import files\n",
        "files.upload()"
      ],
      "metadata": {
        "colab": {
          "base_uri": "https://localhost:8080/",
          "height": 91
        },
        "id": "aUkxoD2cflgA",
        "outputId": "f72db8bc-95a1-4511-f74a-a21a44ab59cf"
      },
      "execution_count": null,
      "outputs": [
        {
          "output_type": "display_data",
          "data": {
            "text/plain": [
              "<IPython.core.display.HTML object>"
            ],
            "text/html": [
              "\n",
              "     <input type=\"file\" id=\"files-928de15a-f8df-4719-b4d2-34afb619c797\" name=\"files[]\" multiple disabled\n",
              "        style=\"border:none\" />\n",
              "     <output id=\"result-928de15a-f8df-4719-b4d2-34afb619c797\">\n",
              "      Upload widget is only available when the cell has been executed in the\n",
              "      current browser session. Please rerun this cell to enable.\n",
              "      </output>\n",
              "      <script>// Copyright 2017 Google LLC\n",
              "//\n",
              "// Licensed under the Apache License, Version 2.0 (the \"License\");\n",
              "// you may not use this file except in compliance with the License.\n",
              "// You may obtain a copy of the License at\n",
              "//\n",
              "//      http://www.apache.org/licenses/LICENSE-2.0\n",
              "//\n",
              "// Unless required by applicable law or agreed to in writing, software\n",
              "// distributed under the License is distributed on an \"AS IS\" BASIS,\n",
              "// WITHOUT WARRANTIES OR CONDITIONS OF ANY KIND, either express or implied.\n",
              "// See the License for the specific language governing permissions and\n",
              "// limitations under the License.\n",
              "\n",
              "/**\n",
              " * @fileoverview Helpers for google.colab Python module.\n",
              " */\n",
              "(function(scope) {\n",
              "function span(text, styleAttributes = {}) {\n",
              "  const element = document.createElement('span');\n",
              "  element.textContent = text;\n",
              "  for (const key of Object.keys(styleAttributes)) {\n",
              "    element.style[key] = styleAttributes[key];\n",
              "  }\n",
              "  return element;\n",
              "}\n",
              "\n",
              "// Max number of bytes which will be uploaded at a time.\n",
              "const MAX_PAYLOAD_SIZE = 100 * 1024;\n",
              "\n",
              "function _uploadFiles(inputId, outputId) {\n",
              "  const steps = uploadFilesStep(inputId, outputId);\n",
              "  const outputElement = document.getElementById(outputId);\n",
              "  // Cache steps on the outputElement to make it available for the next call\n",
              "  // to uploadFilesContinue from Python.\n",
              "  outputElement.steps = steps;\n",
              "\n",
              "  return _uploadFilesContinue(outputId);\n",
              "}\n",
              "\n",
              "// This is roughly an async generator (not supported in the browser yet),\n",
              "// where there are multiple asynchronous steps and the Python side is going\n",
              "// to poll for completion of each step.\n",
              "// This uses a Promise to block the python side on completion of each step,\n",
              "// then passes the result of the previous step as the input to the next step.\n",
              "function _uploadFilesContinue(outputId) {\n",
              "  const outputElement = document.getElementById(outputId);\n",
              "  const steps = outputElement.steps;\n",
              "\n",
              "  const next = steps.next(outputElement.lastPromiseValue);\n",
              "  return Promise.resolve(next.value.promise).then((value) => {\n",
              "    // Cache the last promise value to make it available to the next\n",
              "    // step of the generator.\n",
              "    outputElement.lastPromiseValue = value;\n",
              "    return next.value.response;\n",
              "  });\n",
              "}\n",
              "\n",
              "/**\n",
              " * Generator function which is called between each async step of the upload\n",
              " * process.\n",
              " * @param {string} inputId Element ID of the input file picker element.\n",
              " * @param {string} outputId Element ID of the output display.\n",
              " * @return {!Iterable<!Object>} Iterable of next steps.\n",
              " */\n",
              "function* uploadFilesStep(inputId, outputId) {\n",
              "  const inputElement = document.getElementById(inputId);\n",
              "  inputElement.disabled = false;\n",
              "\n",
              "  const outputElement = document.getElementById(outputId);\n",
              "  outputElement.innerHTML = '';\n",
              "\n",
              "  const pickedPromise = new Promise((resolve) => {\n",
              "    inputElement.addEventListener('change', (e) => {\n",
              "      resolve(e.target.files);\n",
              "    });\n",
              "  });\n",
              "\n",
              "  const cancel = document.createElement('button');\n",
              "  inputElement.parentElement.appendChild(cancel);\n",
              "  cancel.textContent = 'Cancel upload';\n",
              "  const cancelPromise = new Promise((resolve) => {\n",
              "    cancel.onclick = () => {\n",
              "      resolve(null);\n",
              "    };\n",
              "  });\n",
              "\n",
              "  // Wait for the user to pick the files.\n",
              "  const files = yield {\n",
              "    promise: Promise.race([pickedPromise, cancelPromise]),\n",
              "    response: {\n",
              "      action: 'starting',\n",
              "    }\n",
              "  };\n",
              "\n",
              "  cancel.remove();\n",
              "\n",
              "  // Disable the input element since further picks are not allowed.\n",
              "  inputElement.disabled = true;\n",
              "\n",
              "  if (!files) {\n",
              "    return {\n",
              "      response: {\n",
              "        action: 'complete',\n",
              "      }\n",
              "    };\n",
              "  }\n",
              "\n",
              "  for (const file of files) {\n",
              "    const li = document.createElement('li');\n",
              "    li.append(span(file.name, {fontWeight: 'bold'}));\n",
              "    li.append(span(\n",
              "        `(${file.type || 'n/a'}) - ${file.size} bytes, ` +\n",
              "        `last modified: ${\n",
              "            file.lastModifiedDate ? file.lastModifiedDate.toLocaleDateString() :\n",
              "                                    'n/a'} - `));\n",
              "    const percent = span('0% done');\n",
              "    li.appendChild(percent);\n",
              "\n",
              "    outputElement.appendChild(li);\n",
              "\n",
              "    const fileDataPromise = new Promise((resolve) => {\n",
              "      const reader = new FileReader();\n",
              "      reader.onload = (e) => {\n",
              "        resolve(e.target.result);\n",
              "      };\n",
              "      reader.readAsArrayBuffer(file);\n",
              "    });\n",
              "    // Wait for the data to be ready.\n",
              "    let fileData = yield {\n",
              "      promise: fileDataPromise,\n",
              "      response: {\n",
              "        action: 'continue',\n",
              "      }\n",
              "    };\n",
              "\n",
              "    // Use a chunked sending to avoid message size limits. See b/62115660.\n",
              "    let position = 0;\n",
              "    do {\n",
              "      const length = Math.min(fileData.byteLength - position, MAX_PAYLOAD_SIZE);\n",
              "      const chunk = new Uint8Array(fileData, position, length);\n",
              "      position += length;\n",
              "\n",
              "      const base64 = btoa(String.fromCharCode.apply(null, chunk));\n",
              "      yield {\n",
              "        response: {\n",
              "          action: 'append',\n",
              "          file: file.name,\n",
              "          data: base64,\n",
              "        },\n",
              "      };\n",
              "\n",
              "      let percentDone = fileData.byteLength === 0 ?\n",
              "          100 :\n",
              "          Math.round((position / fileData.byteLength) * 100);\n",
              "      percent.textContent = `${percentDone}% done`;\n",
              "\n",
              "    } while (position < fileData.byteLength);\n",
              "  }\n",
              "\n",
              "  // All done.\n",
              "  yield {\n",
              "    response: {\n",
              "      action: 'complete',\n",
              "    }\n",
              "  };\n",
              "}\n",
              "\n",
              "scope.google = scope.google || {};\n",
              "scope.google.colab = scope.google.colab || {};\n",
              "scope.google.colab._files = {\n",
              "  _uploadFiles,\n",
              "  _uploadFilesContinue,\n",
              "};\n",
              "})(self);\n",
              "</script> "
            ]
          },
          "metadata": {}
        },
        {
          "output_type": "stream",
          "name": "stdout",
          "text": [
            "Saving kaggle (5).json to kaggle (5).json\n"
          ]
        },
        {
          "output_type": "execute_result",
          "data": {
            "text/plain": [
              "{'kaggle (5).json': b'{\"username\":\"nageswarraokakolla\",\"key\":\"548ab64ccef1add72a9d2663b0b48f98\"}'}"
            ]
          },
          "metadata": {},
          "execution_count": 6
        }
      ]
    },
    {
      "cell_type": "code",
      "source": [
        "# Make a directory named .kaggle\n",
        "!mkdir -p ~/.kaggle\n",
        "\n",
        "# Copy the kaggle.json to this new directory\n",
        "!cp kaggle.json ~/.kaggle/\n",
        "\n",
        "# Change the permissions of the file\n",
        "!chmod 600 ~/.kaggle/kaggle.json"
      ],
      "metadata": {
        "id": "2bWv0T5wfnRh"
      },
      "execution_count": null,
      "outputs": []
    },
    {
      "cell_type": "code",
      "source": [
        "# Install Kaggle API\n",
        "!pip install kaggle\n",
        "\n",
        "# Download the dataset\n",
        "!kaggle competitions download -c friendsimdbratingprediction"
      ],
      "metadata": {
        "colab": {
          "base_uri": "https://localhost:8080/"
        },
        "id": "zQq7ANcIfr15",
        "outputId": "3cf2b398-099a-41f8-b52d-c6300f3e4e7d"
      },
      "execution_count": null,
      "outputs": [
        {
          "output_type": "stream",
          "name": "stdout",
          "text": [
            "Requirement already satisfied: kaggle in /usr/local/lib/python3.10/dist-packages (1.6.17)\n",
            "Requirement already satisfied: six>=1.10 in /usr/local/lib/python3.10/dist-packages (from kaggle) (1.17.0)\n",
            "Requirement already satisfied: certifi>=2023.7.22 in /usr/local/lib/python3.10/dist-packages (from kaggle) (2024.12.14)\n",
            "Requirement already satisfied: python-dateutil in /usr/local/lib/python3.10/dist-packages (from kaggle) (2.8.2)\n",
            "Requirement already satisfied: requests in /usr/local/lib/python3.10/dist-packages (from kaggle) (2.32.3)\n",
            "Requirement already satisfied: tqdm in /usr/local/lib/python3.10/dist-packages (from kaggle) (4.67.1)\n",
            "Requirement already satisfied: python-slugify in /usr/local/lib/python3.10/dist-packages (from kaggle) (8.0.4)\n",
            "Requirement already satisfied: urllib3 in /usr/local/lib/python3.10/dist-packages (from kaggle) (2.2.3)\n",
            "Requirement already satisfied: bleach in /usr/local/lib/python3.10/dist-packages (from kaggle) (6.2.0)\n",
            "Requirement already satisfied: webencodings in /usr/local/lib/python3.10/dist-packages (from bleach->kaggle) (0.5.1)\n",
            "Requirement already satisfied: text-unidecode>=1.3 in /usr/local/lib/python3.10/dist-packages (from python-slugify->kaggle) (1.3)\n",
            "Requirement already satisfied: charset-normalizer<4,>=2 in /usr/local/lib/python3.10/dist-packages (from requests->kaggle) (3.4.0)\n",
            "Requirement already satisfied: idna<4,>=2.5 in /usr/local/lib/python3.10/dist-packages (from requests->kaggle) (3.10)\n",
            "Downloading friendsimdbratingprediction.zip to /content\n",
            "  0% 0.00/1.61M [00:00<?, ?B/s]\n",
            "100% 1.61M/1.61M [00:00<00:00, 159MB/s]\n"
          ]
        }
      ]
    },
    {
      "cell_type": "code",
      "source": [
        "!unzip /content/friendsimdbratingprediction.zip"
      ],
      "metadata": {
        "colab": {
          "base_uri": "https://localhost:8080/"
        },
        "id": "04ODjcmrjjj-",
        "outputId": "a78173c1-26c8-4714-8954-415abf711432"
      },
      "execution_count": null,
      "outputs": [
        {
          "output_type": "stream",
          "name": "stdout",
          "text": [
            "Archive:  /content/friendsimdbratingprediction.zip\n",
            "  inflating: friends_hackathon_zip (1)/friends_hackathon/friends_test_file.csv  \n",
            "  inflating: friends_hackathon_zip (1)/friends_hackathon/friends_train_ratings.csv  \n",
            "  inflating: friends_hackathon_zip (1)/friends_hackathon/season_01.csv  \n",
            "  inflating: friends_hackathon_zip (1)/friends_hackathon/season_02.csv  \n",
            "  inflating: friends_hackathon_zip (1)/friends_hackathon/season_03.csv  \n",
            "  inflating: friends_hackathon_zip (1)/friends_hackathon/season_04.csv  \n",
            "  inflating: friends_hackathon_zip (1)/friends_hackathon/season_05.csv  \n",
            "  inflating: friends_hackathon_zip (1)/friends_hackathon/season_06.csv  \n",
            "  inflating: friends_hackathon_zip (1)/friends_hackathon/season_07.csv  \n",
            "  inflating: friends_hackathon_zip (1)/friends_hackathon/season_08.csv  \n"
          ]
        }
      ]
    },
    {
      "cell_type": "code",
      "source": [
        "friends_train_df = pd.read_csv('/content/friends_hackathon_zip (1)/friends_hackathon/friends_train_ratings.csv')"
      ],
      "metadata": {
        "id": "4-76sSQslDFH"
      },
      "execution_count": null,
      "outputs": []
    },
    {
      "cell_type": "code",
      "source": [
        "friends_test_df = pd.read_csv('/content/friends_hackathon_zip (1)/friends_hackathon/friends_test_file.csv')"
      ],
      "metadata": {
        "id": "1RMXs4AUlWeM"
      },
      "execution_count": null,
      "outputs": []
    },
    {
      "cell_type": "code",
      "source": [
        "friends_train_df.head(2)"
      ],
      "metadata": {
        "colab": {
          "base_uri": "https://localhost:8080/",
          "height": 147
        },
        "id": "EbP8R0hVldce",
        "outputId": "64d27ec0-122e-4325-b7b4-3ae54c27ca4e"
      },
      "execution_count": null,
      "outputs": [
        {
          "output_type": "execute_result",
          "data": {
            "text/plain": [
              "                                  title  \\\n",
              "0  The One Where Monica Gets a Roommate   \n",
              "1  The One with the Sonogram at the End   \n",
              "\n",
              "                                                plot  ratings          date  \\\n",
              "0  Monica and the gang introduce Rachel to the \"r...      8.3  22 Sep. 1994   \n",
              "1  Ross finds out his ex-wife is pregnant. Rachel...      8.0  29 Sep. 1994   \n",
              "\n",
              "  total_reviews  \n",
              "0        -8,583  \n",
              "1        -6,607  "
            ],
            "text/html": [
              "\n",
              "  <div id=\"df-ed948af5-67cf-4f4c-bf60-9a13c53e24ad\" class=\"colab-df-container\">\n",
              "    <div>\n",
              "<style scoped>\n",
              "    .dataframe tbody tr th:only-of-type {\n",
              "        vertical-align: middle;\n",
              "    }\n",
              "\n",
              "    .dataframe tbody tr th {\n",
              "        vertical-align: top;\n",
              "    }\n",
              "\n",
              "    .dataframe thead th {\n",
              "        text-align: right;\n",
              "    }\n",
              "</style>\n",
              "<table border=\"1\" class=\"dataframe\">\n",
              "  <thead>\n",
              "    <tr style=\"text-align: right;\">\n",
              "      <th></th>\n",
              "      <th>title</th>\n",
              "      <th>plot</th>\n",
              "      <th>ratings</th>\n",
              "      <th>date</th>\n",
              "      <th>total_reviews</th>\n",
              "    </tr>\n",
              "  </thead>\n",
              "  <tbody>\n",
              "    <tr>\n",
              "      <th>0</th>\n",
              "      <td>The One Where Monica Gets a Roommate</td>\n",
              "      <td>Monica and the gang introduce Rachel to the \"r...</td>\n",
              "      <td>8.3</td>\n",
              "      <td>22 Sep. 1994</td>\n",
              "      <td>-8,583</td>\n",
              "    </tr>\n",
              "    <tr>\n",
              "      <th>1</th>\n",
              "      <td>The One with the Sonogram at the End</td>\n",
              "      <td>Ross finds out his ex-wife is pregnant. Rachel...</td>\n",
              "      <td>8.0</td>\n",
              "      <td>29 Sep. 1994</td>\n",
              "      <td>-6,607</td>\n",
              "    </tr>\n",
              "  </tbody>\n",
              "</table>\n",
              "</div>\n",
              "    <div class=\"colab-df-buttons\">\n",
              "\n",
              "  <div class=\"colab-df-container\">\n",
              "    <button class=\"colab-df-convert\" onclick=\"convertToInteractive('df-ed948af5-67cf-4f4c-bf60-9a13c53e24ad')\"\n",
              "            title=\"Convert this dataframe to an interactive table.\"\n",
              "            style=\"display:none;\">\n",
              "\n",
              "  <svg xmlns=\"http://www.w3.org/2000/svg\" height=\"24px\" viewBox=\"0 -960 960 960\">\n",
              "    <path d=\"M120-120v-720h720v720H120Zm60-500h600v-160H180v160Zm220 220h160v-160H400v160Zm0 220h160v-160H400v160ZM180-400h160v-160H180v160Zm440 0h160v-160H620v160ZM180-180h160v-160H180v160Zm440 0h160v-160H620v160Z\"/>\n",
              "  </svg>\n",
              "    </button>\n",
              "\n",
              "  <style>\n",
              "    .colab-df-container {\n",
              "      display:flex;\n",
              "      gap: 12px;\n",
              "    }\n",
              "\n",
              "    .colab-df-convert {\n",
              "      background-color: #E8F0FE;\n",
              "      border: none;\n",
              "      border-radius: 50%;\n",
              "      cursor: pointer;\n",
              "      display: none;\n",
              "      fill: #1967D2;\n",
              "      height: 32px;\n",
              "      padding: 0 0 0 0;\n",
              "      width: 32px;\n",
              "    }\n",
              "\n",
              "    .colab-df-convert:hover {\n",
              "      background-color: #E2EBFA;\n",
              "      box-shadow: 0px 1px 2px rgba(60, 64, 67, 0.3), 0px 1px 3px 1px rgba(60, 64, 67, 0.15);\n",
              "      fill: #174EA6;\n",
              "    }\n",
              "\n",
              "    .colab-df-buttons div {\n",
              "      margin-bottom: 4px;\n",
              "    }\n",
              "\n",
              "    [theme=dark] .colab-df-convert {\n",
              "      background-color: #3B4455;\n",
              "      fill: #D2E3FC;\n",
              "    }\n",
              "\n",
              "    [theme=dark] .colab-df-convert:hover {\n",
              "      background-color: #434B5C;\n",
              "      box-shadow: 0px 1px 3px 1px rgba(0, 0, 0, 0.15);\n",
              "      filter: drop-shadow(0px 1px 2px rgba(0, 0, 0, 0.3));\n",
              "      fill: #FFFFFF;\n",
              "    }\n",
              "  </style>\n",
              "\n",
              "    <script>\n",
              "      const buttonEl =\n",
              "        document.querySelector('#df-ed948af5-67cf-4f4c-bf60-9a13c53e24ad button.colab-df-convert');\n",
              "      buttonEl.style.display =\n",
              "        google.colab.kernel.accessAllowed ? 'block' : 'none';\n",
              "\n",
              "      async function convertToInteractive(key) {\n",
              "        const element = document.querySelector('#df-ed948af5-67cf-4f4c-bf60-9a13c53e24ad');\n",
              "        const dataTable =\n",
              "          await google.colab.kernel.invokeFunction('convertToInteractive',\n",
              "                                                    [key], {});\n",
              "        if (!dataTable) return;\n",
              "\n",
              "        const docLinkHtml = 'Like what you see? Visit the ' +\n",
              "          '<a target=\"_blank\" href=https://colab.research.google.com/notebooks/data_table.ipynb>data table notebook</a>'\n",
              "          + ' to learn more about interactive tables.';\n",
              "        element.innerHTML = '';\n",
              "        dataTable['output_type'] = 'display_data';\n",
              "        await google.colab.output.renderOutput(dataTable, element);\n",
              "        const docLink = document.createElement('div');\n",
              "        docLink.innerHTML = docLinkHtml;\n",
              "        element.appendChild(docLink);\n",
              "      }\n",
              "    </script>\n",
              "  </div>\n",
              "\n",
              "\n",
              "<div id=\"df-1c73edde-440d-4cb6-b0e5-38fe37280bee\">\n",
              "  <button class=\"colab-df-quickchart\" onclick=\"quickchart('df-1c73edde-440d-4cb6-b0e5-38fe37280bee')\"\n",
              "            title=\"Suggest charts\"\n",
              "            style=\"display:none;\">\n",
              "\n",
              "<svg xmlns=\"http://www.w3.org/2000/svg\" height=\"24px\"viewBox=\"0 0 24 24\"\n",
              "     width=\"24px\">\n",
              "    <g>\n",
              "        <path d=\"M19 3H5c-1.1 0-2 .9-2 2v14c0 1.1.9 2 2 2h14c1.1 0 2-.9 2-2V5c0-1.1-.9-2-2-2zM9 17H7v-7h2v7zm4 0h-2V7h2v10zm4 0h-2v-4h2v4z\"/>\n",
              "    </g>\n",
              "</svg>\n",
              "  </button>\n",
              "\n",
              "<style>\n",
              "  .colab-df-quickchart {\n",
              "      --bg-color: #E8F0FE;\n",
              "      --fill-color: #1967D2;\n",
              "      --hover-bg-color: #E2EBFA;\n",
              "      --hover-fill-color: #174EA6;\n",
              "      --disabled-fill-color: #AAA;\n",
              "      --disabled-bg-color: #DDD;\n",
              "  }\n",
              "\n",
              "  [theme=dark] .colab-df-quickchart {\n",
              "      --bg-color: #3B4455;\n",
              "      --fill-color: #D2E3FC;\n",
              "      --hover-bg-color: #434B5C;\n",
              "      --hover-fill-color: #FFFFFF;\n",
              "      --disabled-bg-color: #3B4455;\n",
              "      --disabled-fill-color: #666;\n",
              "  }\n",
              "\n",
              "  .colab-df-quickchart {\n",
              "    background-color: var(--bg-color);\n",
              "    border: none;\n",
              "    border-radius: 50%;\n",
              "    cursor: pointer;\n",
              "    display: none;\n",
              "    fill: var(--fill-color);\n",
              "    height: 32px;\n",
              "    padding: 0;\n",
              "    width: 32px;\n",
              "  }\n",
              "\n",
              "  .colab-df-quickchart:hover {\n",
              "    background-color: var(--hover-bg-color);\n",
              "    box-shadow: 0 1px 2px rgba(60, 64, 67, 0.3), 0 1px 3px 1px rgba(60, 64, 67, 0.15);\n",
              "    fill: var(--button-hover-fill-color);\n",
              "  }\n",
              "\n",
              "  .colab-df-quickchart-complete:disabled,\n",
              "  .colab-df-quickchart-complete:disabled:hover {\n",
              "    background-color: var(--disabled-bg-color);\n",
              "    fill: var(--disabled-fill-color);\n",
              "    box-shadow: none;\n",
              "  }\n",
              "\n",
              "  .colab-df-spinner {\n",
              "    border: 2px solid var(--fill-color);\n",
              "    border-color: transparent;\n",
              "    border-bottom-color: var(--fill-color);\n",
              "    animation:\n",
              "      spin 1s steps(1) infinite;\n",
              "  }\n",
              "\n",
              "  @keyframes spin {\n",
              "    0% {\n",
              "      border-color: transparent;\n",
              "      border-bottom-color: var(--fill-color);\n",
              "      border-left-color: var(--fill-color);\n",
              "    }\n",
              "    20% {\n",
              "      border-color: transparent;\n",
              "      border-left-color: var(--fill-color);\n",
              "      border-top-color: var(--fill-color);\n",
              "    }\n",
              "    30% {\n",
              "      border-color: transparent;\n",
              "      border-left-color: var(--fill-color);\n",
              "      border-top-color: var(--fill-color);\n",
              "      border-right-color: var(--fill-color);\n",
              "    }\n",
              "    40% {\n",
              "      border-color: transparent;\n",
              "      border-right-color: var(--fill-color);\n",
              "      border-top-color: var(--fill-color);\n",
              "    }\n",
              "    60% {\n",
              "      border-color: transparent;\n",
              "      border-right-color: var(--fill-color);\n",
              "    }\n",
              "    80% {\n",
              "      border-color: transparent;\n",
              "      border-right-color: var(--fill-color);\n",
              "      border-bottom-color: var(--fill-color);\n",
              "    }\n",
              "    90% {\n",
              "      border-color: transparent;\n",
              "      border-bottom-color: var(--fill-color);\n",
              "    }\n",
              "  }\n",
              "</style>\n",
              "\n",
              "  <script>\n",
              "    async function quickchart(key) {\n",
              "      const quickchartButtonEl =\n",
              "        document.querySelector('#' + key + ' button');\n",
              "      quickchartButtonEl.disabled = true;  // To prevent multiple clicks.\n",
              "      quickchartButtonEl.classList.add('colab-df-spinner');\n",
              "      try {\n",
              "        const charts = await google.colab.kernel.invokeFunction(\n",
              "            'suggestCharts', [key], {});\n",
              "      } catch (error) {\n",
              "        console.error('Error during call to suggestCharts:', error);\n",
              "      }\n",
              "      quickchartButtonEl.classList.remove('colab-df-spinner');\n",
              "      quickchartButtonEl.classList.add('colab-df-quickchart-complete');\n",
              "    }\n",
              "    (() => {\n",
              "      let quickchartButtonEl =\n",
              "        document.querySelector('#df-1c73edde-440d-4cb6-b0e5-38fe37280bee button');\n",
              "      quickchartButtonEl.style.display =\n",
              "        google.colab.kernel.accessAllowed ? 'block' : 'none';\n",
              "    })();\n",
              "  </script>\n",
              "</div>\n",
              "\n",
              "    </div>\n",
              "  </div>\n"
            ],
            "application/vnd.google.colaboratory.intrinsic+json": {
              "type": "dataframe",
              "variable_name": "friends_train_df",
              "summary": "{\n  \"name\": \"friends_train_df\",\n  \"rows\": 195,\n  \"fields\": [\n    {\n      \"column\": \"title\",\n      \"properties\": {\n        \"dtype\": \"string\",\n        \"num_unique_values\": 193,\n        \"samples\": [\n          \"The One with the Two Parties\",\n          \"The One Where Ross Dates a Student\",\n          \"The One with the Ballroom Dancing\"\n        ],\n        \"semantic_type\": \"\",\n        \"description\": \"\"\n      }\n    },\n    {\n      \"column\": \"plot\",\n      \"properties\": {\n        \"dtype\": \"string\",\n        \"num_unique_values\": 195,\n        \"samples\": [\n          \"Ross jeopardizes his career when he starts dating a student from one of his palaeontology classes. Rachel and Phoebe's apartment catches fire.\",\n          \"Rachel switches identities with Monica so she can use her health insurance. Meanwhile, Ursula continues to come between Phoebe and Joey.\",\n          \"Ross wants to introduce Ben to Hanukkah. In order to entice Rachel to move back into their refurbished apartment, Phoebe must drive a wedge between Rachel and current roomie Joey.\"\n        ],\n        \"semantic_type\": \"\",\n        \"description\": \"\"\n      }\n    },\n    {\n      \"column\": \"ratings\",\n      \"properties\": {\n        \"dtype\": \"number\",\n        \"std\": 0.41347255762385177,\n        \"min\": 7.1,\n        \"max\": 9.7,\n        \"num_unique_values\": 22,\n        \"samples\": [\n          8.3,\n          9.4,\n          7.8\n        ],\n        \"semantic_type\": \"\",\n        \"description\": \"\"\n      }\n    },\n    {\n      \"column\": \"date\",\n      \"properties\": {\n        \"dtype\": \"string\",\n        \"num_unique_values\": 186,\n        \"samples\": [\n          \"29 Apr. 1999\",\n          \"11 Oct. 2001\",\n          \"15 Nov. 2001\"\n        ],\n        \"semantic_type\": \"\",\n        \"description\": \"\"\n      }\n    },\n    {\n      \"column\": \"total_reviews\",\n      \"properties\": {\n        \"dtype\": \"string\",\n        \"num_unique_values\": 187,\n        \"samples\": [\n          \"-4,293\",\n          \"-5,519\",\n          \"-4,389\"\n        ],\n        \"semantic_type\": \"\",\n        \"description\": \"\"\n      }\n    }\n  ]\n}"
            }
          },
          "metadata": {},
          "execution_count": 16
        }
      ]
    },
    {
      "cell_type": "code",
      "source": [
        "friends_test_df.head(2)"
      ],
      "metadata": {
        "colab": {
          "base_uri": "https://localhost:8080/",
          "height": 164
        },
        "id": "5c1W3qvglh1F",
        "outputId": "47e933be-dac5-4183-fe33-12e3e4e9567e"
      },
      "execution_count": null,
      "outputs": [
        {
          "output_type": "execute_result",
          "data": {
            "text/plain": [
              "   ID                          title  \\\n",
              "0   1       The One Where Emma Cries   \n",
              "1   2  The One with the Pediatrician   \n",
              "\n",
              "                                                plot          date  \\\n",
              "0  Chandler, having trouble getting enough sleep ...   3 Oct. 2002   \n",
              "1  Joey arranges a blind date for Phoebe. Chandle...  10 Oct. 2002   \n",
              "\n",
              "  total_reviews                                        Transcripts ratings  \n",
              "0        -4,033  \\n\\nThe One Where Emma Cries\\n\\n\\n\\nThe One Wh...       -  \n",
              "1        -3,721  \\n\\n\\n\\n903 - The One With The Pediatrician\\n\\...       -  "
            ],
            "text/html": [
              "\n",
              "  <div id=\"df-e3107572-351d-421f-a760-888948769ff7\" class=\"colab-df-container\">\n",
              "    <div>\n",
              "<style scoped>\n",
              "    .dataframe tbody tr th:only-of-type {\n",
              "        vertical-align: middle;\n",
              "    }\n",
              "\n",
              "    .dataframe tbody tr th {\n",
              "        vertical-align: top;\n",
              "    }\n",
              "\n",
              "    .dataframe thead th {\n",
              "        text-align: right;\n",
              "    }\n",
              "</style>\n",
              "<table border=\"1\" class=\"dataframe\">\n",
              "  <thead>\n",
              "    <tr style=\"text-align: right;\">\n",
              "      <th></th>\n",
              "      <th>ID</th>\n",
              "      <th>title</th>\n",
              "      <th>plot</th>\n",
              "      <th>date</th>\n",
              "      <th>total_reviews</th>\n",
              "      <th>Transcripts</th>\n",
              "      <th>ratings</th>\n",
              "    </tr>\n",
              "  </thead>\n",
              "  <tbody>\n",
              "    <tr>\n",
              "      <th>0</th>\n",
              "      <td>1</td>\n",
              "      <td>The One Where Emma Cries</td>\n",
              "      <td>Chandler, having trouble getting enough sleep ...</td>\n",
              "      <td>3 Oct. 2002</td>\n",
              "      <td>-4,033</td>\n",
              "      <td>\\n\\nThe One Where Emma Cries\\n\\n\\n\\nThe One Wh...</td>\n",
              "      <td>-</td>\n",
              "    </tr>\n",
              "    <tr>\n",
              "      <th>1</th>\n",
              "      <td>2</td>\n",
              "      <td>The One with the Pediatrician</td>\n",
              "      <td>Joey arranges a blind date for Phoebe. Chandle...</td>\n",
              "      <td>10 Oct. 2002</td>\n",
              "      <td>-3,721</td>\n",
              "      <td>\\n\\n\\n\\n903 - The One With The Pediatrician\\n\\...</td>\n",
              "      <td>-</td>\n",
              "    </tr>\n",
              "  </tbody>\n",
              "</table>\n",
              "</div>\n",
              "    <div class=\"colab-df-buttons\">\n",
              "\n",
              "  <div class=\"colab-df-container\">\n",
              "    <button class=\"colab-df-convert\" onclick=\"convertToInteractive('df-e3107572-351d-421f-a760-888948769ff7')\"\n",
              "            title=\"Convert this dataframe to an interactive table.\"\n",
              "            style=\"display:none;\">\n",
              "\n",
              "  <svg xmlns=\"http://www.w3.org/2000/svg\" height=\"24px\" viewBox=\"0 -960 960 960\">\n",
              "    <path d=\"M120-120v-720h720v720H120Zm60-500h600v-160H180v160Zm220 220h160v-160H400v160Zm0 220h160v-160H400v160ZM180-400h160v-160H180v160Zm440 0h160v-160H620v160ZM180-180h160v-160H180v160Zm440 0h160v-160H620v160Z\"/>\n",
              "  </svg>\n",
              "    </button>\n",
              "\n",
              "  <style>\n",
              "    .colab-df-container {\n",
              "      display:flex;\n",
              "      gap: 12px;\n",
              "    }\n",
              "\n",
              "    .colab-df-convert {\n",
              "      background-color: #E8F0FE;\n",
              "      border: none;\n",
              "      border-radius: 50%;\n",
              "      cursor: pointer;\n",
              "      display: none;\n",
              "      fill: #1967D2;\n",
              "      height: 32px;\n",
              "      padding: 0 0 0 0;\n",
              "      width: 32px;\n",
              "    }\n",
              "\n",
              "    .colab-df-convert:hover {\n",
              "      background-color: #E2EBFA;\n",
              "      box-shadow: 0px 1px 2px rgba(60, 64, 67, 0.3), 0px 1px 3px 1px rgba(60, 64, 67, 0.15);\n",
              "      fill: #174EA6;\n",
              "    }\n",
              "\n",
              "    .colab-df-buttons div {\n",
              "      margin-bottom: 4px;\n",
              "    }\n",
              "\n",
              "    [theme=dark] .colab-df-convert {\n",
              "      background-color: #3B4455;\n",
              "      fill: #D2E3FC;\n",
              "    }\n",
              "\n",
              "    [theme=dark] .colab-df-convert:hover {\n",
              "      background-color: #434B5C;\n",
              "      box-shadow: 0px 1px 3px 1px rgba(0, 0, 0, 0.15);\n",
              "      filter: drop-shadow(0px 1px 2px rgba(0, 0, 0, 0.3));\n",
              "      fill: #FFFFFF;\n",
              "    }\n",
              "  </style>\n",
              "\n",
              "    <script>\n",
              "      const buttonEl =\n",
              "        document.querySelector('#df-e3107572-351d-421f-a760-888948769ff7 button.colab-df-convert');\n",
              "      buttonEl.style.display =\n",
              "        google.colab.kernel.accessAllowed ? 'block' : 'none';\n",
              "\n",
              "      async function convertToInteractive(key) {\n",
              "        const element = document.querySelector('#df-e3107572-351d-421f-a760-888948769ff7');\n",
              "        const dataTable =\n",
              "          await google.colab.kernel.invokeFunction('convertToInteractive',\n",
              "                                                    [key], {});\n",
              "        if (!dataTable) return;\n",
              "\n",
              "        const docLinkHtml = 'Like what you see? Visit the ' +\n",
              "          '<a target=\"_blank\" href=https://colab.research.google.com/notebooks/data_table.ipynb>data table notebook</a>'\n",
              "          + ' to learn more about interactive tables.';\n",
              "        element.innerHTML = '';\n",
              "        dataTable['output_type'] = 'display_data';\n",
              "        await google.colab.output.renderOutput(dataTable, element);\n",
              "        const docLink = document.createElement('div');\n",
              "        docLink.innerHTML = docLinkHtml;\n",
              "        element.appendChild(docLink);\n",
              "      }\n",
              "    </script>\n",
              "  </div>\n",
              "\n",
              "\n",
              "<div id=\"df-f2989097-9bcb-439d-93aa-37287edcc2d7\">\n",
              "  <button class=\"colab-df-quickchart\" onclick=\"quickchart('df-f2989097-9bcb-439d-93aa-37287edcc2d7')\"\n",
              "            title=\"Suggest charts\"\n",
              "            style=\"display:none;\">\n",
              "\n",
              "<svg xmlns=\"http://www.w3.org/2000/svg\" height=\"24px\"viewBox=\"0 0 24 24\"\n",
              "     width=\"24px\">\n",
              "    <g>\n",
              "        <path d=\"M19 3H5c-1.1 0-2 .9-2 2v14c0 1.1.9 2 2 2h14c1.1 0 2-.9 2-2V5c0-1.1-.9-2-2-2zM9 17H7v-7h2v7zm4 0h-2V7h2v10zm4 0h-2v-4h2v4z\"/>\n",
              "    </g>\n",
              "</svg>\n",
              "  </button>\n",
              "\n",
              "<style>\n",
              "  .colab-df-quickchart {\n",
              "      --bg-color: #E8F0FE;\n",
              "      --fill-color: #1967D2;\n",
              "      --hover-bg-color: #E2EBFA;\n",
              "      --hover-fill-color: #174EA6;\n",
              "      --disabled-fill-color: #AAA;\n",
              "      --disabled-bg-color: #DDD;\n",
              "  }\n",
              "\n",
              "  [theme=dark] .colab-df-quickchart {\n",
              "      --bg-color: #3B4455;\n",
              "      --fill-color: #D2E3FC;\n",
              "      --hover-bg-color: #434B5C;\n",
              "      --hover-fill-color: #FFFFFF;\n",
              "      --disabled-bg-color: #3B4455;\n",
              "      --disabled-fill-color: #666;\n",
              "  }\n",
              "\n",
              "  .colab-df-quickchart {\n",
              "    background-color: var(--bg-color);\n",
              "    border: none;\n",
              "    border-radius: 50%;\n",
              "    cursor: pointer;\n",
              "    display: none;\n",
              "    fill: var(--fill-color);\n",
              "    height: 32px;\n",
              "    padding: 0;\n",
              "    width: 32px;\n",
              "  }\n",
              "\n",
              "  .colab-df-quickchart:hover {\n",
              "    background-color: var(--hover-bg-color);\n",
              "    box-shadow: 0 1px 2px rgba(60, 64, 67, 0.3), 0 1px 3px 1px rgba(60, 64, 67, 0.15);\n",
              "    fill: var(--button-hover-fill-color);\n",
              "  }\n",
              "\n",
              "  .colab-df-quickchart-complete:disabled,\n",
              "  .colab-df-quickchart-complete:disabled:hover {\n",
              "    background-color: var(--disabled-bg-color);\n",
              "    fill: var(--disabled-fill-color);\n",
              "    box-shadow: none;\n",
              "  }\n",
              "\n",
              "  .colab-df-spinner {\n",
              "    border: 2px solid var(--fill-color);\n",
              "    border-color: transparent;\n",
              "    border-bottom-color: var(--fill-color);\n",
              "    animation:\n",
              "      spin 1s steps(1) infinite;\n",
              "  }\n",
              "\n",
              "  @keyframes spin {\n",
              "    0% {\n",
              "      border-color: transparent;\n",
              "      border-bottom-color: var(--fill-color);\n",
              "      border-left-color: var(--fill-color);\n",
              "    }\n",
              "    20% {\n",
              "      border-color: transparent;\n",
              "      border-left-color: var(--fill-color);\n",
              "      border-top-color: var(--fill-color);\n",
              "    }\n",
              "    30% {\n",
              "      border-color: transparent;\n",
              "      border-left-color: var(--fill-color);\n",
              "      border-top-color: var(--fill-color);\n",
              "      border-right-color: var(--fill-color);\n",
              "    }\n",
              "    40% {\n",
              "      border-color: transparent;\n",
              "      border-right-color: var(--fill-color);\n",
              "      border-top-color: var(--fill-color);\n",
              "    }\n",
              "    60% {\n",
              "      border-color: transparent;\n",
              "      border-right-color: var(--fill-color);\n",
              "    }\n",
              "    80% {\n",
              "      border-color: transparent;\n",
              "      border-right-color: var(--fill-color);\n",
              "      border-bottom-color: var(--fill-color);\n",
              "    }\n",
              "    90% {\n",
              "      border-color: transparent;\n",
              "      border-bottom-color: var(--fill-color);\n",
              "    }\n",
              "  }\n",
              "</style>\n",
              "\n",
              "  <script>\n",
              "    async function quickchart(key) {\n",
              "      const quickchartButtonEl =\n",
              "        document.querySelector('#' + key + ' button');\n",
              "      quickchartButtonEl.disabled = true;  // To prevent multiple clicks.\n",
              "      quickchartButtonEl.classList.add('colab-df-spinner');\n",
              "      try {\n",
              "        const charts = await google.colab.kernel.invokeFunction(\n",
              "            'suggestCharts', [key], {});\n",
              "      } catch (error) {\n",
              "        console.error('Error during call to suggestCharts:', error);\n",
              "      }\n",
              "      quickchartButtonEl.classList.remove('colab-df-spinner');\n",
              "      quickchartButtonEl.classList.add('colab-df-quickchart-complete');\n",
              "    }\n",
              "    (() => {\n",
              "      let quickchartButtonEl =\n",
              "        document.querySelector('#df-f2989097-9bcb-439d-93aa-37287edcc2d7 button');\n",
              "      quickchartButtonEl.style.display =\n",
              "        google.colab.kernel.accessAllowed ? 'block' : 'none';\n",
              "    })();\n",
              "  </script>\n",
              "</div>\n",
              "\n",
              "    </div>\n",
              "  </div>\n"
            ],
            "application/vnd.google.colaboratory.intrinsic+json": {
              "type": "dataframe",
              "variable_name": "friends_test_df",
              "summary": "{\n  \"name\": \"friends_test_df\",\n  \"rows\": 35,\n  \"fields\": [\n    {\n      \"column\": \"ID\",\n      \"properties\": {\n        \"dtype\": \"number\",\n        \"std\": 10,\n        \"min\": 1,\n        \"max\": 35,\n        \"num_unique_values\": 35,\n        \"samples\": [\n          27,\n          14,\n          25\n        ],\n        \"semantic_type\": \"\",\n        \"description\": \"\"\n      }\n    },\n    {\n      \"column\": \"title\",\n      \"properties\": {\n        \"dtype\": \"string\",\n        \"num_unique_values\": 34,\n        \"samples\": [\n          \"The One with the Donor\",\n          \"The One with Ross's Tan\",\n          \"The One Where the Stripper Cries\"\n        ],\n        \"semantic_type\": \"\",\n        \"description\": \"\"\n      }\n    },\n    {\n      \"column\": \"plot\",\n      \"properties\": {\n        \"dtype\": \"string\",\n        \"num_unique_values\": 35,\n        \"samples\": [\n          \"Nervous and excited, Monica and Chandler travel to Ohio to meet a young pregnant woman, Erica Simmons, who is considering allowing them to adopt her child when it's born.\",\n          \"Joey throws a cast party on the roof of his building where he ends up making out with an attractive professor that Ross had a crush on.\",\n          \"Monica and Chandler nervously prepare for a visit from an adoption worker. Phoebe and Mike keep changing their minds about donating their wedding money to charity. Ross fights Rachel's fear of swings.\"\n        ],\n        \"semantic_type\": \"\",\n        \"description\": \"\"\n      }\n    },\n    {\n      \"column\": \"date\",\n      \"properties\": {\n        \"dtype\": \"string\",\n        \"num_unique_values\": 34,\n        \"samples\": [\n          \"08-May-03\",\n          \"9 Oct. 2003\",\n          \"5 Feb. 2004\"\n        ],\n        \"semantic_type\": \"\",\n        \"description\": \"\"\n      }\n    },\n    {\n      \"column\": \"total_reviews\",\n      \"properties\": {\n        \"dtype\": \"string\",\n        \"num_unique_values\": 34,\n        \"samples\": [\n          \"-3,603\",\n          \"-4,578\",\n          \"-4,950\"\n        ],\n        \"semantic_type\": \"\",\n        \"description\": \"\"\n      }\n    },\n    {\n      \"column\": \"Transcripts\",\n      \"properties\": {\n        \"dtype\": \"string\",\n        \"num_unique_values\": 34,\n        \"samples\": [\n          \"\\n\\n\\nFriends - 922 - The one with the donor\\n\\n\\nFriends \\n922 - The one with the donor\\nWritten by: Andrew Reich & Ted Cohen\\n Directed by: Ben Weiss\\n Transcribed by: Eleonora, Pheeboh, Sebastiano & Vanessa\\n\\n[Scene: Central Perk. Charlie, Joey and Rachel are on the couches]\\nCharlie: (while Joey's giving her a massage) Oh! That feels sooo good!\\nRachel: (speaking to herself and reading Cosmopolitan) Oh, lucky me! Coffee and a live sex show!\\nCharlie: I'm sorry, what?\\nRachel: Oh... Oh, I'm sorry! I'm not... I was just-I was just reading to Emma.\\nCharlie: From... Cosmo??\\nRachel: Yeah, yeah... It's... \\\"climax your way to better skin\\\".\\nCharlie: (to Joey) So, I have to go shopping today, which is my least favourite thing, I'm soo bad at picking out clothes!\\nJoey: So you need someone who knows fashion, to tell you what looks good.\\nRachel: (hiding herself behind the magazine and whispering) Not me, not me, not me, not me, not me!\\nJoey: Oh hey Rach!\\nRachel: Yeah...\\nJoey: Maybe you could take Charlie shopping.\\nRachel: Oh, well...\\nCharlie: I'm sure you have better things to do.\\nJoey: Are you kidding? Rachel loves to shop! And she has great taste! Yeah, she's the one who taught me, you don't wear white after labour day and that you always, always, always have to put on underwear when you're trying on clothes.\\nCharlie: If you have the time, I'd really appreciate the help.\\nRachel: Ok, uh-uh... Let's-Let's shop!!\\nJoey: (to Charlie) Ok, you're gonna come back with some very classy clothes... (aside to Rachel)... and some slutty lingerie, SLUTTY!\\nPhoebe: (entering and talking on mobile phone) Ok, great! All right, bye! (she hangs up) Pain in the ass!! (she looks at the others, then back at the phone) That's off, right?\\nJoey: What's the matter, Pheebs?\\nPhoebe: Oh... Mike's sister just invited me to a party tonight, he's gonna be there. And she was like \\\"Oh, don't worry! I asked him. He's totally ok with seeing you!\\\". So now I have to go so he'll think that I'm totally ok with seeing him!\\nRachel: Which you're not, because you've totally hung up on him!\\nPhoebe: Exactly!\\nRachel: And you're gonna want him to eat his heart out so you're gonna have to look fabulous!\\nPhoebe: (after a short pause) I didn't even think about that! (pause) Aaargh, sexual politics!!\\nRachel: Hey Pheebs, I'm-I'm taking Charlie shopping, why don't you come and I'll help you find something.\\nPhoebe: Ok, that'll be great!\\nJoey: Oh, ain't that nice? The three of you trying on slutty lingerie together.\\nRachel: That's not what we're gonna do!\\nJoey: Why would you ruin it, who was that hurtin'?\\nOpening credits[Scene: Doctor Connelly's office]\\nChandler: (looking at the picture of the female reproductive system) Wow! Fortunately she has a very pretty face!\\nMonica: Oh, I so can't believe this! My uterus is an inhospitable environment? I was trying so hard to be a good hostess!\\nChandler: Oh, I can't believe my sperm have low motility because, let me tell you, when I was growing up they sure seem to be in a hurry to get places!!\\nDoctor Connelly: (entering) Hi there.\\nChandler: Hi.\\nMonica: Hi.\\nDoctor Connelly: I'm sorry there wasn't better news from your test last week but I wanted to talk to you about your options.\\nMonica: Ok.\\nDoctor Connelly: Above all, even though your chances of conceiving through natural means aren't great, you never know! So, keep having sex on a regular basis.\\nChandler: Oh, DAMN IT!\\n(Dr. Connelly glares at Chandler)\\nMonica: Don't worry, after a while he'll tune it out.\\nDoctor Connelly: Ok, given your situation, the options with the greatest chances for success would be surrogacy, or insemination using a sperm donor.\\nMonica: (long pause) Ok.\\nDoctor Connelly: And, of course, if you feel that neither of those is right for you, you can always adopt.\\nChandler: Is that a hint? Because we love you Doctor Connelly but we don't think we'd want you to be our child! (Dr. Connelly glares at him) Wow, talking about an inhospitable environment!\\n[Scene: Central Perk. Joey and Charlie on the couch. Rachel enters]\\nRachel: Hi! Ok, you're ready to go pick up Phoebe and go shopping?\\nCharlie: Oh, yeah! Let's do it!\\nJoey: (to Charlie) Alright, have a good time. (they kiss)\\nRachel: Not gonna find any clothes in there!\\nRoss: (entering) Hey, you guys!\\nRachel: Hi.\\nRoss: Guess who's up for keynote speaker at the National Paleontology Conference?\\nCharlie: Umh... Kurts Baley?\\nRoss: Yeah, right! What was last time he met a submission deadline for an abstract (he and Charlie laugh, then Joey starts laughing too without any reason) Well, why are you laughing?\\nJoey: Just... seeing what it'd be like to be a paleontologist... it's fun, yeah!\\nCharlie: So you're up for keynote speaker! Who's making the decisions?\\nRoss: Professor Sherman, yeah. I've a meeting with him today.\\nCharlie: He's a pretty tough guy to impress.\\nRoss: Yeah, well... I think I know how to dazzle him.\\nRachel: Oh... you're not gonna do a magic trick, are ya?\\nRoss: Tsz... NO! (he goes to sit down, dropping a multicoloured silk streamer off his sleeve).\\nChandler: (entering) Hey guys!\\nRoss: Wait a minute, you guys. Oh, I wanna ask you something. I-I I may get to speak at this paleontology convention and if I do, I'd love for you guys to come and hear me.\\nChandler: I think I can safely say that we all have family issues, work stuff and/or are sick.\\nRoss: It's in Barbados.\\nChandler: But you come first!\\nRachel: I'm there!\\nCharlie: We'll see you, guys! (she goes)\\nJoey: Bye.\\nRachel: Bye, see ya. (she goes)\\nChandler: (sitting down on the couch) Ok.\\nJoey: All right, so. How did it go at the fertility clinic?\\nChandler: Not as much fun as last time. Apparently you only get porn if you're giving a sperm sample.\\nRoss: So-so what did the doctor say?\\nChandler: Well... there's surrogacy, but Monica has dreamt her whole life of carrying a child, she has felt that watching a surrogate would be... too hard for her.\\nJoey: So you're ruling out surrogacy?\\nChandler: Yeah.\\nJoey: So, I don't have to learn what that means?\\nChandler: Aside from adoption the only other choice is insemination, so... we're talking about sperm donors.\\nJoey: Enough said, I'm there for you man. Where is she, upstairs?\\nChandler: (stopping Joey) ah-ha!\\nRoss: How do you feel about all this?\\nChandler: I wish there was an easier way for us to have a child but I don't think there is one.\\nJoey: Come on Ross, be a good guy. Step up and do it!\\nRoss: (puzzled) What?\\n(Joey moves close to Ross and whispers something in his ear)\\nRoss: (looking astonished) What? NO! I am not going to give them Ben!\\n[Scene: Professor Sherman's office, Ross is relating to Professor Sherman]\\nRoss: The data we are receiving from MRI scans and DNA testing of these fossils are - are staggering.\\nProfessor Sherman: Mmm-mm.\\nRoss: (reading from a notepad) I mean, we've been accepting Leakey's dates as a given, but if they're off by even a hundred thousand years or so then you can - you can just throw most of our assumptions, you know, right in the trash. (he throws the notepad in the waste bin) So-so what I am saying is - is is that (he picks the notepad back from the waste bin) is that the repercussions could be huge! I mean, not just in palaeontology, but if-if you think about it, in evolutionary biology, uh, genetics, geology, uh, I mean, truly the mind boggles!\\n(Turns to look at Professor Sherman, only to discover that he is sleeping)\\nRoss: Oh, that's not what you want...\\n[Scene: Shop, Rachel, Charlie and Phoebe walk in]\\nShop assistant: (to a girl) Incentive For Men?\\nPhoebe: Oh, I'll take some of that.\\nRachel: Pheebs, that's for men!\\nPhoebe: No, I know, this way when I go to the party later Mike will know I am over him cause I'm gonna smell like another guy. (to the shop assistant) Yeah.\\n(The shop assistant sprays the perfume on Phoebe's neck)\\nPhoebe: Ok. Oh good, I'm dating a Russian cab driver. (to the shop assistant). Seriously does anyone buy this? I smell like beets!\\nCharlie: (to Rachel) So, you know what, I really like those jackets with the shoulder pads on them. Where do you think those would be?\\nRachel: On Melanie Griffith in \\\"Working girl\\\". I think what you want is over here.\\nCharlie: See, I told you I needed someone! Oh, you know, by the way, as a \\\"thank you\\\", I would really love to take you out.\\nRachel: Really?\\nCharlie: Yeah! Actually Joey and I are going to the movies tonight, wanna come?\\nRachel: Oh, I can't. Because I-I've seen them.\\nCharlie: You've seen all the movies...\\nRachel: Yeah! I'm a big fan! Of the movies, you know. Motion pictures. The Talkies!\\nPhoebe: (picks up a dress) Hey Rach, will you come with me to a dressing room?\\nRachel: Sure!\\nPhoebe: Ok!\\nCharlie: Wha, you know, maybe we can do something else!\\nRachel: You know that depends on what it is! I've done a lot of stuff.\\n(Phoebe and Rachel go off to the dressing rooms. They enter one and close the curtain.)\\nPhoebe: So what were you doing out there, do you not like Charlie?\\nRachel: She's ok, I just don't get a really good vibe from her!\\nPhoebe: Why?\\nRachel: I don't know, you know, just the way she waltzed in here all smart, and tall! You know, and just swept Joey off his feet... I mean, nobody else has a chance!\\nPhoebe: Who else?\\nRachel: Anybody! You, me, you know, Monica's mom...\\nPhoebe: You like Joey?\\nRachel: Shhhhh! Phoebe! All right, look. I have a little thing for him.\\nPhoebe: (whispering) Oh my God!\\nRachel: It's just physical and I have it totally under control! Ok? It's just, when I see them together, sometimes I just get a little jealous!\\nPhoebe: Uh, wow! Isn't it ironic that he liked you and now you like him?\\nRachel: (annoyed) Oh, I get it!\\nPhoebe: Oh well, as long as it is under control, you know, you can't do anything about it, he's already dating her, and she is a nice person, that wouldn't be right.\\nRachel: I know, I know, so it is just not a big deal.\\nPhoebe: Yeah.\\nRachel: So can we keep this between us?\\nPhoebe: Sure!\\nRachel: Ok, great, because I gotta get out of here, the smell of beets is killing me!\\nPhoebe: Oh.\\n(Rachel opens the curtains and sees Charlie coming out from the dressing room just next to theirs)\\nPhoebe: Any chance Charlie has a deaf twin?\\n[Scene: Monica's apartment, Chandler walks in with a friend of his while Monica is putting fruit in a bowl.]\\nMonica: Hi honey!\\nChandler: Hey! Look I brought a friend for dinner, this is Zack, from work!\\nMonica: Oh, of course, it's so nice to see you again, Zack!\\nZack: (shaking Monica's hand) You too.\\nChandler: You guys haven't actually met before, but, boy! You're both polite! (pause) Go to have a seat Zack, and I'll get you a beer.\\nMonica: I got it.\\nZack: Thanks.\\nChandler: (to Mon) So, Zack's pretty nice, uh?\\nMonica: Yeah, I guess.\\nChandler: So, how would you like to have a baby that's half yours and half his!\\nMonica: (turns around and she's quite shocked) Excuse me?\\nChandler: Well, we're talking about sperm donors and Zack may be the guy! I mean, look, he's intelligent, he's healthy, he's athletic, I mean, he is \\\"spermtastic\\\"!\\nMonica: Chandler, this is crazy! What did you even say to him! \\\"Come up, meet my wife! Give us your sperm\\\"!\\nChandler: No, I invited him to dinner so you could get a chance to get to know him! I mean, if we go through a sperm bank you never meet the guy, get to check him out.\\nMonica: Chandler!\\nChandler: I'm telling you, he's great! I mean, even if my sperm worked fine, I'd think he'd be the way to go!\\nMonica: I'm not going to be a part of this! You can't just bring some random guy at home and expect him to be our sperm donor!\\nChandler: Ok!\\nMonica: Uh!\\nChandler: (bringing the beer to Zack) Zack!\\nZack: Thanks! Do you have a coaster? I don't wanna make a ring.\\n(Monica hears that and is suddenly very interested in Zack)\\nMonica: Tell me about yourself, Zack!\\n[Scene: Shop, Phoebe and Rachel are talking in front of the dressing room]\\nRachel: Oh, God, do you think she heard? It would be so bad if she heard!\\nPhoebe: Well, maybe she didn't hear! Ok I'm gonna go into that dressing room, you stay in here and I'll talk and see if you can hear me.\\nRachel: Ok, great!\\n(Phoebe moves in the dressing room from which Charlie went out)\\nRachel: Oh, thank God I can't hear a word that you're saying!\\nPhoebe: (sticks her head out) I didn't say anything yet!\\nRachel: (sticks her head out too) Well, get back in there and talk!\\nPhoebe: (goes back in) I'm Rachel. It's so annoying when I put Emma on the phone to talk with my friends.\\nRachel: (comes out again) What!?\\nPhoebe: (comes out too) Well, some things are just hard to say to your face.\\nRachel: Ok well, I heard that! Which means that she heard it too!\\nPhoebe: Ooh! We have a problem.\\nRachel: Oh! What are we gonna do?\\n(A strange woman sticks her head out from a third changing cubicle to the far right)\\nStranger: Just be honest with her.\\nRachel: Oh my God!\\nStranger: And it is annoying when parents put their baby on the phone...\\nRachel: (yelling at the stranger) Alright! Enough out of you!\\n[Scene: Joey's apartment. Joey is sitting on his bed and the phone rings]\\nJoey: Hello?\\nRoss: Joey! Hey, I need to talk to Charlie. Is she there?\\nJoey: No. no... eh... she went shopping with Rachel. Why? What's up?\\nRoss: I'm meeting with professor Sherman about my being the keynote speaker...\\nJoey: Oh! How's it going?\\nRoss: It could be better! He, uhm... he fell asleep!\\nJoey: What!? But I already bought my ticket to Bermuda!\\nRoss: Barbados.\\nJoey: Fine, I'll rent a car and drive...! Ross, you have to get that job!\\nRoss: What am I supposed to do? He's out cold! In fact he was just talking in his sleep before and evidently he wants someone named Fran to spank him harder.\\nJoey: Well, just wake him up!\\nRoss: I can't! If he realizes that I'm the one that put him to sleep, I won't get the job!\\nJoey: Uh! That's a tough one. Oh! Wait a minute, this happened to me before! Yeah, I was auditioning for a play and the producer fell asleep and... (pause) no wait a minute... it was me who fell asleep... Yeah I mean hey, Shakespeare, how about a chase scene once in a while!?\\n[Scene: Chandler and Monica's apartement. Chandler and the guest are in the living room, Monica in the kitchen]\\nMonica: Hey guys! Dinner's ready!\\nZack: Oh! I'm gonna go wash up first. (Chandler points him the bathroom) Thanks!\\nChandler: So what do you think? I want that guys genes for my kid! Those eyes, those cheeckbones!\\nMonica: Ok, there's enthusiastic and there's just plain gay!!\\nChandler: You don't like him.\\nMonica: I think he is fine! It's just that we don't know anything real about him... we should get more information.\\nChandler: Alright! Just follow my lead!\\n(Zack comes out of the bathroom. They all sit down at the table.)\\nZack: You guys have such a great place here.\\nChandler: Oh! Thanks, I'm crazy about our place. Hey! speaking of crazy... do you have a history of mental illness in the family?\\nZack: Uhm... no. Although I did have an uncle who voted for \\nDukakis.\\nChandler: (very seriously) That's really not the kind of thing we are looking for Zack.\\nZack: (looking very puzzled) Okaaay... so eh... so tell me, how did you guys meet.\\nMonica: Oh, friends first, drunk in London, you know the story. I've got a better question for you: Do you or any of your blood relatives have diabetes?\\nZack: (after a pause, very confused) No...\\nMonica: Eh... Heart Disease, Alzheimers, gout?\\nZack: You guys don't have people for dinner a lot, huh?\\nMonica: We're just making conversation. (Chandler makes an agreeing-sound)\\nZack: Ok. I heard a joke today. It's pretty funny...\\nChandler: You know what's not funny? Male Pattern Baldness (Monica stretches her neck to look behind Zack's head and then gives Chandler an \\\"ok\\\" sign)\\nZack: Ok listen, you guys have shown a lot of interest in me tonight and I'm flattered and... and quite frankly a little frightened. Can we just talk about something else?\\nMonica & Chandler: Sure! Alright...\\nZack: Ravioli's delicious!\\nChandler: I noticed you were enjoying that Ravioli with a beautiful set of teeth. Did you have braces as a child?\\nZack: No I didn't.\\nMonica: Yess!! (M & C high-five and Zack looks confused again)\\nChandler: (Proceeding with his dinner) We're teeth people Zack!\\n[Scene: In the store. Rachel and Phoebe returning from the changing rooms]\\nRachel: Alright! Let's just do it. Let's just go over there and see if she heard.\\nPhoebe: Good plan.\\nRachel: Ok. (Phoebe starts to walk in the opposite direction though. Rachel sees and follows her) Wha...? where? Where are you going?\\nPhoebe: Oh! I'm sorry Rachel, I don't have time for your childish games, ok? I still have to go find something incredible to wear so I can beat Mike at \\\"who's more over who\\\"! (at which she walks away)\\nRachel: (to Charlie) Hey, hi! Hey, where've you been?\\nCharlie: Oh! trying on clothes.\\nRachel: (pretends to be stunned) Oh! Wi... in the dres... in the dressing room!? Well, that's so weird! Phoebe and I were just trying on clothes in the dressing room. God it's just such a small world!\\nCharlie: (smiling) Rachel... I heard you guys whispering.\\nRachel: Oh God. You did. You heard. Ok, listen, let me explain.\\nCharlie: No! There's nothing to explain. I heard you. Phoebe likes Joey.\\nRachel: (after a pause) Yeah.\\nCharlie: It's just that... I don't understand it... I mean, Phoebe likes Joey and then she comes here to buy a dress to impress another guy...?\\nRachel: Yeah! That's Phoebe. That's Phoebe. You know, she just wants them all! It's like she's a nympho!\\nCharlie: Wow!\\nRachel: Yeah...\\nCharlie: You know, by the way. I heard you tell her not to do anything. Thanks for sticking up for me. You are such a nice person.\\nRachel: (Looks ashamed) I try...\\n[Scene: Prof. Sherman's office. Sherman is still asleep on his chair, blocking the door.]\\n(Ross takes his suitcase and tries to get out but ends up falling on Prof. Sherman's laps, thereby waking him up)\\nRoss: (To the still half asleep Professor) Oh my God! You really want me to be the keynote speaker? Thank you! (hugs him whilst still on his lap)\\nProf. Sherman: (confused) You're welcome. (Ross hugs him again)\\n[Scene: Central Perk. Joey is sitting on the sofa, eating a cookie.]\\n(Phoebe walks in wearing a fancy, revealing dress, and stands before Joey)\\nJoey: (impressed) Wow! You look... (drops the cookie)... stop-eating hot! Which is like the highest level of hotness!\\nPhoebe: Are you sure? Because I'm really dreading going to this party.\\nJoey: Then don't go!\\nPhoebe: Mike knows I'm coming, and if I don't show up he'll think it's because of him! And I don't want to lose face! That's a very serious thing in my culture.\\nJoey: Alright, then you go to that party and you pretend to be over Mike. And afterward you come to my place and I'll get you good and drunk!\\nPhoebe: You got it! Ok. But not on the wine that you made, ok, because I just don't want to go back to the Emergency Room.\\n(Joey gives Phoebe a thumbs up. Phoebe walks out)\\n[Scene: Outside Central Perk.]\\nPhoebe: David?\\n(David the scientist guy is standing at the news-stand)\\nDavid: Phoebe! Hi!\\nPhoebe: Oh my God! (they hug)\\nDavid: Wow, you look unbelievable.\\nPhoebe: Yeah. What-what are you doing here?\\nDavid: Well, I'm back from Minsk... permanently.\\nPhoebe: What happened?\\nDavid: Well, remember how I was trying to achieve the positronic distillation of subatomic particles?\\nPhoebe: Yeah?\\nDavid: Well, after eight years of research I discovered that it can't be done.\\nPhoebe: Well, it's great that you're back! How are you?\\nDavid: Good, good, life is good...\\nPhoebe: Good!\\nDavid: Ah well, I-I'm seeing someone.\\nPhoebe: (disappointed) Oh, good for you.\\nDavid: She's also a scientist, so she's very smart and pretty and... well, it's actually because of you, really, that we're together, I mean, I saw what you had with that Mike guy, and I just said \\\"Boy, I want that\\\".\\nPhoebe: Mike and I broke up.\\nDavid: You're kidding me. Because I'm not seeing anybody, I've just totally made that up.\\nPhoebe: Really?\\nDavid: Yeah, I don't know why, I'm sorry, I guess I just didn't want to lose face.\\nPhoebe: I understand. Yeah. Ok so then ok, so we're both living in New York, not seeing anyone. That's so not like us!\\nDavid: Yeah, I know. Well... this is probably a stupid question, seeing that you look like that, but do you have some place that you need to be right now?\\nPhoebe: Well... (pause) no.\\nDavid: Do you wanna get a drink?\\nPhoebe: I'd love to.\\nDavid: Great.\\nPhoebe: Ok. (they walk away together)\\nDavid: Do you smell beets?\\nPhoebe: Oh, got it, stay upwind of me.\\n(Charlie and Rachel arrive. They see David and Phoebe leave)\\nCharlie: Hey, there's Phoebe! Is that Mike she's with?\\nRachel: No, that's David.\\nCharlie: There's a third guy?\\nRachel: (disapprovingly) Tip of the iceberg.\\n[Cut to Monica and Chandler's]\\nZack: I'm gonna take off now. You're gonna let me go home, aren't you?\\nChandler: You sure you don't wanna stick around a little longer?\\nZack: No, no, I should get home, I'm kinda tired.\\nChandler: Are you just tired now or are you always tired, 'cause that could be a sign of clinical depression.\\nZack: No it's just tiring having to figure out the age at which all my grandparents died. I'll see you tomorrow.\\nChandler: Ok.\\n(Zack leaves)\\nChandler: I think we've found our sperm!\\nMonica: Does seem pretty perfect.\\nChandler: Yeah, you think so, well? Should I ask him?\\nMonica: (pause) No.\\nChandler: Why not, just because his great-grandmother was obese, our kids are gonna get that from you anyway!\\nMonica: No, that's not it. It's just that when we were asking him all those questions before, I just... I just realized I don't care if he's the most perfect guy in the world... he's not you.\\nChandler: Yeah, he's better!\\nMonica: No, he's not. And if I can't get pregnant with you, then I don't want to get pregnant by... him or anyone else.\\nChandler: Really? Are you sure?\\nMonica: Yeah, I'm sure.\\nChandler: (sighs with relief) Thank God, because I don't wanna do this either. You know, I was just doing because I thought that was what you wanted to do. You know, I'm the husband, I'm supposed to... bring the sperm.\\nMonica: That is so sweet. I love you. (they kiss)\\nChandler: So you know this leaves us with...\\nMonica: Adoption.\\nChandler: How do you feel about that?\\nMonica: I think I feel ok about it. Actually I think I feel really good about it.\\nChandler: Me too. I wanna find a baby that needs a home and I wanna raise it with you. And I wanna mess it up in our own specific way.\\nMonica: So this is it, we're really gonna adopt?\\nChandler: (smiling) Yeah.\\nMonica: (excitedly) Oh my God, we're gonna be parents!\\nChandler: We are gonna be great parents.\\nMonica: And it could be soon. I mean, think about it: right now, somewhere out there (they go look through the window) our baby could be being conceived.\\nChandler: Wait, if we're lucky, and we're really really really quiet, we may be able to hear the sound of a condom breaking!\\n(they hug)\\nClosing credits[Scene: Zack's office]\\nChandler: Hey, Zack!\\nZack: (hardly enthusiastic) Hey Chandler.\\nChandler: Look, I just wanted to apologize for last night. I got the feeling we made you a little uncomfortable.\\nZack: No you didn't.\\nChandler: Really?\\nZack: No you did.\\nChandler: My wife and I have some boundary issues, you know, sometimes we ask inappropriate questions. We're working on it.\\n(Zack's pregnant secretary, Jeanette, walks in)\\nJeanette: (to Zack) Here are the boards for Friday's pitch (hands him something).\\nZack: Oh, thank you.\\n(Jeanette walks out)\\nChandler: You wouldn't know if Jeanette's planning on keeping her baby, would ya?\\nEnd\\n\",\n          \"\\n\\n\\nFriends - 1003 - The One With Ross' Tan\\n\\n\\n\\n\\nFriends \\n  1003 - The One With Ross' Tan\\nWritten by: Brian Buckner\\n  Produced by: Robert Carlock and Wendy Knoller\\n  Transcribed by: Coffee Mug, Eleonora, Sebastiano & Vanessa\\n[Scene: Joey and Rachel's apartment]\\nChandler: So, you and Rachel tonight, huh?\\nJoey: Yeah. It's actually our first official date \\nChandler: Wow! So tonight may be the night! You're nervous?\\nJoey: Naa, no. This is the part I'm actually good at.\\nChandler: What must it be like not to be crippled by fear\\n  and self-loathing.\\nJoey: (pause) It's OK!\\nChandler: How can you be so confident?\\nJoey: Well, I... I know exactly what I'm gonna do!\\nChandler: Really? Like you have a routine?\\nJoey: No, no no no no. See. Each woman is different.You have\\n  to appreciate their uniqueness.\\nChandler: Really?\\nJoey: No, I do six things! First, I look deep in her eyes.\\n  Then, I kiss her. Next I take my hand and I softly graze her thigh.\\nChandler: You mean like this? (he starts touching his thigh\\n  in a funny and awkard way)\\nJoey: NO! Not like that, no no. No, like this. (He starts\\n  lightly grazing Chandler's thigh)\\nChandler: Oh, I see what you mean, that's quite nice. (They\\n  look at each other, both embarassed)\\nJoey: More foosball?\\nChandler: ...and beer!!\\n\\nOPENING CREDITS\\n\\n[Scene:Central Perk. Ross and Chandler are on the couch]\\nMonica: (entering) Hey!\\nRoss and Chandler: Hey!\\nMonica: (to Chandler) Hey sweetie! (they\\n  kiss)\\nRoss: (looking at Monica's legs) WOW!\\nChandler: Hey! Stop staring at my wife's legs! No no! Stop\\n  staring at your sister's legs!\\nRoss: I'm sorry, it's just... how did you get so tan?\\nChandler: She went on one of those spray-on tan places.\\nRoss: Eh, you got a spray-on tan?\\nMonica: Chandler gets pedicures!\\nRoss: (laughing) Why, why you do, like with the-the toe separators?\\nChandler: (To Monica) Why...why?\\nRoss: Still, I can't believe that's sprayed on... I mean,\\n  it looks really good. I wonder if I should get one!\\nChandler: Sure, then you should get a mini skirt so you can\\n  really show it off.\\nRoss: So, do you get colours or just French tips?\\nMonica: There. Here's their card.\\nRoss: Thanks. (he takes the card) Hey, I know where this\\n  place is! It used to be an X-rated video... (pauses when he realizes what he\\n  is saying) florist. (he goes away)\\n(Phoebe enters)\\nPhoebe: Hey!\\nChandler: Hey Pheebs!\\nMonica: Hey Phoebe!\\nPhoebe: Oh, you won't believe who moved back to town.\\nMonica: I know, Amanda! Ah! She called me\\n  too! She's the worst!\\nChandler: Who's Amanda?\\nMonica: She's this girl who used to live\\n  in the building before you did. Then she moved to England and she picked up\\n  this fake British accent. On the machine this is her message. (she apes Amanda\\n  using an awful British accent) \\\"Monica, darling! It's Amanda calling!\\\"\\nChandler: Are you trying to do a British accent?\\nMonica: (pause) (to Phoebe) Chandler gets\\n  pedicures!\\nChandler: Just so I know, how many more of those can I expect?\\nPhoebe: You know what Amanda said to me when she got me on\\n  the phone? (apes Amanda in a british accent) \\\"Oh, so sorry to catch you\\n  on your Mo-Bile!\\\" If-if you don't wanna get me on my mo-Bile, don't call\\n  me on my mo-Bile!\\\"\\nMonica: I know, and she's always bragging\\n  about all the famous people she's met.\\nPhoebe: Oh, I know! \\\"Oh...I slept with Billy Joel\\\".\\n  All right, who hasn't?\\nMonica: Oh, what are we gonna do! I don't\\n  wanna see her!!\\nPhoebe: Ugh, Let's just cut her out!\\nMonica: What?\\nPhoebe: Cut her out of our lives! Just ignore her calls and\\n  dodge her 'till she gets the point!\\nMonica: Oh, I guess we could try that, but...\\n  it seems so harsh! (to Chandler) Have you ever done that?\\nChandler: No, had it done to me though. Feels good !\\n\\n[Scene: At the tanning salon. Ross and a male assistant are\\n  walking through a hall]\\nAssistant: Alright Mr. Geller! Right this way!\\nSo, how dark do you wanna be? We\\nhave one, two or three.\\nRoss: Well... I like how you look, what are you?\\nAssistant: Puerto Rican.\\nRoss: Two, I think a two.\\nAssistant: You've got to face the red light.\\n  When the red light goes on the spraying is about to start so close your eyes.\\n  When the spraying stops, count to five. Pat yourself down to avoid drip marks\\n  then turn around so we can get your back. Got it?\\nRoss: Spray, count, pat, then turn, spray, count and pat.\\nAssistant: Wow, you catch on quick.\\nRoss: Well, I have a PhD, so... (assistant walk out, not\\n  impressed by this statement)\\n  (Ross takes his bathrobe off and he enters the tanning booth. He stands up\\n  in front of the red light and the sprayer starts and sprays his face and torso)\\nRoss: One Mississipi, two Mississipi, Three Mis...(the sprayer\\n  starts again, spraying him in the face and torso again) WAIT! WAIT! I'm not-I've\\n  not finished counting!! (he leaves the booth) (the assistant enters the room)\\nRoss: You sprayed my front twice!\\nAssistant: You've never turned?\\n\\nRoss: No, I barely even\\n  got to three Mississippi. \\nAssistant: Mississippi? I said count to\\n  five'!\\nRoss: Mississippilesly? (pause) Well, how\\n  bad is it?\\nAssistant: Ain't that bad yet, but it keeps\\n  getting darker for the next four hours.\\nRoss: So, how dark is it\\n  gonna get?\\nAssistant: You got sprayed with two two'\\n  s and...\\nRoss: I'm a four?\\nAssistant: Yeah, but you're back's a zero.\\n  You're gonna wanna even that out.\\nRoss: (sarcastically) Really!\\nAssistant: You might wanna get back in there.\\nRoss: (annoyed) Ok!\\n(The assistant leaves and Ross goes back in the spray-on tan booth and turns\\n  his back to the spray nozzles, facing the back wall)\\nRoss: Wait, wait a minute, there's no light\\n  on the back wall! How do I know when it's gonna start? Hello? (he slowly turns\\n  and the spraying begins, on his face) Ah, oh, ah! (he turns, but then he turns\\n  again and is sprayed in the front again) Ah! (he spits and angrily goes out\\n  of the spray-on tan booth and the assistant enters the room) The same thing\\n  happened again!\\nAssistant: You got two more twos?\\nRoss: (hysterically) I'm an eight!\\n[Scene: Joey\\u201a\\u00c4\\u00f4s apartment. Joey and Rachel enter the room]\\nRachel: Thanks for dinner.\\nJoey: I thought you paid. (Rachel does not answer and seems\\n  puzzled) Ha, guess we won\\u201a\\u00c4\\u00f4t be going back there!\\nRachel: So.\\nJoey: Yeah.\\n(Joey and Rachel start kissing)\\nJoey: Hey what do you say, we move this onto the likes of\\n  the couch?\\nRachel: I say \\u201a\\u00c4\\u00f2cheesy line\\u201a\\u00c4\\u00f4, but ok.\\n(They move on the couch and start kissing again. Joey does his grazing on\\n  Rachel\\u201a\\u00c4\\u00f4s thigh and she slaps his hand)\\nJoey: What\\u201a\\u00c4\\u00f4s the matter?\\nRachel: I am sorry, I don\\u201a\\u00c4\\u00f4t know, I am sorry, I don\\u201a\\u00c4\\u00f4t\\n  know why I did that!\\nJoey and Rachel: Okay\\nRachel: Ok, so sorry.\\n(They start kissing again and, when Joey grazes her thigh, she slaps him on\\n  his hand again)\\nRachel: I am sorry! Again... I don't know, I don\\u201a\\u00c4\\u00f4t\\n  know what happened, I must be nervous!\\nJoey: I don\\u201a\\u00c4\\u00f4t get it, Chandler loved it!\\nRachel: Ok, ok, ok. I promise, I promise, I promise, I won\\u201a\\u00c4\\u00f4t\\n  do it again. I really do. I promise. This is gonna be great.\\nJoey: Ok.\\n(They start kissing again and when Joey grazes, she slaps him three times,\\n  on the hand, and on both cheeks)\\nJoey: (a little giddy) Uh, was that good for you?\\n[Scene: Monica\\u201a\\u00c4\\u00f4s apartment. Monica and Phoebe are reading\\n  magazines when the phone rings and Phoebe reaches to pick it up]\\nMonica: (to Phoebe) No, no, don\\u201a\\u00c4\\u00f4t get it. Let the machine\\npick up.\\nPhoebe: Oh, yeah. Could be Rachel asking if someone could\\n  baby-sit again.\\nMonica: It could be Amanda!\\nPhoebe: Oh, you\\u201a\\u00c4\\u00f4re right! I was just kidding about\\n  Rachel. Babysitting is a gas!\\n(The machine picks up the phone)\\nAmanda: Hello Monica. It\\u201a\\u00c4\\u00f4s Amanda calling again. I\\n  am in the neighborhood hoping I can pop by your flat!\\nMonica: You're from Yonkers! Your last name\\n  is Buffo-Martisis!\\nAmanda: Let\\u201a\\u00c4\\u00f4s see.. to assure you get this directly,\\n  ring me back on my mobile.\\nPhoebe: Ok, don\\u201a\\u00c4\\u00f4t hold thy breath!\\n(Sound of dialing numbers is heard from the speaker of the machine)\\nChandler: Hello? Is someone on the line?\\nAmanda: Yes, I was looking for Monica.\\nChandler: Hang on, she\\u201a\\u00c4\\u00f4s right here. (he enters the\\n  living room and hands the phone to Monica) Someone's on the phone, for ya.\\nMonica: We weren\\u201a\\u00c4\\u00f4t picking up, it\\u201a\\u00c4\\u00f4s\\n  Amanda!\\nChandler: (to Amanda) I get pedicures!\\nMonica: Hi Amanda! Actually now... it\\u201a\\u00c4\\u00f4s...\\n  is not a good time. Dinner tomorrow night? (Phoebe mouths 'no') Ok, Phoebe\\n  and I will see you then!\\nPhoebe: Why, why, why didn\\u201a\\u00c4\\u00f4t you just say no!\\nMonica: Well, I said 'no' to her coming\\n  over now! I couldn\\u201a\\u00c4\\u00f4t say 'no' twice! I get this uncontrollable need to\\n  please people!\\nPhoebe: (leaving) Fine, fine! You would not hold up well\\n  under torture!\\nMonica: And you would?\\nPhoebe: I did!\\n[scene: Joey\\u201a\\u00c4\\u00f4s apartment. Joey and Rachel are sitting\\n  on the couch]\\nJoey: Rach, you sure you wanna do this?\\nRachel: Absolutely! Absolutely. I d... it\\u201a\\u00c4\\u00f4s just a\\n  little weird, it\\u201a\\u00c4\\u00f4s you, and it\\u201a\\u00c4\\u00f4s me, it's just gonna take some\\n  getting used to.\\nJoey: Ok. Well, how, how can we make it easier?\\nRachel: Ok, let\\u201a\\u00c4\\u00f4s work from the top down! (Joey nods,\\n  but then puzzled because he does not get it) Just work the bra, Joe!\\nJoey: Ok, yeah, got it.\\nRachel and Joey: Okay.\\n(They start kissing and Joey starts to undo her bra, but fails completely)\\nJoey: This thing welded shut?!\\nRachel: Okay.\\nJoey: All right, turn around, I got to get a look at this\\n  thing.\\nRachel: Oh!\\n(Joey starts trying to undo her bra, but it won\\u201a\\u00c4\\u00f4t go.The elastic band\\n  snaps back, hurting Rachel.)\\nRachel: Ow!\\nJoey: Sorry!\\nRachel: Well this is romantic!\\nJoey: I'm sorry! (He stands up) This never happened to me\\n  before! I'm an expert at taking off bras! I can do it with one hand! I can\\n  do it with my eyes closed! One time I just looked at one, and it popped open!\\n  I blame your bra!\\nRachel: It\\u201a\\u00c4\\u00f4s a standard issue bra clasp!\\nJoey: Then I blame you! Yeah! That's right! You threw me\\n  off with all your slapping!\\nRachel: Ok well, well I'm really, I'm sorry about that Joey,\\n  but do you think that maybe on some level, you don't want to take\\n  off my bra?\\nJoey: (contemplates for a few moments what Rachel just said)\\n  NAH! I don't have another level!! \\n[Scene: Monica and Chandler's apartment]\\n(Chandler is at the table reading; Monica puts some food for him on the table.\\nRoss walks in looking very tanned. Chandler and Monica look up at him\\nsmiling.)\\n\\nChandler: Hold on! There is something different.\\nRoss: I went to that tanning place your wife suggested.\\nChandler: Was that place... The Sun?\\nRoss: Oh! And it gets worse! (Turns his side to Chandler\\n  and Monica and pulls up his shirt. There's a distinct line across his body,\\n  where his belly is very tanned and his back is very pale.)\\nChandler: Oh My God! You can do a duet of Ebony and Ivory\\n  all by yourself!\\nMonica: How could you mess this up? It's\\n  so easy? You go into the booth, you count to five and you turn around!!\\nRoss: (looks at her suspiciously) How do you count to five?\\nMonica: One Two Three...\\nRoss: (Yells) Damnit! (Goes to the door to leave. Rachel\\n  just enters, sees him and starts laughing)\\nRachel: (laughing) oooh! Oh oh!\\nRoss: (Still yelling) I Know!\\nRachel: oh oh! What is up with Miss Hawaiian Tropic?\\nChandler: How was your date with Joey?\\nRachel: Well, it was good.. until we got back to our apartment,\\n  and then we were fooling around and he started to put his hand up my leg and\\n  I kept slapping it away!\\nChandler: You didn't like that?\\nRachel: Well, it wasn't just me, alright? He freaked out\\n  too! He couldn't even undo my bra!\\nMonica: Wow, really? One time he just looked\\n  at my bra and it popped open.\\n(Chandler starts looking at her bra)\\nRachel: I do not know what's wrong with us, I mean, we have\\n  kissed before and that's been great! But this time it was leading somewhere\\n  and I was very aware of the fact that it was Joey touching me.\\nMonica: Well, you guys have been friends\\n  forever. Remember the first time that you kissed Ross? How weird that was?\\n  You couldn't stop laughing? You got through that.\\nRachel: (looking thoughtful) Ok, that's true. That's true,\\n  we can do this. You're right, you're right, we can do this. We're just gonna\\n  power through!\\n(Joey walks in)\\nJoey: Hey Chandler can I talk to you for a second (points\\n  to the hall).\\nRachel: (To Joey) No need!! Problem solved, we are powering through\\n  (At which point she grabs his hand and pulls him back to their apartment).\\n(Chandler resumes staring at Monica's bra)\\nMonica: (sees what he is doing) Chandler,\\n  stop! It is not going to pop open!\\nChandler: (without taking his eyes off the bra) You don't\\n  know! (Monica just smiles)\\n[Scene: Central Perk.]\\n(Phoebe is sitting on the couch. Monica walks in.)\\nMonica: Hey Phoebe!\\nPhoebe: Hey!\\nMonica: Is Amanda here yet?\\nPhoebe: No.\\nMonica: (sits down) Oh good. Good, look\\n  I'm so sorry, for screwing up that cutting-her-out plan. But I have a new plan.\\n  Chandler agreed to call here in a few minutes with an emergency.\\nPhoebe: Oh! Well, what kind of emergency that gets us both\\n  out of here?\\nMonica: Well, what do you think of Mike\\n  and Chandler being in a car accident?\\nPhoebe: (makes a face) Are you kidding, I love it!\\n(A blonde woman walks in. Supposedly Amanda)\\nPhoebe: Hi!\\nMonica: Hi!\\nAmanda: Hi! (Phoebe and Amanda hug)\\nAmanda: (To Monica) Hello!\\n(Monica holds her hands out for a hug, but instead of hugging her, Amanda\\n  hangs her purse on one of Monica's extended arms.)\\nAmanda: (In a fake British accent) It's so nice to see you!\\n  Both of you! Look at me. Look how young I look! (gives her coat to Monica as\\n  well) Oh gosh! We have so much to catch up on! But first things first: touch\\n  my abs (at which point she grabs both Phoebe and Monica's hands and places\\n  them both on her stomach) I don't exercise at all! (she pulls them down to\\n  sit.) Oh gosh, so Monica, you're married!\\nMonica: (beaming) Yeah! Yeah! His name is\\n  Chandler and...\\nAmanda: (To Phoebe) Smell my neck! (Phoebe does so) It's\\n  not perfume! It's me! It's my natural scent!\\n(Monica looks shocked)\\nPhoebe: Musty!\\nAmanda: Oh! Gosh! This is brilliant. Gosh, it's just like\\n  old times. I'm so happy you two are friends again!\\nMonica: When were we not friends?\\nAmanda: Well, it was 1992, and I remember because that was\\n  the year I had sex with Evil Knievel (She starts laughing very proudly).\\nMonica: Ehm, we were friends in 1992.\\nAmanda: (to Phoebe) No I distinctly remember you were dodging\\n  her (points at Monica) calls and trying to avoid seeing her. \\nMonica: (To Phoebe) You were going to cut\\n  me out?\\nPhoebe: Well...kinda.\\nMonica: Oh My God!\\nAmanda: Oh! Bugger. Should I not have said that? I feel like\\n  a perfect arse!\\nPhoebe: Yeah well, in America you're just an \\\"ass\\\".\\n(Monica's mobile starts ringing. She picks it up.)\\nMonica: (Into the phone) Hello? Chandler,\\n  what's wrong? (She listens) Oh my God, are you alright? (listens some more)\\n  Yeah, I'll be right there. (She hangs up and speaks to Amanda) I'm so sorry,\\n  but Chandler was in a car accident. (She gets up)\\nPhoebe: (Also gets up and starts taking her purse) Oh my\\n  God. Was Mike with him?\\nMonica: Nope! (She turns and leaves)\\n[Scene: Joey and Rachel's apartment.]\\n(Joey comes running in.)\\nJoey: (To Rachel) Hey!\\nRachel: Hey! Got champagne?\\nJoey: Yes ma'am, ready to Power through!\\nRachel: Excellent! Stick it in the ice bucket, the phone\\n  is off the hook, and in the interest of powering through (Starts to remove\\n  her bra from under her clothes)...\\nJoey: Uh! (When she's done she throws her bra at him) \\nRachel: Ok (starts to light some candles) Sexy, sexy, very\\n  sexy, sexy. (Claps her hands and jumps at Joey, clearly very excited) Alright!\\n  Lets do it!\\nJoey: Ok, you're scaring me a little bit.\\nRachel: Oh! Get over it soldier, we've gotta do this! (She\\n  pulls him towards her and throws him onto the barcalounger) Ok. Aha! You like\\n  that huh?\\nJoey: Oh! yeah!\\nRachel: You like that? (She climbs on the barcalounger seductively,\\n  putting her knees next to Joey's hips.) Let's take this into high gear (She\\n  pulls the barcalounger lever and seat reclines. She puts one of her knees between\\n  his legs and begins to kiss his neck.)\\nJoey: uh uh!\\nRachel: Yeah baby, I'll show you how we do it!\\nJoey: No, no, no! You kneed me in my misters!\\nRachel: What? Oh my God! I'm so sorry. Joey? Are you ok?\\nJoey: (He just sits there, legs very close together with\\n  a painful look on his face) Soldier down!\\n[Monica and Chandlers apartment.]\\n(Chandler is sitting on the couch reading. Monica walks in.)\\nMonica: We are not friends with Phoebe anymore.\\nChandler: If she asks, I protested a little, but ok!\\n(Phoebe and Amanda walk in)\\nPhoebe: Oh Chandler! Thank God you're alive. Monica, can\\n  I talk to you outside for a minute?\\nMonica: I have nothing to say to\\n  you.\\nAmanda: (announces more to herself than anyone else) Wow,\\n  my flat is twice this size!\\nPhoebe: Please, Monica? In the hall?\\n(They both walk to the door and enter the hallway.)\\nAmanda: Ooh, that accident must have been terrible. You look\\n  positively ghastly.\\nChandler: Well, aren't you a treat.\\n[Scene: The hallway]\\nMonica: I can't believe you tried to cut\\n  me out. Why Phoebe, why?\\nPhoebe: It was right after we were living together and you\\n  were driving me crazy, okay? You were really controlling and compulsive and\\n  shrill.\\nMonica: I'm still all those things!\\nPhoebe: You're also so generous and kind and scrappy!\\nMonica: (starts smiling) I am scrappy.\\nPhoebe: Exactly! Look, no matter what I tried to do, I couldn't\\n  keep you out of my life. Of all the people I have cut out, you were the only\\n  one who ever clawed her way back in.\\nMonica: It's because I'm scrappy.\\nPhoebe: Yeah, you are. And I'm so glad that you fought your\\n  way back in, because I don't know what I would do without you.\\nMonica: I won't know what I would do without\\n  you.\\n(They hug)\\nMonica: Well, I guess we should go back\\n  in. When you gave me another chance, I guess we should do the same for Amanda.\\nPhoebe: Yeah, I guess you're right.\\n(They both enter the apartment again, where Amanda is \\\"dancing\\\" for\\n  Chandler, but she's really terrible at it)\\nAmanda: Can you believe it. I've never had any professional\\n  dance training.\\n(Monica and Phoebe look at each other and leave the apartment again)\\n[Scene: A different spray-on tan center]\\n(Glenda, who works here, and Ross are walking to the room with the spray-on tan\\nbooth.)\\nGlenda: Now, let me explain how this works. You go into the\\n  booth, and...\\nRoss: I'm gonna stop you right there, Glenda. Okay? Does\\n  it look like this is my first time, huh? Now I want 4 two's... and I want them\\n  all on my back.\\nGlenda: (quietly) Okay...\\n(Ross enters the room, takes off his robe and enters the booth. He stands\\n  with his back to the nozzles and then realises that this booth has nozzles\\n  at both sides of the wall)\\nRoss: Wait a minute, there's two sets of nozzles, which one\\n  is it?\\n(He turns around frantically from side to side.)\\nRoss: Which... which... which... Which one is it?\\n(He then stops turning, facing one of the nozzles, which starts spraying in\\n  this face and front again.)\\nRoss: OH! SON OF A BITCH!\\n(He now turns to the other side, which also starts spraying his face and front.)\\n[Scene: Joey and Rachel's]\\n(Joey and Rachel are both sitting on the couch. Joey keeping his knees pressed\\nagainst each other)\\nRachel: What is the matter with us?\\nJoey: Well, I know what's the matter with me.\\nRachel: No, I mean with us, you know. I mean, is it supposed\\n  to be this... difficult?\\nJoey: I don't know.\\n(Chandler enters the apartment)\\nChandler: That fake British woman is a real bitch, but she\\n  sure can dance... Hey!\\nRachel: Hi! Hey, listen, can we ask you a question? When\\n  you and Monica first hooked up, was it weird going from friends to... more\\n  than that?\\nChandler: Kinda... you know, sneaking around, having to hide\\n  from you guys...\\nRachel: No, no, no... No, I mean... se-x-u-ally...\\nJoey: Yeah, was there a part of you that... felt like it\\n  was... really wrong?\\nChandler: Actually, no. No, it felt right. You know, it felt\\n  like uhm... I can't believe we haven't been doing this the whole time.\\n(Rachel and Joey are still looking at Chandler, slowly letting his words get\\n  to them)\\nChandler: I can tell from your expressions that that's the\\n  good news you were hoping for... Well, I'm gonna go continue to... spread the\\n  joy.(Chandler leaves the apartment. Joey sighs)\\nRachel: Well, just because it happened that way for them\\n  doesn't mean it has to happen that way for us.\\nJoey: Yeah, yeah... Absolutely. I mean, just because something's\\n  difficult doesn't mean that you quit.\\nRachel: Right, totally.\\nJoey: Yeah, so we just keep trying and trying until we...\\n  do it.\\nRachel: Yeah, and if doesn't work, then we'll be just one\\n  of those couples that never have sex.\\nJoey: That's a... pla-an.\\n(They both stare for a while, and then look at each other)\\nJoey: (sighs) Wow... I did not see this coming.\\nRachel: I know.\\n\\nJoey: I don't get it. I mean, I was so sure this was what\\n  I wanted. \\nRachel: Hmmm... Me too...\\n(She puts her head on Joey's shoulder and Joey kisses her on her head.)\\nRachel: I wonder how Monica and Chandler could do it?\\nJoey: I guess they weren't as good friends as we are.\\n(Lifts her head from Joey's shoulder)\\nRachel: Aah... I bet you're right.\\n(They look at each other for a while)\\nJoey: So...\\nRachel: Yeah.\\nJoey: I love ya.\\nRachel: Love you too... Alright, I'm going to bed.\\nJoey: Yeah, me too.\\n(Rachel gets up, and Joey tries to get up, but halfway up he sits down again.)\\nJoey: Ooh, yeah, I'm not going anywhere for a while.\\n(Joey takes the ice-bucket with the champagne bottle in it and puts it on\\n  his sore spot)\\n\\nENDING CREDITS \\n[Scene: Ross's apartment.]\\n(Ross is reading a National Geographic on his sofa when Chandler knocks on the\\ndoor.)\\nChandler: Dude, it's Chandler. Let me in.\\n(Ross's face is now a VERY dark shade of brown.)\\nRoss: Go away! I don't want to see anybody.\\nChandler: I know, I went to the tanning place and the same\\n  thing happened to me. You have to let me in.\\nRoss: Really? Did you count Mississipily?\\n(Ross walks to the door and opens it.)\\nRoss: Dude, you're not tanned.\\nChandler: No, I just had to get a picture of this.\\n(Chandler holds up a camera and takes Ross's picture.)\\nChandler: I see you later!\\n(Ross closes the door)\\n end\\n\\n\\n\\n\\n\\n\",\n          \"\\n\\n\\nFriends - 10.11 - The One Where The Stripper Cries\\n\\n\\n\\n\\nFriends  \\n  1011 - The One Where The Stripper Cries \\nWritten by: Marta Kauffman & David Crane  \\n  Produced by: Robert Carlock & Wendy Knoller  \\n  Transcribed by: Coffee Mug, Eleonora, Sebastiano & Vanessa \\n  Final check by Kim\\n\\u00ac\\u2020\\n[Scene: Central Perk. Everyone's sitting on the couch. Monica and Joey enter.]\\nJoey: Hey guys!\\nMonica: Hey, let me tell them!\\nJoey: Sure.\\nMonica: Joey is gonna be a celebrity guest on a game show!\\nPhoebe: Great!\\nRoss: Really? Which one?\\nMonica: (stopping Joey from answering) Ohh! Fish, seaweed, a sunken ship.\\nRoss: Things you find in the ocean, (to Joey) You're gonna be on \\\"Pyramid\\\"!!\\nMonica: Oh, that was our favourite game show ever!\\nRoss: Except for \\\"Match game\\\"...\\nMonica: Or \\\"Win, Lose or Draw\\\".\\nChandler: What did I marry into?\\nJoey: Would you guys want to come down tomorrow and watch me tape the show?\\nMonica: Oh, I can't. We're throwing Phoebe a bachelorette party.\\nPhoebe: Yeah, sorry boys, this ride's closing.\\nRoss: Oh, and Chandler and I have this stupid college alumni thing. I can't believe you get to meet Donny Osmond.\\nJoey: Seriously?\\nRoss: (very excited) Yeah-uh!\\nMonica: Ross and I always wanted to be Donny and Marie.\\nChandler: You guys just keep getting cooler and cooler!\\nMonica: Yeah, we used to perform for our family and friends.\\nRachel: Oh God, that's right. I blocked that out.\\nMonica: (singing) \\\"I'm a little bit country\\\"...\\nRoss: (singing) \\\"...and I'm a little bit rock 'n' roll\\\"!\\nChandler: (to Monica) I'm leaving you.\\n\\nOPENING CREDITS\\n\\n[Scene: Class of '91 reunion. Ross and Chandler enter.]\\nRoss: So weird to see all these people again... Oh my God, look, there's Geoffrey Cleric.\\nChandler: Who?\\nRoss: He was roommates with John Rosoff. He went out with Andrea Tamburino. She dumped him for Michael Skloff.\\nChandler: (looking around) Did I go to this school?\\nRoss: Hey, there's Missy Goldberg. You gotta remember her.\\nChandler: (looks over at her) Sure, nice.\\nRoss: Dude. You're married to my sister. \\nChandler: You're right, by saying \\\"nice\\\" I'm virtually licking her.\\nRoss: Hey, I hear she's single again, d'you think I should ask her out?\\nChandler: Are you asking permission to break the pact?\\nRoss: Yes please.\\n\\u00ac\\u2020\\n[Flashback, year 1987. Chandler enters the school's corridor. Ross is hanging some flyers on the wall. Both have a funny 80s hair and clothes.]\\nRoss: Hey. Hey, check out the flyers for the band. I made 'em on a Macintosh in the computer room!\\nChandler: Awesome, the name really stands out.\\nRoss: Thanks to a little something called \\\"Helvetica Bold 24 point\\\"!\\nChandler: Man, we're gonna rock that Asian student union!\\nMissy: Hey guys!\\nChandler: Hey!\\nRoss: Hey, Missy...\\nChandler: You know, our band is playing on Friday.\\nRoss: Yeah, yeah. You should come check us out. We're called \\\"Way! No Way!\\\".\\nMissy: No way!\\nChandler and Ross: Way!\\nMissy: Right. I'll be there. (she leaves)\\nChandler: Fresh!\\nRoss: Boss!\\nChandler: Mint!\\nRoss: She's gone.\\nChandler: I know it. You know, I'm totally gonna ask her out.\\nRoss: Dude, I was gonna ask her out.\\nChandler: I said it first, bro.\\nRoss: Well, I thought it first, Holmes.\\nChandler: (angrily) Look, if you did...\\nRoss: Woha! Wait... What are we doing? What we have is too important to mess it up over some girl. I mean, we can get laid anytime we want.\\nChandler: Totally. I had sex in High school...\\nRoss: Me too. I'm good at it.\\nChandler: All right, I'd say we make a pact. Neither of us will go out with Missy Goldberg.\\nRoss: You got it.\\nChandler: All right, so that's Missy Goldberg, Phoebe Cates and Molly Ringwald, who neither of us can go out with.\\nRoss: Those are the pacts!\\nChandler: Oh, and Sheena Easton. But we probably couldn't get her anyway.\\nRoss: Oh, oh... maybe not you!\\n\\u00ac\\u2020\\n[We get back to the Class of '91 reunion, where Ross and Chandler are still looking at Missy.]\\nChandler: Well, I officially give you permission to break the pact.\\nRoss: Thank you. (they shake hands) All right, here I go. Hey, remember how scary it used to be going up to girls in college?\\nChandler: Your hands are shaking.\\nRoss: I know, and I can't stop sweating. (he walks towards Missy)\\n\\u00ac\\u2020\\n[Scene: The \\\"Pyramid\\\" Studio.]\\nVoice: Five! Four! Three! Applause!\\nDonny Osmond: Yeah! Welcome, it is Soap Opera week here on Pyramid, let's meet our contestants. First, Gene Lester is a database specialist, he's gonna be playing with \\\"Days of Our Life's\\\" star Joey Tribbiani! (Joey's amazed at the place and he keeps looking around till he realizes the audience is applauding him)\\nJoey: (to Gene) I know it could be intimidating for regular people to be around celebrities but... relax, I'm just like you! (pause) Only better looking and richer.\\nDonny: ...should be playing with the star of \\\"General Hospital\\\" Leslie Charleson. (applause) Welcome everybody. Good luck to all of you. Let's play Pyramid. All right? Now... we flipped a coin before the show, Gene, you won the toss, so you're gonna start. Which category would you like?\\nGene: I'll take \\\"You crossed the line\\\".\\nDonny: You crossed the line. Joey, describe for Gene these things that have lines. Give me 20 seconds on the clock, please. Ready, go!\\nJoey: (on the screen there's the word \\\"Supermarket\\\") Uhm... ok. It's a store, like a supermarket. (there is a sound indicating he made a mistake as he shouldn't have said 'supermarket'. The next word appears, \\\"notebook\\\") Oh! I see-I see what I did. Yeah, ok, ok, uhm... I'm writing in my...\\nGene: Diary.\\nJoey: Noo, (whispering) more like a notebook... Damn it! (next word appears: \\\"blueprint\\\") Oh, if I'm building an house, the plan isn't called the 'shmoo-print'... Can't say that either? Woha... hey... (the last word is \\\"Football field\\\" and there are 5 seconds left) In high school, I once had sex with a girl right in the middle of the...\\nGene: Cafeteria.\\nJoey: Yeah! But that is not what they're looking for. (time's finished) OOOH!\\n\\u00ac\\u2020\\n[Scene: Monica's apartment, where Phoebe's bachelorette party is taking place.]\\nPhoebe: (to Rachel) Thank you so much for this.\\nRachel: Oh, d'you like it? \\nPhoebe: Oh my God, it's all so elegant! When's the dirty stuff starting?\\nRachel: What?\\nPhoebe: You know, the strippers, and the guys dancing, and you know, pee-pee's flying about.\\nRachel: Pheebs, I... there isn't gonna be any flying about! We actually thought we were a little too mature for stuff like that.\\nPhoebe: Oh, ok. I see what you're doing, that's fine. This is all there is, just tea, uh, ok. (she drinks her tea) Hmmmm... raunchy!\\nRachel: Seriously Pheebs, it's not gonna be that kind of a party.\\nPhoebe: Really? So this is... this is my big send off in the married life? Rachel this is the only bachelorette party I'm ever gonna have! I've got a big wad of ones in my purse! Really? I mean, really? It's just tea? \\nRachel: Nooo! Phoebe, of course there is more! I mean, I'll just go and talk to Monica and get an ETA on the pee-pee's!\\n\\u00ac\\u2020\\n[Scene: Joey's at the game show \\\"Pyramid\\\" with host Donny Osmond.]\\nDonny: Now Gene I must remind you, you need all six of these to stay in the game, all right? Describe for Joey things you find in your refrigerator.\\nJoey: Ahaha, he might as well just give us the points.\\nDonny: Give me twenty seconds on the clock. Ready? Go!\\n(the first word is cream)\\nGene: You put this in your coffee.\\nJoey: A spoon. Your hands. Your face!\\nGene: It's white!\\nJoey: Paper, snow, a ghost! \\nGene: It's heavier then milk!\\nJoey: A rock, a dog, the earth.\\nGene: Pass! \\n(the second word is mayonnaise)\\nGene: You put this on a sandwich.\\nJoey: Salami, anchovies, jam!\\nGene: It's white!\\nJoey: Paper, snow, a ghost!\\nGene: It's made from eggs!\\nJoey: Chickens?\\nGene: Pass!\\nJoey: Oh!\\n(The third word is ketchup)\\nGene: You put this on a hamburger!\\nJoey: Ketchup!\\nGene: Yes!\\n(The fourth word is soda)\\nJoey: Relish!\\nGene: Stop!\\nJoey: Oh.\\nDonny: Oh, time's up! Joey! You were, uh, almost on a roll there...\\nJoey: Yeah...\\nDonny: Uh, Gene, you're gonna have a chance to go to the winner circle in the second half. But right now Henrietta you are going to the winner circle to try your luck for ten thousand dollars, right after this, don't go away.\\nStage Manager : And we're out!\\nJoey: Oh, so we didn't win, but it's fun to play the game, right?\\nGene: Hey! I got a kid starting college. I've to get surgery on my knee, you just lost me ten grand!\\nJoey: Oh, wow! I'm so sorry, ok? I promise, we'll do better next time!\\nGene: Well, I will, because I won't be playing with you.\\nJoey: Hey, you know, some of those are pretty hard! Like why would there be a ghost in my fridge? (pause). Yeah!\\n\\u00ac\\u2020\\n[Scene: College reunion party. Ross is talking to Missy.]\\nRoss: So, Saturday night!\\nMissy: I'd love to!\\nRoss: Great!\\nMissy: So how come it took you so long to ask me out?\\nRoss: Oh, well, uh, this is gonna sound kinda silly, but, do you remember my roommate Chandler Bing?\\nMissy: Sure, he was in your \\\"band\\\"? (she air quotes band)\\nRoss: It's been sixteen years but the air quotes still hurt.\\nMissy: Sorry.\\nRoss: That's ok. Uh, anyway, well he and I both really liked you a lot, uhm, but we didn't want anything to jeopardize our friendship, so we kinda made a pact, that neither of us could ask you out!\\nMissy: Really?\\nRoss: Yeah, why?\\nMissy: Well, Chandler and I used to make out! A lot!\\nRoss: You did?\\nMissy: Yeah. We'd go to the science lab after hours!\\nRoss: (angrily) AND ON MY TURF?\\n\\u00ac\\u2020\\n[Scene: Monica's apartment. The bachelorette party.]\\nMonica: (to Rachel) Hey, where is this guy, it's been over an hour!\\nRachel: Well, he's coming from Jersey, he said he would get here as fast as he could!\\n(someone knocks at the door)\\nMonica: Who is it?\\nMan: It's the police!\\nRachel: (pretends to be shocked) Uh! The police!\\nPhoebe: (Excited, running back to her seat) Oh!\\nMan: That's right, it's officer Goodbody.\\nMonica: What's the matter, officer? Has someone been bad? (looks over to Phoebe and she opens the door, and to their dismay, the stripper is an old, short, fat guy who looks exhausted)\\nRoy, the male stripper: (coughs) Whoo, that's a lot of stairs!\\n\\nCOMMERCIAL BREAK\\n\\nRoy: Ooh, boy. You should warn people there's no elevator! I should not have had that Mexican food for lunch.\\nMonica: Are you gonna be ok, officer, uhm,...\\nRoy: Goodbody!\\nMonica: ...If-you-say-so. \\nRoy: So where's the young lady who I'm supposed to take (he shakes his hips) downtown! (Monica points Phoebe)\\nPhoebe: Oh, God!\\nRoy: All right, somebody show me where to plug in my box, and we'll get this party started! (he thrusts his pelvis towards Phoebe) Whaaaa... (walks back to plug in his cd player) Here? All right.\\nPhoebe: Rachel?\\nRachel: Yeah?\\nPhoebe: Are you kidding?\\nRachel: All right, look, we did not know that you wanted a stripper so we went to the phonebook and we got the first name we could find!\\nPhoebe: How old is your phonebook?\\nMonica: Oh my God, this man is gonna get naked in my apartment!\\nPhoebe: Oh God no, I don't wanna see him take his clothes off!\\nRoy: Are you talking about me?\\nMonica: Oh, no! I mean, obviously we want to see you take your clothes off! You big piece of eye candy!\\nRoy: Ok, ok, ladies! Can I have your attention, please? (pause) Did someone call for the long arm of the law? (He extends his arm from around his crotch and then upward and outward, towards Phoebe) I should warn you, I have a concealed weapon! (Puts his hands over his crotch) I hope you're familiar with the States penal code, ok, ok, enough teasing. Now for some pleasing!\\n(he uses his remote to turn on the music, \\\"Tainted Love\\\" by Soft Cell, and starts dancing for Phoebe. He shakes his butt, moves his shoulders back, grabs his crotch and hops towards Phoebe. Phoebe is half horrified and half scared. He takes his hat off and throws it away, does some \\\"Can Can\\\" high kicks and swings his butt in front of Phoebe who looks at it in disgust. Then he tears open his shirt and shows her his chest and she flinches.)\\nRoy: Whoa, whoa, whoa (he turn off the music). She cringed!\\nPhoebe: This is how I look when I'm turned on!\\nRoy: You were talking about me before! Look, I don't need this! I'm outta here! Where's my hat? (goes to get it) Look, I've been in this business for a long time!\\nPhoebe: Shocking!\\nRoy: Now if you just pay me my three hundred dollars, I'll be on my way!\\nPhoebe: Three hundred dollars, are you kidding?\\nRachel: No, that's ok, let's me just get my check book!\\nPhoebe: No, you're not gonna pay him, he didn't do anything!\\nRoy: Didn't do anything? I took a bus all the way from Hoboken. I climbed ... I dunno... like a billion stairs... It's not like I can take them two at a time! \\nPhoebe: I don't care. We're not paying you 300 dollars for this.\\nRoy: Well, look - it's not my fault if you're too uptight to appreciate the male form in all it's glory.\\nPhoebe: Oh yeah, okay. I'm uptight. Yeah, that's why I don't want to watch a middle aged guy dance around in what I can only assume is a child halloween costume! (turns to look at Monica and Rachel who look like they feel very sorry for the stripper)\\nRoy: I may have borrowed this from my nephew, but let me assure you, what's underneath (points at his groin)... is all man.\\nPhoebe: I'm sorry, did you say all man or old man?\\nRoy: (making a crying face) Oh, you're mean!\\nMonica: (walks towards Phoebe and the stripper) Uh, look, officer... uhm Sir...\\nRoy: Damnit. OH! (To Phoebe) Big surprise! The hunk of beef has feelings!\\n\\u00ac\\u2020\\n[Scene: At Pyramid. Joey is with the woman now.]\\nDonny: Ok Henrietta, you've picked Jack and Jill went up the hill.\\nJoey: (To Henrietta) My friend Rachel has a kid. I totally know nursery rhymes! (makes a thumbs up sign)\\nDonny: Joey describe these things associated with the United States congress. (Joey goes form looking very confident to looking very shocked the instant the word congress is said) Give me 20 seconds on the clock please. Ready? Go!\\n(Camera goes to Joey. The clock is at 20 sec. The word \\\"Legislature\\\" appears. He looks at it blank faced and his eyes shift between Henrietta and his screen)\\nJoey: Oh, .. uh... uh... pass. (Next word: \\\"Rotunda\\\") Pass. (Next word: \\\"Filibuster\\\" stares at it a moment) Pass. (Henrietta is looking very confused) (Next word: \\\"Addendum\\\" 4 seconds remaining) Okay, the little thing that hangs down at the back of your throat.\\nHenrietta: Uvula!\\nJoey: Oh, then pass. (Next word: \\\"Joint session\\\", but time's up, Joey acts very disappointed)\\nDonny: O-kay... Henrietta, you didn't get all the points you needed, so that means Gene, you are going to the winners circle to try for ten thousand dollars! (Gene is clapping his hands looking very happy and so is Joey) And you're gonna be going there with Joey Tribbiani (Both of their smiles fade away instantly)\\n\\u00ac\\u2020\\n[Scene: Class of '91 reunion. Ross is walking angrily towards Chandler, who is talking to two other guys.]\\nRoss: (To Chandler) You made out with Missy Goldberg. How could you do that, after you promised me?\\n(Chandler looks at the other two guys, embarrassed)\\nChandler: (to the two guys) Excuse me. (Chandler and Ross move away from them). That didn't make us sound gay at all!\\nRoss: You broke the pact! \\nChandler: Ross, that was 16 years ago!\\nRoss: That doesn't matter! We're talking about the foundation of our friendship.\\nChandler: I believe the foundation of our friendship was unfortunate hair. (Ross just stares at him) All right, look, if we're really gonna do this... it's not like you never broke one of the pacts.\\nRoss: I didn't.\\nChandler: Oh really?\\nRoss: No.\\nChandler: Oh really!?\\nRoss: NO!\\nChandler: ADRIENNE TURNER!! (A girl behind them turns around)\\nAdrienne: Yes?\\nChandler and Ross: Hey! Hey Adrienne. (They move away from her)\\nRoss: I never did anything with Adrienne Turner.\\nChandler: Oh please, and you knew how much I liked her.\\nRoss: I don't know what... you're talking about.\\nChandler: Really?\\n\\u00ac\\u2020\\n[Flashback scene: 80's College party.] \\n Present Chandler's voice: Remember that big party? Freshman year? A week before Christmas vacation? I do. You had some visitors.\\n(An 80's Rachel and fat Monica walk into the party room. Both with funny hair-do's and clothes)\\nMonica: I can't believe we are at a real college party! (Rachel laughs excitedly) I have to pee so bad!\\nRachel: This is so awesome! College guys are so cute!\\nMonica: Hey, you've got a boyfriend!\\nRachel: I know. But if some guy who looks like Corey Haim wants to kiss me tonight, I'm sooo gonna let them! (They spot Chandler)\\nMonica: Look, there's Chandler. You knew, that stupid friend of Ross'. Said I'm fat. You know I've already lost 4 pounds!\\nRachel: It... You can so totally tell. \\nMonica: I KNOW!\\nRachel: Well lets see. Maybe he knows where Ross is. (They walk towards Chandler) Hey, how's it going (tries to look as un-interested in him as possible - checking out her nails).\\nChandler: Aren't you...?\\nRachel: Yeah, Rachel. And this (points to Monica) is Ross' sister, Monica. We met at Thanksgiving. (looks around the room as if searching for something more interesting to do).\\nChandler: (smiling at Monica) Right. (to Rachel) So how're you doing? \\nRachel: Bitchin'\\nChandler: Hi Monica.\\nMonica: Hi Chandler. It's really nice to see you (rolls her eyes) NOT. (she and Rachel giggle a little and Chandler looks unimpressed)\\nChandler: O-kay. I'll see if I can find Ross. (Goes off to find Ross.)\\nMonica: Oh my God Rach. Bean bag chairs.\\nRachel: Oh.\\nMonica: Do NOT let me sit in one of those. We'll be here for days.\\n(Cut to Chandler. He's walking around looking for Ross. He sees him kissing a girl next to a vending machine)\\nRoss: Listen Adrienne, you can't tell Chandler about this.\\nAdrienne: Oh believe me, Ross, I won't be telling anybody about this.\\nRoss: Cool! (They start kissing again and Chandler looks shocked)\\n\\u00ac\\u2020\\n[Scene: We cut back to the present. The reunion where Chandler and Ross are talking.] \\nRoss: I didn't know you knew about that.\\nChandler: Well, I did and it hurt. (they walk towards the bar) That's when I wrote the song: \\\"Betrayal In The Common Room\\\".\\nRoss: (looks disappointed in himself) Man... I... I'm sorry.\\nChandler: Look (hands him a drink) it was a lo-o-ong time ago.\\nRoss: So, eh. I made out with Adrienne and you made out with Missy. Well I guess we're even.\\nChandler: (smiling a little nervously) Hmm mmmhm..\\nRoss: We are even, right?\\nChandler: (sighs) Just one more thing. I was so pissed at you that night that I wanted to get back at you. So I thought, who does Ross like the more than anybody?\\nRoss: (thinks about it for a few seconds) What did you do to my mom?\\nChandler: Not her!\\n\\u00ac\\u2020\\n[Flashback scene: We cut back to the 80's party. Rachel and Monica are \\\"dancing\\\".]\\nRachel: I am sooo drunk.\\nMonica: That's weird. I've had the same number of beers as you and I don't feel anything at all. (Chandler approaches)\\nChandler: Soo... you girls having fun?\\nMonica: For your information, ass munch, I've lost four pounds. Maybe even five with all the dancing. (A guy enters holding a pizza box)\\nPizza guy: SOMEBODY ORDER A PIZZA?\\nMonica: Oh THATS ME! (she runs to the pizza guy)\\nRachel: (finishing the last of her drink) I am soo not going to do good on my SATs tomorrow. \\nChandler: Well maybe if you go to school here next year we can totally hang out.\\nRachel: (sarcastic) Oh yeah. There is a plan! Why don't I just start taking my smart pills now?\\nChandler: Well, maybe you can get in on a beauty scholarship.\\nRachel: (blushing) Oh, what a line. (walks towards the drinks table with her back towards Chandler and whispers \\\"Oh my God!\\\")\\nChandler: So where are you applying to? \\nRachel: Oh well, You know, I think it's kinda really important that I go somewhere where there's sun, so I'm sort of... (Chandler leans in an kisses her) (She pulls away) Hey!\\nChandler: I'm in college and I'm in a band. \\nRachel: (She considers it for a second) Yeah okay. (She puts her hands around his neck and they start kissing again)\\n\\u00ac\\u2020 \\n[Scene: Monica's apartment. The stripper is sitting at the kitchen table. Monica, Rachel and Phoebe are standing around him]\\nRoy: What's the matter? You never saw a 50 year old stripper cry before?\\nPhoebe: You know, it's fine. We'll pay you.\\nRoy: No, no, you're right. Who am I kidding? I should have hung up that breakaway jockstrap years ago. What am I gonna do? I mean, this has been my life for thirty two years. Taking my clothes off in front of people is all I know.\\nRachel: No, wait. No there's gotta be something else that you can do. I mean, what skills do you have?\\nRoy: I don't know... I can make my pecs dance... I can pick up a dollar bill with my butt cheeks... I can go to that special place inside me where I feel no shame.\\nRachel: So maybe something in an office.\\nPhoebe: Or you could teach stripping. You know, share your gift, pass the torch.\\nRoy: You know, actually that's not a bad idea. I can do it out of my apartment. I don't think my mom would mind.\\nPhoebe: There you go. Okay, do you think you're gonna be okay?\\nRoy: Yeah, yeah, yeah... This is so weird. I mean, you never know when it's gonna be your last dance. And I didn't even get a chance to finish it.\\nPhoebe: (after a pause) Finish it!\\nRoy: What?\\nPhoebe: Your last dance. Do it for us.\\nRoy: Really?\\nRachel: (to Phoebe) Really?\\nPhoebe: Yeah, yeah. He deserves to do the thing he loves one last time. \\nRoy: Okay, all right... Get ready ladies!\\n(they sit down and Roy plays \\\"You Make Me Feel\\\" by Sylvester on his boom box, and starts... With his back towards the girls, he starts waving his hands, then backs towards the girls slapping his butt, then swings it around, and makes thrusting pelvic movements in front of Phoebe. He dances around the tables in between all the girls, and gets back into the kitchen part of the room. He then tears off one of his sleeves and throws it towards Monica and Rachel, who fight over who gets it. He then tears off his other sleeve and moves it back and forth between his legs, getting closer to Phoebe.)\\nPhoebe: Oh this is so ho-o-ot!\\n(Roy then sits on Phoebe's lap, looking exhausted)\\nPhoebe: Oh no, no, no, don't stop!\\nRoy: (out of breath) Have to...\\n\\u00ac\\u2020 \\n[Scene: The game show studio. Joey and Gene are sitting in the winner circle.]\\nDonny: Well, welcome to the Winner Circle. Joey and Gene, you guys ready?\\nJoey: (nervously) Yeah...\\nGene: (irritable) Sure. (Joey gets even more nervous)\\nDonny: Okay. Give me sixty seconds on the clock please... Ready, GO! (runs off)\\n(the screen says \\\"6 to win\\\" and \\\"types of trees\\\")\\nGene: Oak, maple, elm, birch...\\nJoey: I-I-I don't know. Types of trees?\\n(Joey hears the bell which means his answer is correct and is surprised. The screen now says \\\"5 to win\\\" and \\\"Spanish words\\\")\\nGene: Uhm... Buenos d\\u221a\\u2260as, enchilada, por favor...\\nJoey: (sympathetic) Oh, I'm so sorry. I don't know any Spanish words.\\n(There's the next bell, and the correct answer. The screen changes to \\\"4 to win\\\" and \\\"things that burn\\\". Gene now realizes that he got two correct answers and gets up in his seat.)\\nGene: A match, a candle...\\nJoey: Things that go \\\"tssst\\\" when you put them out.\\nGene: A torch, a bonfire... (Joey seems lost) uhm, your pee...\\nJoey: Things that burn.\\n(and another bell for the correct answer. \\\"3 to win\\\" and \\\"What a dog might say\\\")\\nGene: \\\"I'd like to go for a walk\\\", uhm \\\"scratch my belly\\\".\\nJoey: Dude, dude! I think you're losing it.\\nGene: Uhm, \\\"I have fur\\\", \\\"I like to bark\\\".\\nJoey: Oh, oh, oh... What a dog says.\\n(the bell sounds again, \\\"2 to win\\\" and \\\"pizza toppings\\\")\\nGene: Pepperoni...\\nJoey: (instantly) Pizza toppings, next!\\n(there's 10 seconds left, \\\"1 to win\\\" and \\\"Supermodels\\\")\\nGene: Cindy Crawford, Christie Brinkley, Heidi Klum, Claudia Schiffer...\\nJoey: Oh, oh, oh... (5 seconds left)\\nGene: Christie Turlington, Kate Moss...\\nJoey: Girls Chandler could never get?\\nGene: (irritated) Supermodels!\\nJoey: Where? (looking around)\\n\\u00ac\\u2020\\n[Scene: Chandler and Monica's apartment. Monica's there and Ross and Chandler walk in.]\\nRoss: Hey, where's Rachel?\\nMonica: She and Phoebe took the stripper to the hospital.\\nRoss: Did you know Chandler kissed Rachel?\\nMonica: What? When was this?\\nRoss: Nineteen Eighty Seven. The weekend you guys visited me at school.\\nMonica: Oh my God! That's wild!\\nChandler: Yeah, but it was like a million years ago, so it doesn't matter.\\nRoss: Well, it matters to me.\\nChandler: Why?\\nRoss: Because... the night you kissed Rachel was the night I kissed Rachel for the very first time.\\nChandler: You kissed her that night too?\\nMonica: Two guys in one night? Wow, I thought she became a slut after she got her nose fixed.\\nChandler: Seriously, where did this happen?\\nRoss: Okay, after you told me she was passed out in our room, I went in there to make sure she was all right. She was lying on my bed, all buried in peoples coats. Well, I went to kiss her on the forehead, you know. But it was so dark, I accidentally got her lips. I started to pull away, but then I felt her start to kiss me back. It was only for a second, but... it was amazing. And now, now I find out that you kissed her first.\\nChandler: Oh wait... What bed did you say she was on?\\nRoss: Mine.\\nChandler: I'm pretty sure I put her on my bed.\\nRoss: No, she was definitely on my bed. \\nChandler: Why would I kiss a girl, and then put her on your bed?\\nRoss: Well, then who was on my bed?\\nMonica: (screeching) OH! Oh, oh! (holding her hand in front of her mouth)\\nRoss: (realizing) NO! No, no!\\nMonica: YES! (Chandler gets an \\\"oh no!\\\" look on his face)\\nRoss: You were under the pile of coats?\\nMonica: I was the pile of coats!\\nRoss: OH MY GOD!\\nMonica: You were my Midnight Mystery Kisser?\\nRoss: You were my first kiss with Rachel?\\nMonica: You were my first kiss ever?\\nChandler: What did I marry into?\\n\\nCOMMERCIAL BREAK\\n\\u00ac\\u2020\\n[Scene: Back at the party in 1987. People are dancing to \\\"Disco Inferno\\\" by The Trammps.]\\n(Monica is dancing. At first she seems insecure and moves slowly, but then gets into the groove and swings her hips from side to side while holding her hands up. She then eats the last piece of pizza she was holding and again moves her hips from side to side, pushing her hands in the air in beat with the music. Her moves get more wildly while she's snapping her fingers. She loses balance and falls back onto a pink bean bag.)\\nMonica: Oh, crap!\\nTHE END\\n\\u00ac\\u2020\\n\\n\\n\"\n        ],\n        \"semantic_type\": \"\",\n        \"description\": \"\"\n      }\n    },\n    {\n      \"column\": \"ratings\",\n      \"properties\": {\n        \"dtype\": \"category\",\n        \"num_unique_values\": 1,\n        \"samples\": [\n          \"-\"\n        ],\n        \"semantic_type\": \"\",\n        \"description\": \"\"\n      }\n    }\n  ]\n}"
            }
          },
          "metadata": {},
          "execution_count": 17
        }
      ]
    },
    {
      "cell_type": "code",
      "source": [
        "friends_train_df.info()"
      ],
      "metadata": {
        "colab": {
          "base_uri": "https://localhost:8080/"
        },
        "id": "VM2pEmQ6lmDW",
        "outputId": "48afec0c-aac3-4b95-c31e-efa1af5f83db"
      },
      "execution_count": null,
      "outputs": [
        {
          "output_type": "stream",
          "name": "stdout",
          "text": [
            "<class 'pandas.core.frame.DataFrame'>\n",
            "RangeIndex: 195 entries, 0 to 194\n",
            "Data columns (total 5 columns):\n",
            " #   Column         Non-Null Count  Dtype  \n",
            "---  ------         --------------  -----  \n",
            " 0   title          195 non-null    object \n",
            " 1   plot           195 non-null    object \n",
            " 2   ratings        195 non-null    float64\n",
            " 3   date           195 non-null    object \n",
            " 4   total_reviews  195 non-null    object \n",
            "dtypes: float64(1), object(4)\n",
            "memory usage: 7.7+ KB\n"
          ]
        }
      ]
    },
    {
      "cell_type": "code",
      "source": [
        "px.histogram(friends_train_df,x='ratings',nbins=20,title='Ratings of episode in training')"
      ],
      "metadata": {
        "colab": {
          "base_uri": "https://localhost:8080/",
          "height": 542
        },
        "id": "oQVHTsazlpkM",
        "outputId": "5710f915-937a-4c4f-cfb7-925e1d7831d5"
      },
      "execution_count": null,
      "outputs": [
        {
          "output_type": "display_data",
          "data": {
            "text/html": [
              "<html>\n",
              "<head><meta charset=\"utf-8\" /></head>\n",
              "<body>\n",
              "    <div>            <script src=\"https://cdnjs.cloudflare.com/ajax/libs/mathjax/2.7.5/MathJax.js?config=TeX-AMS-MML_SVG\"></script><script type=\"text/javascript\">if (window.MathJax && window.MathJax.Hub && window.MathJax.Hub.Config) {window.MathJax.Hub.Config({SVG: {font: \"STIX-Web\"}});}</script>                <script type=\"text/javascript\">window.PlotlyConfig = {MathJaxConfig: 'local'};</script>\n",
              "        <script charset=\"utf-8\" src=\"https://cdn.plot.ly/plotly-2.35.2.min.js\"></script>                <div id=\"56f30dd4-86cc-4028-9315-6d1845db9900\" class=\"plotly-graph-div\" style=\"height:525px; width:100%;\"></div>            <script type=\"text/javascript\">                                    window.PLOTLYENV=window.PLOTLYENV || {};                                    if (document.getElementById(\"56f30dd4-86cc-4028-9315-6d1845db9900\")) {                    Plotly.newPlot(                        \"56f30dd4-86cc-4028-9315-6d1845db9900\",                        [{\"alignmentgroup\":\"True\",\"bingroup\":\"x\",\"hovertemplate\":\"ratings=%{x}\\u003cbr\\u003ecount=%{y}\\u003cextra\\u003e\\u003c\\u002fextra\\u003e\",\"legendgroup\":\"\",\"marker\":{\"color\":\"#636efa\",\"pattern\":{\"shape\":\"\"}},\"name\":\"\",\"nbinsx\":20,\"offsetgroup\":\"\",\"orientation\":\"v\",\"showlegend\":false,\"x\":[8.3,8.0,8.1,8.1,8.4,8.1,9.0,8.1,8.2,8.0,8.2,8.2,8.6,8.2,8.2,8.1,8.4,8.8,8.1,7.8,7.8,8.3,8.7,8.9,8.5,8.2,8.3,7.9,8.2,8.6,9.0,8.5,7.9,8.0,8.1,8.6,8.7,9.4,8.9,8.6,8.3,8.4,8.5,8.1,8.1,9.0,8.0,8.2,8.4,9.0,8.0,8.0,8.1,9.1,8.3,8.3,9.0,8.1,8.5,8.2,8.2,7.8,8.5,9.1,8.3,8.4,8.1,8.1,8.7,8.2,8.0,8.1,8.8,9.1,8.0,8.5,8.2,8.4,8.5,8.7,9.1,7.9,8.0,8.5,9.5,8.2,8.2,8.5,8.2,8.6,8.2,8.7,8.5,7.1,8.5,8.7,9.2,8.9,9.0,8.8,8.2,8.7,8.0,8.3,9.1,9.1,8.1,9.1,8.2,8.1,9.7,8.5,8.6,8.5,7.9,8.7,8.2,8.4,8.2,8.8,9.1,8.7,8.2,8.1,8.5,8.1,8.5,8.3,8.5,9.2,8.6,8.1,8.0,8.2,8.5,8.5,8.5,9.1,8.3,8.3,7.3,8.6,9.0,8.6,8.7,9.3,8.4,8.3,8.1,8.0,8.0,8.8,8.4,8.1,8.1,8.5,8.6,8.6,8.4,8.6,8.4,8.7,8.3,8.4,8.6,8.3,7.4,8.3,8.9,9.2,8.7,9.1,8.7,9.3,8.0,8.5,7.8,8.7,9.3,8.0,8.0,8.5,8.5,8.2,8.3,8.2,8.0,8.2,7.4,8.2,8.1,8.3,8.8,8.9,8.6],\"xaxis\":\"x\",\"yaxis\":\"y\",\"type\":\"histogram\"}],                        {\"template\":{\"data\":{\"histogram2dcontour\":[{\"type\":\"histogram2dcontour\",\"colorbar\":{\"outlinewidth\":0,\"ticks\":\"\"},\"colorscale\":[[0.0,\"#0d0887\"],[0.1111111111111111,\"#46039f\"],[0.2222222222222222,\"#7201a8\"],[0.3333333333333333,\"#9c179e\"],[0.4444444444444444,\"#bd3786\"],[0.5555555555555556,\"#d8576b\"],[0.6666666666666666,\"#ed7953\"],[0.7777777777777778,\"#fb9f3a\"],[0.8888888888888888,\"#fdca26\"],[1.0,\"#f0f921\"]]}],\"choropleth\":[{\"type\":\"choropleth\",\"colorbar\":{\"outlinewidth\":0,\"ticks\":\"\"}}],\"histogram2d\":[{\"type\":\"histogram2d\",\"colorbar\":{\"outlinewidth\":0,\"ticks\":\"\"},\"colorscale\":[[0.0,\"#0d0887\"],[0.1111111111111111,\"#46039f\"],[0.2222222222222222,\"#7201a8\"],[0.3333333333333333,\"#9c179e\"],[0.4444444444444444,\"#bd3786\"],[0.5555555555555556,\"#d8576b\"],[0.6666666666666666,\"#ed7953\"],[0.7777777777777778,\"#fb9f3a\"],[0.8888888888888888,\"#fdca26\"],[1.0,\"#f0f921\"]]}],\"heatmap\":[{\"type\":\"heatmap\",\"colorbar\":{\"outlinewidth\":0,\"ticks\":\"\"},\"colorscale\":[[0.0,\"#0d0887\"],[0.1111111111111111,\"#46039f\"],[0.2222222222222222,\"#7201a8\"],[0.3333333333333333,\"#9c179e\"],[0.4444444444444444,\"#bd3786\"],[0.5555555555555556,\"#d8576b\"],[0.6666666666666666,\"#ed7953\"],[0.7777777777777778,\"#fb9f3a\"],[0.8888888888888888,\"#fdca26\"],[1.0,\"#f0f921\"]]}],\"heatmapgl\":[{\"type\":\"heatmapgl\",\"colorbar\":{\"outlinewidth\":0,\"ticks\":\"\"},\"colorscale\":[[0.0,\"#0d0887\"],[0.1111111111111111,\"#46039f\"],[0.2222222222222222,\"#7201a8\"],[0.3333333333333333,\"#9c179e\"],[0.4444444444444444,\"#bd3786\"],[0.5555555555555556,\"#d8576b\"],[0.6666666666666666,\"#ed7953\"],[0.7777777777777778,\"#fb9f3a\"],[0.8888888888888888,\"#fdca26\"],[1.0,\"#f0f921\"]]}],\"contourcarpet\":[{\"type\":\"contourcarpet\",\"colorbar\":{\"outlinewidth\":0,\"ticks\":\"\"}}],\"contour\":[{\"type\":\"contour\",\"colorbar\":{\"outlinewidth\":0,\"ticks\":\"\"},\"colorscale\":[[0.0,\"#0d0887\"],[0.1111111111111111,\"#46039f\"],[0.2222222222222222,\"#7201a8\"],[0.3333333333333333,\"#9c179e\"],[0.4444444444444444,\"#bd3786\"],[0.5555555555555556,\"#d8576b\"],[0.6666666666666666,\"#ed7953\"],[0.7777777777777778,\"#fb9f3a\"],[0.8888888888888888,\"#fdca26\"],[1.0,\"#f0f921\"]]}],\"surface\":[{\"type\":\"surface\",\"colorbar\":{\"outlinewidth\":0,\"ticks\":\"\"},\"colorscale\":[[0.0,\"#0d0887\"],[0.1111111111111111,\"#46039f\"],[0.2222222222222222,\"#7201a8\"],[0.3333333333333333,\"#9c179e\"],[0.4444444444444444,\"#bd3786\"],[0.5555555555555556,\"#d8576b\"],[0.6666666666666666,\"#ed7953\"],[0.7777777777777778,\"#fb9f3a\"],[0.8888888888888888,\"#fdca26\"],[1.0,\"#f0f921\"]]}],\"mesh3d\":[{\"type\":\"mesh3d\",\"colorbar\":{\"outlinewidth\":0,\"ticks\":\"\"}}],\"scatter\":[{\"fillpattern\":{\"fillmode\":\"overlay\",\"size\":10,\"solidity\":0.2},\"type\":\"scatter\"}],\"parcoords\":[{\"type\":\"parcoords\",\"line\":{\"colorbar\":{\"outlinewidth\":0,\"ticks\":\"\"}}}],\"scatterpolargl\":[{\"type\":\"scatterpolargl\",\"marker\":{\"colorbar\":{\"outlinewidth\":0,\"ticks\":\"\"}}}],\"bar\":[{\"error_x\":{\"color\":\"#2a3f5f\"},\"error_y\":{\"color\":\"#2a3f5f\"},\"marker\":{\"line\":{\"color\":\"#E5ECF6\",\"width\":0.5},\"pattern\":{\"fillmode\":\"overlay\",\"size\":10,\"solidity\":0.2}},\"type\":\"bar\"}],\"scattergeo\":[{\"type\":\"scattergeo\",\"marker\":{\"colorbar\":{\"outlinewidth\":0,\"ticks\":\"\"}}}],\"scatterpolar\":[{\"type\":\"scatterpolar\",\"marker\":{\"colorbar\":{\"outlinewidth\":0,\"ticks\":\"\"}}}],\"histogram\":[{\"marker\":{\"pattern\":{\"fillmode\":\"overlay\",\"size\":10,\"solidity\":0.2}},\"type\":\"histogram\"}],\"scattergl\":[{\"type\":\"scattergl\",\"marker\":{\"colorbar\":{\"outlinewidth\":0,\"ticks\":\"\"}}}],\"scatter3d\":[{\"type\":\"scatter3d\",\"line\":{\"colorbar\":{\"outlinewidth\":0,\"ticks\":\"\"}},\"marker\":{\"colorbar\":{\"outlinewidth\":0,\"ticks\":\"\"}}}],\"scattermapbox\":[{\"type\":\"scattermapbox\",\"marker\":{\"colorbar\":{\"outlinewidth\":0,\"ticks\":\"\"}}}],\"scatterternary\":[{\"type\":\"scatterternary\",\"marker\":{\"colorbar\":{\"outlinewidth\":0,\"ticks\":\"\"}}}],\"scattercarpet\":[{\"type\":\"scattercarpet\",\"marker\":{\"colorbar\":{\"outlinewidth\":0,\"ticks\":\"\"}}}],\"carpet\":[{\"aaxis\":{\"endlinecolor\":\"#2a3f5f\",\"gridcolor\":\"white\",\"linecolor\":\"white\",\"minorgridcolor\":\"white\",\"startlinecolor\":\"#2a3f5f\"},\"baxis\":{\"endlinecolor\":\"#2a3f5f\",\"gridcolor\":\"white\",\"linecolor\":\"white\",\"minorgridcolor\":\"white\",\"startlinecolor\":\"#2a3f5f\"},\"type\":\"carpet\"}],\"table\":[{\"cells\":{\"fill\":{\"color\":\"#EBF0F8\"},\"line\":{\"color\":\"white\"}},\"header\":{\"fill\":{\"color\":\"#C8D4E3\"},\"line\":{\"color\":\"white\"}},\"type\":\"table\"}],\"barpolar\":[{\"marker\":{\"line\":{\"color\":\"#E5ECF6\",\"width\":0.5},\"pattern\":{\"fillmode\":\"overlay\",\"size\":10,\"solidity\":0.2}},\"type\":\"barpolar\"}],\"pie\":[{\"automargin\":true,\"type\":\"pie\"}]},\"layout\":{\"autotypenumbers\":\"strict\",\"colorway\":[\"#636efa\",\"#EF553B\",\"#00cc96\",\"#ab63fa\",\"#FFA15A\",\"#19d3f3\",\"#FF6692\",\"#B6E880\",\"#FF97FF\",\"#FECB52\"],\"font\":{\"color\":\"#2a3f5f\"},\"hovermode\":\"closest\",\"hoverlabel\":{\"align\":\"left\"},\"paper_bgcolor\":\"white\",\"plot_bgcolor\":\"#E5ECF6\",\"polar\":{\"bgcolor\":\"#E5ECF6\",\"angularaxis\":{\"gridcolor\":\"white\",\"linecolor\":\"white\",\"ticks\":\"\"},\"radialaxis\":{\"gridcolor\":\"white\",\"linecolor\":\"white\",\"ticks\":\"\"}},\"ternary\":{\"bgcolor\":\"#E5ECF6\",\"aaxis\":{\"gridcolor\":\"white\",\"linecolor\":\"white\",\"ticks\":\"\"},\"baxis\":{\"gridcolor\":\"white\",\"linecolor\":\"white\",\"ticks\":\"\"},\"caxis\":{\"gridcolor\":\"white\",\"linecolor\":\"white\",\"ticks\":\"\"}},\"coloraxis\":{\"colorbar\":{\"outlinewidth\":0,\"ticks\":\"\"}},\"colorscale\":{\"sequential\":[[0.0,\"#0d0887\"],[0.1111111111111111,\"#46039f\"],[0.2222222222222222,\"#7201a8\"],[0.3333333333333333,\"#9c179e\"],[0.4444444444444444,\"#bd3786\"],[0.5555555555555556,\"#d8576b\"],[0.6666666666666666,\"#ed7953\"],[0.7777777777777778,\"#fb9f3a\"],[0.8888888888888888,\"#fdca26\"],[1.0,\"#f0f921\"]],\"sequentialminus\":[[0.0,\"#0d0887\"],[0.1111111111111111,\"#46039f\"],[0.2222222222222222,\"#7201a8\"],[0.3333333333333333,\"#9c179e\"],[0.4444444444444444,\"#bd3786\"],[0.5555555555555556,\"#d8576b\"],[0.6666666666666666,\"#ed7953\"],[0.7777777777777778,\"#fb9f3a\"],[0.8888888888888888,\"#fdca26\"],[1.0,\"#f0f921\"]],\"diverging\":[[0,\"#8e0152\"],[0.1,\"#c51b7d\"],[0.2,\"#de77ae\"],[0.3,\"#f1b6da\"],[0.4,\"#fde0ef\"],[0.5,\"#f7f7f7\"],[0.6,\"#e6f5d0\"],[0.7,\"#b8e186\"],[0.8,\"#7fbc41\"],[0.9,\"#4d9221\"],[1,\"#276419\"]]},\"xaxis\":{\"gridcolor\":\"white\",\"linecolor\":\"white\",\"ticks\":\"\",\"title\":{\"standoff\":15},\"zerolinecolor\":\"white\",\"automargin\":true,\"zerolinewidth\":2},\"yaxis\":{\"gridcolor\":\"white\",\"linecolor\":\"white\",\"ticks\":\"\",\"title\":{\"standoff\":15},\"zerolinecolor\":\"white\",\"automargin\":true,\"zerolinewidth\":2},\"scene\":{\"xaxis\":{\"backgroundcolor\":\"#E5ECF6\",\"gridcolor\":\"white\",\"linecolor\":\"white\",\"showbackground\":true,\"ticks\":\"\",\"zerolinecolor\":\"white\",\"gridwidth\":2},\"yaxis\":{\"backgroundcolor\":\"#E5ECF6\",\"gridcolor\":\"white\",\"linecolor\":\"white\",\"showbackground\":true,\"ticks\":\"\",\"zerolinecolor\":\"white\",\"gridwidth\":2},\"zaxis\":{\"backgroundcolor\":\"#E5ECF6\",\"gridcolor\":\"white\",\"linecolor\":\"white\",\"showbackground\":true,\"ticks\":\"\",\"zerolinecolor\":\"white\",\"gridwidth\":2}},\"shapedefaults\":{\"line\":{\"color\":\"#2a3f5f\"}},\"annotationdefaults\":{\"arrowcolor\":\"#2a3f5f\",\"arrowhead\":0,\"arrowwidth\":1},\"geo\":{\"bgcolor\":\"white\",\"landcolor\":\"#E5ECF6\",\"subunitcolor\":\"white\",\"showland\":true,\"showlakes\":true,\"lakecolor\":\"white\"},\"title\":{\"x\":0.05},\"mapbox\":{\"style\":\"light\"}}},\"xaxis\":{\"anchor\":\"y\",\"domain\":[0.0,1.0],\"title\":{\"text\":\"ratings\"}},\"yaxis\":{\"anchor\":\"x\",\"domain\":[0.0,1.0],\"title\":{\"text\":\"count\"}},\"legend\":{\"tracegroupgap\":0},\"title\":{\"text\":\"Ratings of episode in training\"},\"barmode\":\"relative\"},                        {\"responsive\": true}                    ).then(function(){\n",
              "                            \n",
              "var gd = document.getElementById('56f30dd4-86cc-4028-9315-6d1845db9900');\n",
              "var x = new MutationObserver(function (mutations, observer) {{\n",
              "        var display = window.getComputedStyle(gd).display;\n",
              "        if (!display || display === 'none') {{\n",
              "            console.log([gd, 'removed!']);\n",
              "            Plotly.purge(gd);\n",
              "            observer.disconnect();\n",
              "        }}\n",
              "}});\n",
              "\n",
              "// Listen for the removal of the full notebook cells\n",
              "var notebookContainer = gd.closest('#notebook-container');\n",
              "if (notebookContainer) {{\n",
              "    x.observe(notebookContainer, {childList: true});\n",
              "}}\n",
              "\n",
              "// Listen for the clearing of the current output cell\n",
              "var outputEl = gd.closest('.output');\n",
              "if (outputEl) {{\n",
              "    x.observe(outputEl, {childList: true});\n",
              "}}\n",
              "\n",
              "                        })                };                            </script>        </div>\n",
              "</body>\n",
              "</html>"
            ]
          },
          "metadata": {}
        }
      ]
    },
    {
      "cell_type": "code",
      "source": [
        "friends_train_df['date'] = pd.to_datetime(friends_train_df['date'],format=\"%d-%b-%y\",errors='coerce')"
      ],
      "metadata": {
        "id": "i-mPV5Q3l4QQ"
      },
      "execution_count": null,
      "outputs": []
    },
    {
      "cell_type": "code",
      "source": [
        "px.line(friends_train_df,x='date',y='ratings',title='Ratings of episode across different dates')"
      ],
      "metadata": {
        "colab": {
          "base_uri": "https://localhost:8080/",
          "height": 542
        },
        "id": "M_slThqZmZZp",
        "outputId": "7eca6da7-533d-4678-b7e9-f8d7511f3171"
      },
      "execution_count": null,
      "outputs": [
        {
          "output_type": "display_data",
          "data": {
            "text/html": [
              "<html>\n",
              "<head><meta charset=\"utf-8\" /></head>\n",
              "<body>\n",
              "    <div>            <script src=\"https://cdnjs.cloudflare.com/ajax/libs/mathjax/2.7.5/MathJax.js?config=TeX-AMS-MML_SVG\"></script><script type=\"text/javascript\">if (window.MathJax && window.MathJax.Hub && window.MathJax.Hub.Config) {window.MathJax.Hub.Config({SVG: {font: \"STIX-Web\"}});}</script>                <script type=\"text/javascript\">window.PlotlyConfig = {MathJaxConfig: 'local'};</script>\n",
              "        <script charset=\"utf-8\" src=\"https://cdn.plot.ly/plotly-2.35.2.min.js\"></script>                <div id=\"a68afc61-9ff3-49b9-9333-e67dc49cf6ce\" class=\"plotly-graph-div\" style=\"height:525px; width:100%;\"></div>            <script type=\"text/javascript\">                                    window.PLOTLYENV=window.PLOTLYENV || {};                                    if (document.getElementById(\"a68afc61-9ff3-49b9-9333-e67dc49cf6ce\")) {                    Plotly.newPlot(                        \"a68afc61-9ff3-49b9-9333-e67dc49cf6ce\",                        [{\"hovertemplate\":\"date=%{x}\\u003cbr\\u003eratings=%{y}\\u003cextra\\u003e\\u003c\\u002fextra\\u003e\",\"legendgroup\":\"\",\"line\":{\"color\":\"#636efa\",\"dash\":\"solid\"},\"marker\":{\"symbol\":\"circle\"},\"mode\":\"lines\",\"name\":\"\",\"orientation\":\"v\",\"showlegend\":false,\"x\":[null,null,null,null,null,null,null,null,null,null,null,null,null,null,null,null,null,null,null,null,null,\"1995-05-04T00:00:00\",\"1995-05-11T00:00:00\",\"1995-05-18T00:00:00\",null,null,null,null,null,null,null,null,null,null,null,null,null,null,null,null,null,null,null,null,null,\"1996-05-02T00:00:00\",\"1996-05-09T00:00:00\",\"1996-05-16T00:00:00\",null,null,null,null,null,null,null,null,null,null,null,null,null,null,null,null,null,null,null,null,null,null,\"1997-05-01T00:00:00\",\"1997-05-08T00:00:00\",\"1997-05-15T00:00:00\",null,null,null,null,null,null,null,null,null,null,null,null,null,null,null,null,null,null,null,null,null,null,\"1998-05-07T00:00:00\",\"1998-05-07T00:00:00\",null,null,null,null,null,null,null,null,null,null,null,null,null,null,null,null,null,null,null,null,\"1999-05-06T00:00:00\",\"1999-05-11T00:00:00\",\"1999-05-20T00:00:00\",\"1999-05-20T00:00:00\",null,null,null,null,null,null,null,null,null,null,null,null,null,null,null,null,null,null,null,null,null,\"2000-05-04T00:00:00\",\"2000-05-11T00:00:00\",\"2000-05-18T00:00:00\",\"2000-05-18T00:00:00\",null,null,null,null,null,null,null,null,null,null,null,null,null,null,null,null,null,null,null,null,\"2001-05-03T00:00:00\",\"2001-05-10T00:00:00\",\"2001-05-17T00:00:00\",\"2001-05-17T00:00:00\",null,null,null,null,null,null,null,null,null,null,null,null,null,null,null,null,null,null,null,null,\"2002-05-02T00:00:00\",\"2002-05-09T00:00:00\",\"2002-05-16T00:00:00\",\"2002-05-16T00:00:00\",null],\"xaxis\":\"x\",\"y\":[8.3,8.0,8.1,8.1,8.4,8.1,9.0,8.1,8.2,8.0,8.2,8.2,8.6,8.2,8.2,8.1,8.4,8.8,8.1,7.8,7.8,8.3,8.7,8.9,8.5,8.2,8.3,7.9,8.2,8.6,9.0,8.5,7.9,8.0,8.1,8.6,8.7,9.4,8.9,8.6,8.3,8.4,8.5,8.1,8.1,9.0,8.0,8.2,8.4,9.0,8.0,8.0,8.1,9.1,8.3,8.3,9.0,8.1,8.5,8.2,8.2,7.8,8.5,9.1,8.3,8.4,8.1,8.1,8.7,8.2,8.0,8.1,8.8,9.1,8.0,8.5,8.2,8.4,8.5,8.7,9.1,7.9,8.0,8.5,9.5,8.2,8.2,8.5,8.2,8.6,8.2,8.7,8.5,7.1,8.5,8.7,9.2,8.9,9.0,8.8,8.2,8.7,8.0,8.3,9.1,9.1,8.1,9.1,8.2,8.1,9.7,8.5,8.6,8.5,7.9,8.7,8.2,8.4,8.2,8.8,9.1,8.7,8.2,8.1,8.5,8.1,8.5,8.3,8.5,9.2,8.6,8.1,8.0,8.2,8.5,8.5,8.5,9.1,8.3,8.3,7.3,8.6,9.0,8.6,8.7,9.3,8.4,8.3,8.1,8.0,8.0,8.8,8.4,8.1,8.1,8.5,8.6,8.6,8.4,8.6,8.4,8.7,8.3,8.4,8.6,8.3,7.4,8.3,8.9,9.2,8.7,9.1,8.7,9.3,8.0,8.5,7.8,8.7,9.3,8.0,8.0,8.5,8.5,8.2,8.3,8.2,8.0,8.2,7.4,8.2,8.1,8.3,8.8,8.9,8.6],\"yaxis\":\"y\",\"type\":\"scatter\"}],                        {\"template\":{\"data\":{\"histogram2dcontour\":[{\"type\":\"histogram2dcontour\",\"colorbar\":{\"outlinewidth\":0,\"ticks\":\"\"},\"colorscale\":[[0.0,\"#0d0887\"],[0.1111111111111111,\"#46039f\"],[0.2222222222222222,\"#7201a8\"],[0.3333333333333333,\"#9c179e\"],[0.4444444444444444,\"#bd3786\"],[0.5555555555555556,\"#d8576b\"],[0.6666666666666666,\"#ed7953\"],[0.7777777777777778,\"#fb9f3a\"],[0.8888888888888888,\"#fdca26\"],[1.0,\"#f0f921\"]]}],\"choropleth\":[{\"type\":\"choropleth\",\"colorbar\":{\"outlinewidth\":0,\"ticks\":\"\"}}],\"histogram2d\":[{\"type\":\"histogram2d\",\"colorbar\":{\"outlinewidth\":0,\"ticks\":\"\"},\"colorscale\":[[0.0,\"#0d0887\"],[0.1111111111111111,\"#46039f\"],[0.2222222222222222,\"#7201a8\"],[0.3333333333333333,\"#9c179e\"],[0.4444444444444444,\"#bd3786\"],[0.5555555555555556,\"#d8576b\"],[0.6666666666666666,\"#ed7953\"],[0.7777777777777778,\"#fb9f3a\"],[0.8888888888888888,\"#fdca26\"],[1.0,\"#f0f921\"]]}],\"heatmap\":[{\"type\":\"heatmap\",\"colorbar\":{\"outlinewidth\":0,\"ticks\":\"\"},\"colorscale\":[[0.0,\"#0d0887\"],[0.1111111111111111,\"#46039f\"],[0.2222222222222222,\"#7201a8\"],[0.3333333333333333,\"#9c179e\"],[0.4444444444444444,\"#bd3786\"],[0.5555555555555556,\"#d8576b\"],[0.6666666666666666,\"#ed7953\"],[0.7777777777777778,\"#fb9f3a\"],[0.8888888888888888,\"#fdca26\"],[1.0,\"#f0f921\"]]}],\"heatmapgl\":[{\"type\":\"heatmapgl\",\"colorbar\":{\"outlinewidth\":0,\"ticks\":\"\"},\"colorscale\":[[0.0,\"#0d0887\"],[0.1111111111111111,\"#46039f\"],[0.2222222222222222,\"#7201a8\"],[0.3333333333333333,\"#9c179e\"],[0.4444444444444444,\"#bd3786\"],[0.5555555555555556,\"#d8576b\"],[0.6666666666666666,\"#ed7953\"],[0.7777777777777778,\"#fb9f3a\"],[0.8888888888888888,\"#fdca26\"],[1.0,\"#f0f921\"]]}],\"contourcarpet\":[{\"type\":\"contourcarpet\",\"colorbar\":{\"outlinewidth\":0,\"ticks\":\"\"}}],\"contour\":[{\"type\":\"contour\",\"colorbar\":{\"outlinewidth\":0,\"ticks\":\"\"},\"colorscale\":[[0.0,\"#0d0887\"],[0.1111111111111111,\"#46039f\"],[0.2222222222222222,\"#7201a8\"],[0.3333333333333333,\"#9c179e\"],[0.4444444444444444,\"#bd3786\"],[0.5555555555555556,\"#d8576b\"],[0.6666666666666666,\"#ed7953\"],[0.7777777777777778,\"#fb9f3a\"],[0.8888888888888888,\"#fdca26\"],[1.0,\"#f0f921\"]]}],\"surface\":[{\"type\":\"surface\",\"colorbar\":{\"outlinewidth\":0,\"ticks\":\"\"},\"colorscale\":[[0.0,\"#0d0887\"],[0.1111111111111111,\"#46039f\"],[0.2222222222222222,\"#7201a8\"],[0.3333333333333333,\"#9c179e\"],[0.4444444444444444,\"#bd3786\"],[0.5555555555555556,\"#d8576b\"],[0.6666666666666666,\"#ed7953\"],[0.7777777777777778,\"#fb9f3a\"],[0.8888888888888888,\"#fdca26\"],[1.0,\"#f0f921\"]]}],\"mesh3d\":[{\"type\":\"mesh3d\",\"colorbar\":{\"outlinewidth\":0,\"ticks\":\"\"}}],\"scatter\":[{\"fillpattern\":{\"fillmode\":\"overlay\",\"size\":10,\"solidity\":0.2},\"type\":\"scatter\"}],\"parcoords\":[{\"type\":\"parcoords\",\"line\":{\"colorbar\":{\"outlinewidth\":0,\"ticks\":\"\"}}}],\"scatterpolargl\":[{\"type\":\"scatterpolargl\",\"marker\":{\"colorbar\":{\"outlinewidth\":0,\"ticks\":\"\"}}}],\"bar\":[{\"error_x\":{\"color\":\"#2a3f5f\"},\"error_y\":{\"color\":\"#2a3f5f\"},\"marker\":{\"line\":{\"color\":\"#E5ECF6\",\"width\":0.5},\"pattern\":{\"fillmode\":\"overlay\",\"size\":10,\"solidity\":0.2}},\"type\":\"bar\"}],\"scattergeo\":[{\"type\":\"scattergeo\",\"marker\":{\"colorbar\":{\"outlinewidth\":0,\"ticks\":\"\"}}}],\"scatterpolar\":[{\"type\":\"scatterpolar\",\"marker\":{\"colorbar\":{\"outlinewidth\":0,\"ticks\":\"\"}}}],\"histogram\":[{\"marker\":{\"pattern\":{\"fillmode\":\"overlay\",\"size\":10,\"solidity\":0.2}},\"type\":\"histogram\"}],\"scattergl\":[{\"type\":\"scattergl\",\"marker\":{\"colorbar\":{\"outlinewidth\":0,\"ticks\":\"\"}}}],\"scatter3d\":[{\"type\":\"scatter3d\",\"line\":{\"colorbar\":{\"outlinewidth\":0,\"ticks\":\"\"}},\"marker\":{\"colorbar\":{\"outlinewidth\":0,\"ticks\":\"\"}}}],\"scattermapbox\":[{\"type\":\"scattermapbox\",\"marker\":{\"colorbar\":{\"outlinewidth\":0,\"ticks\":\"\"}}}],\"scatterternary\":[{\"type\":\"scatterternary\",\"marker\":{\"colorbar\":{\"outlinewidth\":0,\"ticks\":\"\"}}}],\"scattercarpet\":[{\"type\":\"scattercarpet\",\"marker\":{\"colorbar\":{\"outlinewidth\":0,\"ticks\":\"\"}}}],\"carpet\":[{\"aaxis\":{\"endlinecolor\":\"#2a3f5f\",\"gridcolor\":\"white\",\"linecolor\":\"white\",\"minorgridcolor\":\"white\",\"startlinecolor\":\"#2a3f5f\"},\"baxis\":{\"endlinecolor\":\"#2a3f5f\",\"gridcolor\":\"white\",\"linecolor\":\"white\",\"minorgridcolor\":\"white\",\"startlinecolor\":\"#2a3f5f\"},\"type\":\"carpet\"}],\"table\":[{\"cells\":{\"fill\":{\"color\":\"#EBF0F8\"},\"line\":{\"color\":\"white\"}},\"header\":{\"fill\":{\"color\":\"#C8D4E3\"},\"line\":{\"color\":\"white\"}},\"type\":\"table\"}],\"barpolar\":[{\"marker\":{\"line\":{\"color\":\"#E5ECF6\",\"width\":0.5},\"pattern\":{\"fillmode\":\"overlay\",\"size\":10,\"solidity\":0.2}},\"type\":\"barpolar\"}],\"pie\":[{\"automargin\":true,\"type\":\"pie\"}]},\"layout\":{\"autotypenumbers\":\"strict\",\"colorway\":[\"#636efa\",\"#EF553B\",\"#00cc96\",\"#ab63fa\",\"#FFA15A\",\"#19d3f3\",\"#FF6692\",\"#B6E880\",\"#FF97FF\",\"#FECB52\"],\"font\":{\"color\":\"#2a3f5f\"},\"hovermode\":\"closest\",\"hoverlabel\":{\"align\":\"left\"},\"paper_bgcolor\":\"white\",\"plot_bgcolor\":\"#E5ECF6\",\"polar\":{\"bgcolor\":\"#E5ECF6\",\"angularaxis\":{\"gridcolor\":\"white\",\"linecolor\":\"white\",\"ticks\":\"\"},\"radialaxis\":{\"gridcolor\":\"white\",\"linecolor\":\"white\",\"ticks\":\"\"}},\"ternary\":{\"bgcolor\":\"#E5ECF6\",\"aaxis\":{\"gridcolor\":\"white\",\"linecolor\":\"white\",\"ticks\":\"\"},\"baxis\":{\"gridcolor\":\"white\",\"linecolor\":\"white\",\"ticks\":\"\"},\"caxis\":{\"gridcolor\":\"white\",\"linecolor\":\"white\",\"ticks\":\"\"}},\"coloraxis\":{\"colorbar\":{\"outlinewidth\":0,\"ticks\":\"\"}},\"colorscale\":{\"sequential\":[[0.0,\"#0d0887\"],[0.1111111111111111,\"#46039f\"],[0.2222222222222222,\"#7201a8\"],[0.3333333333333333,\"#9c179e\"],[0.4444444444444444,\"#bd3786\"],[0.5555555555555556,\"#d8576b\"],[0.6666666666666666,\"#ed7953\"],[0.7777777777777778,\"#fb9f3a\"],[0.8888888888888888,\"#fdca26\"],[1.0,\"#f0f921\"]],\"sequentialminus\":[[0.0,\"#0d0887\"],[0.1111111111111111,\"#46039f\"],[0.2222222222222222,\"#7201a8\"],[0.3333333333333333,\"#9c179e\"],[0.4444444444444444,\"#bd3786\"],[0.5555555555555556,\"#d8576b\"],[0.6666666666666666,\"#ed7953\"],[0.7777777777777778,\"#fb9f3a\"],[0.8888888888888888,\"#fdca26\"],[1.0,\"#f0f921\"]],\"diverging\":[[0,\"#8e0152\"],[0.1,\"#c51b7d\"],[0.2,\"#de77ae\"],[0.3,\"#f1b6da\"],[0.4,\"#fde0ef\"],[0.5,\"#f7f7f7\"],[0.6,\"#e6f5d0\"],[0.7,\"#b8e186\"],[0.8,\"#7fbc41\"],[0.9,\"#4d9221\"],[1,\"#276419\"]]},\"xaxis\":{\"gridcolor\":\"white\",\"linecolor\":\"white\",\"ticks\":\"\",\"title\":{\"standoff\":15},\"zerolinecolor\":\"white\",\"automargin\":true,\"zerolinewidth\":2},\"yaxis\":{\"gridcolor\":\"white\",\"linecolor\":\"white\",\"ticks\":\"\",\"title\":{\"standoff\":15},\"zerolinecolor\":\"white\",\"automargin\":true,\"zerolinewidth\":2},\"scene\":{\"xaxis\":{\"backgroundcolor\":\"#E5ECF6\",\"gridcolor\":\"white\",\"linecolor\":\"white\",\"showbackground\":true,\"ticks\":\"\",\"zerolinecolor\":\"white\",\"gridwidth\":2},\"yaxis\":{\"backgroundcolor\":\"#E5ECF6\",\"gridcolor\":\"white\",\"linecolor\":\"white\",\"showbackground\":true,\"ticks\":\"\",\"zerolinecolor\":\"white\",\"gridwidth\":2},\"zaxis\":{\"backgroundcolor\":\"#E5ECF6\",\"gridcolor\":\"white\",\"linecolor\":\"white\",\"showbackground\":true,\"ticks\":\"\",\"zerolinecolor\":\"white\",\"gridwidth\":2}},\"shapedefaults\":{\"line\":{\"color\":\"#2a3f5f\"}},\"annotationdefaults\":{\"arrowcolor\":\"#2a3f5f\",\"arrowhead\":0,\"arrowwidth\":1},\"geo\":{\"bgcolor\":\"white\",\"landcolor\":\"#E5ECF6\",\"subunitcolor\":\"white\",\"showland\":true,\"showlakes\":true,\"lakecolor\":\"white\"},\"title\":{\"x\":0.05},\"mapbox\":{\"style\":\"light\"}}},\"xaxis\":{\"anchor\":\"y\",\"domain\":[0.0,1.0],\"title\":{\"text\":\"date\"}},\"yaxis\":{\"anchor\":\"x\",\"domain\":[0.0,1.0],\"title\":{\"text\":\"ratings\"}},\"legend\":{\"tracegroupgap\":0},\"title\":{\"text\":\"Ratings of episode across different dates\"}},                        {\"responsive\": true}                    ).then(function(){\n",
              "                            \n",
              "var gd = document.getElementById('a68afc61-9ff3-49b9-9333-e67dc49cf6ce');\n",
              "var x = new MutationObserver(function (mutations, observer) {{\n",
              "        var display = window.getComputedStyle(gd).display;\n",
              "        if (!display || display === 'none') {{\n",
              "            console.log([gd, 'removed!']);\n",
              "            Plotly.purge(gd);\n",
              "            observer.disconnect();\n",
              "        }}\n",
              "}});\n",
              "\n",
              "// Listen for the removal of the full notebook cells\n",
              "var notebookContainer = gd.closest('#notebook-container');\n",
              "if (notebookContainer) {{\n",
              "    x.observe(notebookContainer, {childList: true});\n",
              "}}\n",
              "\n",
              "// Listen for the clearing of the current output cell\n",
              "var outputEl = gd.closest('.output');\n",
              "if (outputEl) {{\n",
              "    x.observe(outputEl, {childList: true});\n",
              "}}\n",
              "\n",
              "                        })                };                            </script>        </div>\n",
              "</body>\n",
              "</html>"
            ]
          },
          "metadata": {}
        }
      ]
    },
    {
      "cell_type": "code",
      "source": [
        "px.line(friends_train_df,y='total_reviews',x='date',title='Number of reviews for episodes in training dataset')"
      ],
      "metadata": {
        "colab": {
          "base_uri": "https://localhost:8080/",
          "height": 542
        },
        "id": "pLP4bWecmr6d",
        "outputId": "db3bb836-bd02-4d30-e67b-5b0bf270fab6"
      },
      "execution_count": null,
      "outputs": [
        {
          "output_type": "display_data",
          "data": {
            "text/html": [
              "<html>\n",
              "<head><meta charset=\"utf-8\" /></head>\n",
              "<body>\n",
              "    <div>            <script src=\"https://cdnjs.cloudflare.com/ajax/libs/mathjax/2.7.5/MathJax.js?config=TeX-AMS-MML_SVG\"></script><script type=\"text/javascript\">if (window.MathJax && window.MathJax.Hub && window.MathJax.Hub.Config) {window.MathJax.Hub.Config({SVG: {font: \"STIX-Web\"}});}</script>                <script type=\"text/javascript\">window.PlotlyConfig = {MathJaxConfig: 'local'};</script>\n",
              "        <script charset=\"utf-8\" src=\"https://cdn.plot.ly/plotly-2.35.2.min.js\"></script>                <div id=\"5fd8b05d-42d4-4924-9a38-4d61fe4e7d17\" class=\"plotly-graph-div\" style=\"height:525px; width:100%;\"></div>            <script type=\"text/javascript\">                                    window.PLOTLYENV=window.PLOTLYENV || {};                                    if (document.getElementById(\"5fd8b05d-42d4-4924-9a38-4d61fe4e7d17\")) {                    Plotly.newPlot(                        \"5fd8b05d-42d4-4924-9a38-4d61fe4e7d17\",                        [{\"hovertemplate\":\"date=%{x}\\u003cbr\\u003etotal_reviews=%{y}\\u003cextra\\u003e\\u003c\\u002fextra\\u003e\",\"legendgroup\":\"\",\"line\":{\"color\":\"#636efa\",\"dash\":\"solid\"},\"marker\":{\"symbol\":\"circle\"},\"mode\":\"lines\",\"name\":\"\",\"orientation\":\"v\",\"showlegend\":false,\"x\":[null,null,null,null,null,null,null,null,null,null,null,null,null,null,null,null,null,null,null,null,null,\"1995-05-04T00:00:00\",\"1995-05-11T00:00:00\",\"1995-05-18T00:00:00\",null,null,null,null,null,null,null,null,null,null,null,null,null,null,null,null,null,null,null,null,null,\"1996-05-02T00:00:00\",\"1996-05-09T00:00:00\",\"1996-05-16T00:00:00\",null,null,null,null,null,null,null,null,null,null,null,null,null,null,null,null,null,null,null,null,null,null,\"1997-05-01T00:00:00\",\"1997-05-08T00:00:00\",\"1997-05-15T00:00:00\",null,null,null,null,null,null,null,null,null,null,null,null,null,null,null,null,null,null,null,null,null,null,\"1998-05-07T00:00:00\",\"1998-05-07T00:00:00\",null,null,null,null,null,null,null,null,null,null,null,null,null,null,null,null,null,null,null,null,\"1999-05-06T00:00:00\",\"1999-05-11T00:00:00\",\"1999-05-20T00:00:00\",\"1999-05-20T00:00:00\",null,null,null,null,null,null,null,null,null,null,null,null,null,null,null,null,null,null,null,null,null,\"2000-05-04T00:00:00\",\"2000-05-11T00:00:00\",\"2000-05-18T00:00:00\",\"2000-05-18T00:00:00\",null,null,null,null,null,null,null,null,null,null,null,null,null,null,null,null,null,null,null,null,\"2001-05-03T00:00:00\",\"2001-05-10T00:00:00\",\"2001-05-17T00:00:00\",\"2001-05-17T00:00:00\",null,null,null,null,null,null,null,null,null,null,null,null,null,null,null,null,null,null,null,null,\"2002-05-02T00:00:00\",\"2002-05-09T00:00:00\",\"2002-05-16T00:00:00\",\"2002-05-16T00:00:00\",null],\"xaxis\":\"x\",\"y\":[\"-8,583\",\"-6,607\",\"-6,213\",\"-6,035\",\"-6,029\",\"-5,745\",\"-7,311\",\"-5,615\",\"-5,444\",\"-5,472\",\"-5,387\",\"-5,293\",\"-5,645\",\"-5,201\",\"-5,247\",\"-5,167\",\"-5,265\",\"-5,825\",\"-5,040\",\"-5,033\",\"-5,071\",\"-5,035\",\"-5,317\",\"-5,665\",\"-5,160\",\"-4,941\",\"-4,949\",\"-4,802\",\"-4,811\",\"-5,156\",\"-5,872\",\"-4,844\",\"-4,634\",\"-4,875\",\"-4,762\",\"-5,012\",\"-5,188\",\"-7,526\",\"-5,250\",\"-4,657\",\"-4,597\",\"-4,593\",\"-4,715\",\"-4,469\",\"-4,518\",\"-5,619\",\"-4,531\",\"-4,544\",\"-4,693\",\"-6,288\",\"-4,479\",\"-4,311\",\"-4,421\",\"-5,788\",\"-4,364\",\"-4,389\",\"-6,076\",\"-4,394\",\"-4,544\",\"-4,308\",\"-4,318\",\"-4,315\",\"-4,633\",\"-5,659\",\"-4,256\",\"-4,407\",\"-4,239\",\"-4,201\",\"-4,536\",\"-4,279\",\"-4,201\",\"-4,386\",\"-4,868\",\"-5,502\",\"-4,291\",\"-4,361\",\"-4,209\",\"-4,263\",\"-4,368\",\"-4,416\",\"-5,519\",\"-4,112\",\"-4,089\",\"-4,402\",\"-8,117\",\"-4,071\",\"-4,114\",\"-4,300\",\"-4,150\",\"-4,300\",\"-4,074\",\"-4,291\",\"-4,215\",\"-4,546\",\"-4,127\",\"-4,520\",\"-5,632\",\"-4,808\",\"-4,945\",\"-4,510\",\"-4,040\",\"-4,349\",\"-4,030\",\"-4,082\",\"-5,644\",\"-5,208\",\"-4,017\",\"-5,078\",\"-3,998\",\"-4,002\",\"-10,908\",\"-4,216\",\"-4,340\",\"-4,035\",\"-3,916\",\"-4,349\",\"-3,917\",\"-4,062\",\"-3,878\",\"-4,420\",\"-5,012\",\"-4,314\",\"-3,905\",\"-3,851\",\"-4,027\",\"-3,928\",\"-3,974\",\"-3,992\",\"-4,149\",\"-5,631\",\"-4,282\",\"-3,903\",\"-3,834\",\"-3,998\",\"-4,060\",\"-4,186\",\"-4,096\",\"-5,560\",\"-3,889\",\"-3,946\",\"-4,193\",\"-4,144\",\"-4,781\",\"-4,010\",\"-4,144\",\"-5,675\",\"-4,120\",\"-3,829\",\"-3,803\",\"-3,828\",\"-3,785\",\"-4,539\",\"-3,881\",\"-3,779\",\"-3,742\",\"-4,126\",\"-4,001\",\"-4,066\",\"-3,839\",\"-4,065\",\"-3,944\",\"-4,088\",\"-3,776\",\"-3,823\",\"-4,264\",\"-3,925\",\"-3,850\",\"-3,869\",\"-4,337\",\"-4,901\",\"-4,129\",\"-4,798\",\"-3,918\",\"-5,580\",\"-3,740\",\"-4,078\",\"-3,814\",\"-4,267\",\"-6,903\",\"-3,793\",\"-3,640\",\"-3,964\",\"-3,860\",\"-3,660\",\"-3,650\",\"-3,713\",\"-3,657\",\"-3,710\",\"-3,831\",\"-3,703\",\"-3,688\",\"-3,645\",\"-3,981\",\"-4,293\",\"-4,033\"],\"yaxis\":\"y\",\"type\":\"scatter\"}],                        {\"template\":{\"data\":{\"histogram2dcontour\":[{\"type\":\"histogram2dcontour\",\"colorbar\":{\"outlinewidth\":0,\"ticks\":\"\"},\"colorscale\":[[0.0,\"#0d0887\"],[0.1111111111111111,\"#46039f\"],[0.2222222222222222,\"#7201a8\"],[0.3333333333333333,\"#9c179e\"],[0.4444444444444444,\"#bd3786\"],[0.5555555555555556,\"#d8576b\"],[0.6666666666666666,\"#ed7953\"],[0.7777777777777778,\"#fb9f3a\"],[0.8888888888888888,\"#fdca26\"],[1.0,\"#f0f921\"]]}],\"choropleth\":[{\"type\":\"choropleth\",\"colorbar\":{\"outlinewidth\":0,\"ticks\":\"\"}}],\"histogram2d\":[{\"type\":\"histogram2d\",\"colorbar\":{\"outlinewidth\":0,\"ticks\":\"\"},\"colorscale\":[[0.0,\"#0d0887\"],[0.1111111111111111,\"#46039f\"],[0.2222222222222222,\"#7201a8\"],[0.3333333333333333,\"#9c179e\"],[0.4444444444444444,\"#bd3786\"],[0.5555555555555556,\"#d8576b\"],[0.6666666666666666,\"#ed7953\"],[0.7777777777777778,\"#fb9f3a\"],[0.8888888888888888,\"#fdca26\"],[1.0,\"#f0f921\"]]}],\"heatmap\":[{\"type\":\"heatmap\",\"colorbar\":{\"outlinewidth\":0,\"ticks\":\"\"},\"colorscale\":[[0.0,\"#0d0887\"],[0.1111111111111111,\"#46039f\"],[0.2222222222222222,\"#7201a8\"],[0.3333333333333333,\"#9c179e\"],[0.4444444444444444,\"#bd3786\"],[0.5555555555555556,\"#d8576b\"],[0.6666666666666666,\"#ed7953\"],[0.7777777777777778,\"#fb9f3a\"],[0.8888888888888888,\"#fdca26\"],[1.0,\"#f0f921\"]]}],\"heatmapgl\":[{\"type\":\"heatmapgl\",\"colorbar\":{\"outlinewidth\":0,\"ticks\":\"\"},\"colorscale\":[[0.0,\"#0d0887\"],[0.1111111111111111,\"#46039f\"],[0.2222222222222222,\"#7201a8\"],[0.3333333333333333,\"#9c179e\"],[0.4444444444444444,\"#bd3786\"],[0.5555555555555556,\"#d8576b\"],[0.6666666666666666,\"#ed7953\"],[0.7777777777777778,\"#fb9f3a\"],[0.8888888888888888,\"#fdca26\"],[1.0,\"#f0f921\"]]}],\"contourcarpet\":[{\"type\":\"contourcarpet\",\"colorbar\":{\"outlinewidth\":0,\"ticks\":\"\"}}],\"contour\":[{\"type\":\"contour\",\"colorbar\":{\"outlinewidth\":0,\"ticks\":\"\"},\"colorscale\":[[0.0,\"#0d0887\"],[0.1111111111111111,\"#46039f\"],[0.2222222222222222,\"#7201a8\"],[0.3333333333333333,\"#9c179e\"],[0.4444444444444444,\"#bd3786\"],[0.5555555555555556,\"#d8576b\"],[0.6666666666666666,\"#ed7953\"],[0.7777777777777778,\"#fb9f3a\"],[0.8888888888888888,\"#fdca26\"],[1.0,\"#f0f921\"]]}],\"surface\":[{\"type\":\"surface\",\"colorbar\":{\"outlinewidth\":0,\"ticks\":\"\"},\"colorscale\":[[0.0,\"#0d0887\"],[0.1111111111111111,\"#46039f\"],[0.2222222222222222,\"#7201a8\"],[0.3333333333333333,\"#9c179e\"],[0.4444444444444444,\"#bd3786\"],[0.5555555555555556,\"#d8576b\"],[0.6666666666666666,\"#ed7953\"],[0.7777777777777778,\"#fb9f3a\"],[0.8888888888888888,\"#fdca26\"],[1.0,\"#f0f921\"]]}],\"mesh3d\":[{\"type\":\"mesh3d\",\"colorbar\":{\"outlinewidth\":0,\"ticks\":\"\"}}],\"scatter\":[{\"fillpattern\":{\"fillmode\":\"overlay\",\"size\":10,\"solidity\":0.2},\"type\":\"scatter\"}],\"parcoords\":[{\"type\":\"parcoords\",\"line\":{\"colorbar\":{\"outlinewidth\":0,\"ticks\":\"\"}}}],\"scatterpolargl\":[{\"type\":\"scatterpolargl\",\"marker\":{\"colorbar\":{\"outlinewidth\":0,\"ticks\":\"\"}}}],\"bar\":[{\"error_x\":{\"color\":\"#2a3f5f\"},\"error_y\":{\"color\":\"#2a3f5f\"},\"marker\":{\"line\":{\"color\":\"#E5ECF6\",\"width\":0.5},\"pattern\":{\"fillmode\":\"overlay\",\"size\":10,\"solidity\":0.2}},\"type\":\"bar\"}],\"scattergeo\":[{\"type\":\"scattergeo\",\"marker\":{\"colorbar\":{\"outlinewidth\":0,\"ticks\":\"\"}}}],\"scatterpolar\":[{\"type\":\"scatterpolar\",\"marker\":{\"colorbar\":{\"outlinewidth\":0,\"ticks\":\"\"}}}],\"histogram\":[{\"marker\":{\"pattern\":{\"fillmode\":\"overlay\",\"size\":10,\"solidity\":0.2}},\"type\":\"histogram\"}],\"scattergl\":[{\"type\":\"scattergl\",\"marker\":{\"colorbar\":{\"outlinewidth\":0,\"ticks\":\"\"}}}],\"scatter3d\":[{\"type\":\"scatter3d\",\"line\":{\"colorbar\":{\"outlinewidth\":0,\"ticks\":\"\"}},\"marker\":{\"colorbar\":{\"outlinewidth\":0,\"ticks\":\"\"}}}],\"scattermapbox\":[{\"type\":\"scattermapbox\",\"marker\":{\"colorbar\":{\"outlinewidth\":0,\"ticks\":\"\"}}}],\"scatterternary\":[{\"type\":\"scatterternary\",\"marker\":{\"colorbar\":{\"outlinewidth\":0,\"ticks\":\"\"}}}],\"scattercarpet\":[{\"type\":\"scattercarpet\",\"marker\":{\"colorbar\":{\"outlinewidth\":0,\"ticks\":\"\"}}}],\"carpet\":[{\"aaxis\":{\"endlinecolor\":\"#2a3f5f\",\"gridcolor\":\"white\",\"linecolor\":\"white\",\"minorgridcolor\":\"white\",\"startlinecolor\":\"#2a3f5f\"},\"baxis\":{\"endlinecolor\":\"#2a3f5f\",\"gridcolor\":\"white\",\"linecolor\":\"white\",\"minorgridcolor\":\"white\",\"startlinecolor\":\"#2a3f5f\"},\"type\":\"carpet\"}],\"table\":[{\"cells\":{\"fill\":{\"color\":\"#EBF0F8\"},\"line\":{\"color\":\"white\"}},\"header\":{\"fill\":{\"color\":\"#C8D4E3\"},\"line\":{\"color\":\"white\"}},\"type\":\"table\"}],\"barpolar\":[{\"marker\":{\"line\":{\"color\":\"#E5ECF6\",\"width\":0.5},\"pattern\":{\"fillmode\":\"overlay\",\"size\":10,\"solidity\":0.2}},\"type\":\"barpolar\"}],\"pie\":[{\"automargin\":true,\"type\":\"pie\"}]},\"layout\":{\"autotypenumbers\":\"strict\",\"colorway\":[\"#636efa\",\"#EF553B\",\"#00cc96\",\"#ab63fa\",\"#FFA15A\",\"#19d3f3\",\"#FF6692\",\"#B6E880\",\"#FF97FF\",\"#FECB52\"],\"font\":{\"color\":\"#2a3f5f\"},\"hovermode\":\"closest\",\"hoverlabel\":{\"align\":\"left\"},\"paper_bgcolor\":\"white\",\"plot_bgcolor\":\"#E5ECF6\",\"polar\":{\"bgcolor\":\"#E5ECF6\",\"angularaxis\":{\"gridcolor\":\"white\",\"linecolor\":\"white\",\"ticks\":\"\"},\"radialaxis\":{\"gridcolor\":\"white\",\"linecolor\":\"white\",\"ticks\":\"\"}},\"ternary\":{\"bgcolor\":\"#E5ECF6\",\"aaxis\":{\"gridcolor\":\"white\",\"linecolor\":\"white\",\"ticks\":\"\"},\"baxis\":{\"gridcolor\":\"white\",\"linecolor\":\"white\",\"ticks\":\"\"},\"caxis\":{\"gridcolor\":\"white\",\"linecolor\":\"white\",\"ticks\":\"\"}},\"coloraxis\":{\"colorbar\":{\"outlinewidth\":0,\"ticks\":\"\"}},\"colorscale\":{\"sequential\":[[0.0,\"#0d0887\"],[0.1111111111111111,\"#46039f\"],[0.2222222222222222,\"#7201a8\"],[0.3333333333333333,\"#9c179e\"],[0.4444444444444444,\"#bd3786\"],[0.5555555555555556,\"#d8576b\"],[0.6666666666666666,\"#ed7953\"],[0.7777777777777778,\"#fb9f3a\"],[0.8888888888888888,\"#fdca26\"],[1.0,\"#f0f921\"]],\"sequentialminus\":[[0.0,\"#0d0887\"],[0.1111111111111111,\"#46039f\"],[0.2222222222222222,\"#7201a8\"],[0.3333333333333333,\"#9c179e\"],[0.4444444444444444,\"#bd3786\"],[0.5555555555555556,\"#d8576b\"],[0.6666666666666666,\"#ed7953\"],[0.7777777777777778,\"#fb9f3a\"],[0.8888888888888888,\"#fdca26\"],[1.0,\"#f0f921\"]],\"diverging\":[[0,\"#8e0152\"],[0.1,\"#c51b7d\"],[0.2,\"#de77ae\"],[0.3,\"#f1b6da\"],[0.4,\"#fde0ef\"],[0.5,\"#f7f7f7\"],[0.6,\"#e6f5d0\"],[0.7,\"#b8e186\"],[0.8,\"#7fbc41\"],[0.9,\"#4d9221\"],[1,\"#276419\"]]},\"xaxis\":{\"gridcolor\":\"white\",\"linecolor\":\"white\",\"ticks\":\"\",\"title\":{\"standoff\":15},\"zerolinecolor\":\"white\",\"automargin\":true,\"zerolinewidth\":2},\"yaxis\":{\"gridcolor\":\"white\",\"linecolor\":\"white\",\"ticks\":\"\",\"title\":{\"standoff\":15},\"zerolinecolor\":\"white\",\"automargin\":true,\"zerolinewidth\":2},\"scene\":{\"xaxis\":{\"backgroundcolor\":\"#E5ECF6\",\"gridcolor\":\"white\",\"linecolor\":\"white\",\"showbackground\":true,\"ticks\":\"\",\"zerolinecolor\":\"white\",\"gridwidth\":2},\"yaxis\":{\"backgroundcolor\":\"#E5ECF6\",\"gridcolor\":\"white\",\"linecolor\":\"white\",\"showbackground\":true,\"ticks\":\"\",\"zerolinecolor\":\"white\",\"gridwidth\":2},\"zaxis\":{\"backgroundcolor\":\"#E5ECF6\",\"gridcolor\":\"white\",\"linecolor\":\"white\",\"showbackground\":true,\"ticks\":\"\",\"zerolinecolor\":\"white\",\"gridwidth\":2}},\"shapedefaults\":{\"line\":{\"color\":\"#2a3f5f\"}},\"annotationdefaults\":{\"arrowcolor\":\"#2a3f5f\",\"arrowhead\":0,\"arrowwidth\":1},\"geo\":{\"bgcolor\":\"white\",\"landcolor\":\"#E5ECF6\",\"subunitcolor\":\"white\",\"showland\":true,\"showlakes\":true,\"lakecolor\":\"white\"},\"title\":{\"x\":0.05},\"mapbox\":{\"style\":\"light\"}}},\"xaxis\":{\"anchor\":\"y\",\"domain\":[0.0,1.0],\"title\":{\"text\":\"date\"}},\"yaxis\":{\"anchor\":\"x\",\"domain\":[0.0,1.0],\"title\":{\"text\":\"total_reviews\"}},\"legend\":{\"tracegroupgap\":0},\"title\":{\"text\":\"Number of reviews for episodes in training dataset\"}},                        {\"responsive\": true}                    ).then(function(){\n",
              "                            \n",
              "var gd = document.getElementById('5fd8b05d-42d4-4924-9a38-4d61fe4e7d17');\n",
              "var x = new MutationObserver(function (mutations, observer) {{\n",
              "        var display = window.getComputedStyle(gd).display;\n",
              "        if (!display || display === 'none') {{\n",
              "            console.log([gd, 'removed!']);\n",
              "            Plotly.purge(gd);\n",
              "            observer.disconnect();\n",
              "        }}\n",
              "}});\n",
              "\n",
              "// Listen for the removal of the full notebook cells\n",
              "var notebookContainer = gd.closest('#notebook-container');\n",
              "if (notebookContainer) {{\n",
              "    x.observe(notebookContainer, {childList: true});\n",
              "}}\n",
              "\n",
              "// Listen for the clearing of the current output cell\n",
              "var outputEl = gd.closest('.output');\n",
              "if (outputEl) {{\n",
              "    x.observe(outputEl, {childList: true});\n",
              "}}\n",
              "\n",
              "                        })                };                            </script>        </div>\n",
              "</body>\n",
              "</html>"
            ]
          },
          "metadata": {}
        }
      ]
    },
    {
      "cell_type": "code",
      "source": [
        "from transformers import BertTokenizer,BertModel\n",
        "import torch"
      ],
      "metadata": {
        "id": "O1VazW00dhuA"
      },
      "execution_count": null,
      "outputs": []
    },
    {
      "cell_type": "code",
      "source": [
        "tokenizer = BertTokenizer.from_pretrained('bert-base-uncased')\n",
        "bert_model = BertModel.from_pretrained('bert-base-uncased')"
      ],
      "metadata": {
        "colab": {
          "base_uri": "https://localhost:8080/",
          "height": 336,
          "referenced_widgets": [
            "a485909dcd92448f8866d51b90e6cb2c",
            "5d4154ab13a246c3a0b76ce6f2910186",
            "f6910cbb9bef4b8d9c3d66e2003ffc1c",
            "c61744311e554594afba54f6d15a4d9c",
            "8081fefbe4ab49fd9f423d1b705e82e2",
            "397151c245974174a62a89f426777740",
            "4c8de193f22445f282ec4243b8bb5bbd",
            "4c7718a43b0845639ab3c6a6a5cd1a07",
            "7ca42d4929ae43cc8cd4c02c4630c5c6",
            "530f8bc4e6f54d9a984923119f47edd9",
            "1a7680b26e7c4edcb00a97bcc127f6fe",
            "fbdd0b8ccaeb42d996e4cc8c426bf06f",
            "b85e211cde674d45aab5c3fe871a4020",
            "8d5dc731841d4aef8273d3543792ed4b",
            "0a25f844aa724004ab7eaef41ec44f8d",
            "ad56fca4822149529ce28c3cb5993110",
            "3cb96858b08640bb97b3ae7c83a3de50",
            "17df82fb38ae4f86938ea65bd71e02aa",
            "901ae21597574160ac17b848afdee5a8",
            "6e5ac2cf999a471e91018ea834e927b3",
            "2f801efb1975455fafae16bba38c49e8",
            "6c310e9534214aa1a35d3e7543f7dd5b",
            "f2069827214644b4bb31b198a2f34e8a",
            "540104a3ec5b4934b35e6ab1b50ecab5",
            "9d87aded8f2146d08a313deabdd91930",
            "2ad433525b314fb7849ca88abe2ececb",
            "3b7a9eeb7d0b4ae58bcc98158eb54ecd",
            "21f5172ba1bf449ca2fa6324bf609653",
            "a51cd69b598649fcb4cb607ac4c3dc75",
            "463cf58b95d54913a5e897250b1fa8d7",
            "137b85dee11746c4a0bbf0c1441d65cb",
            "aaa8c3d2b0b84a5eb1ae84e524e3747b",
            "8bbab3d2b7344438a65c75b82f924a2e",
            "4b5e47bbb5ba4e5c9436672478bb2ae0",
            "4d3cc51cef4b4b4aabe1f484cf13af90",
            "5073e19009284deea5e518aa02490fc2",
            "f515db706d264c518cb2188f1d146493",
            "dfebe1a0c4fd45158c8863a3eea563b6",
            "db1734d09d384e69aea70273d1fb67c1",
            "b87d4c77411541cfa5088e099862bb44",
            "2b88dca157744b79a3dabf48fd061a83",
            "7a466acbf36642f18dee4159a294e503",
            "404741faf6134d459a8c3eb9cdf6e888",
            "d687e8ad2b294e768d330d39ab1946ce",
            "6799d4b0685b4b5582784b19be77069b",
            "e75c2d76c274467194e5049c44e8e495",
            "2f449cff6cd34cd1a931b8c83a3c292a",
            "d350d52340f14520b9a3bdd57bb8a95c",
            "899f6620d3004ba18375e6d70899057c",
            "4fe53ba9e8554695a5d01150e6139f3b",
            "f423d0d244a44cc5bc1150ea9b8c24f2",
            "b663fc477b87471fb6dcc3f4af3e8377",
            "afff29ea55f84468abf80ab1276bab57",
            "9070e6d9bc8148dd993cafeac9806e41",
            "c485c46a5d444e16809ab508f8e5abf2"
          ]
        },
        "id": "LK2SdwTyiSzt",
        "outputId": "916e235e-54a8-455c-f136-b7c552ab5bb9"
      },
      "execution_count": null,
      "outputs": [
        {
          "output_type": "stream",
          "name": "stderr",
          "text": [
            "/usr/local/lib/python3.10/dist-packages/huggingface_hub/utils/_auth.py:94: UserWarning:\n",
            "\n",
            "\n",
            "The secret `HF_TOKEN` does not exist in your Colab secrets.\n",
            "To authenticate with the Hugging Face Hub, create a token in your settings tab (https://huggingface.co/settings/tokens), set it as secret in your Google Colab and restart your session.\n",
            "You will be able to reuse this secret in all of your notebooks.\n",
            "Please note that authentication is recommended but still optional to access public models or datasets.\n",
            "\n"
          ]
        },
        {
          "output_type": "display_data",
          "data": {
            "text/plain": [
              "tokenizer_config.json:   0%|          | 0.00/48.0 [00:00<?, ?B/s]"
            ],
            "application/vnd.jupyter.widget-view+json": {
              "version_major": 2,
              "version_minor": 0,
              "model_id": "a485909dcd92448f8866d51b90e6cb2c"
            }
          },
          "metadata": {}
        },
        {
          "output_type": "display_data",
          "data": {
            "text/plain": [
              "vocab.txt:   0%|          | 0.00/232k [00:00<?, ?B/s]"
            ],
            "application/vnd.jupyter.widget-view+json": {
              "version_major": 2,
              "version_minor": 0,
              "model_id": "fbdd0b8ccaeb42d996e4cc8c426bf06f"
            }
          },
          "metadata": {}
        },
        {
          "output_type": "display_data",
          "data": {
            "text/plain": [
              "tokenizer.json:   0%|          | 0.00/466k [00:00<?, ?B/s]"
            ],
            "application/vnd.jupyter.widget-view+json": {
              "version_major": 2,
              "version_minor": 0,
              "model_id": "f2069827214644b4bb31b198a2f34e8a"
            }
          },
          "metadata": {}
        },
        {
          "output_type": "display_data",
          "data": {
            "text/plain": [
              "config.json:   0%|          | 0.00/570 [00:00<?, ?B/s]"
            ],
            "application/vnd.jupyter.widget-view+json": {
              "version_major": 2,
              "version_minor": 0,
              "model_id": "4b5e47bbb5ba4e5c9436672478bb2ae0"
            }
          },
          "metadata": {}
        },
        {
          "output_type": "display_data",
          "data": {
            "text/plain": [
              "model.safetensors:   0%|          | 0.00/440M [00:00<?, ?B/s]"
            ],
            "application/vnd.jupyter.widget-view+json": {
              "version_major": 2,
              "version_minor": 0,
              "model_id": "6799d4b0685b4b5582784b19be77069b"
            }
          },
          "metadata": {}
        }
      ]
    },
    {
      "cell_type": "code",
      "source": [
        "X_train_tokens = tokenizer(friends_train_df['plot'].astype('str').tolist(),padding=True,truncation=True,return_tensors='pt')"
      ],
      "metadata": {
        "id": "LfxXsn6fivQs"
      },
      "execution_count": null,
      "outputs": []
    },
    {
      "cell_type": "code",
      "source": [
        "X_test_tokens = tokenizer(friends_test_df['plot'].astype('str').tolist(),padding=True,truncation=True,return_tensors='pt')"
      ],
      "metadata": {
        "id": "2UT5pOxf0MZ-"
      },
      "execution_count": null,
      "outputs": []
    },
    {
      "cell_type": "code",
      "source": [
        "def get_bert_embeddings(tokens):\n",
        "  with torch.no_grad():\n",
        "    outputs = bert_model(**tokens)\n",
        "    embeddings = outputs.last_hidden_state.mean(dim=1)\n",
        "  return embeddings\n"
      ],
      "metadata": {
        "id": "vni94k9a07wI"
      },
      "execution_count": null,
      "outputs": []
    },
    {
      "cell_type": "code",
      "source": [
        "X_train_embeddings = get_bert_embeddings(X_train_tokens)"
      ],
      "metadata": {
        "id": "VqW9Kmny07sq"
      },
      "execution_count": null,
      "outputs": []
    },
    {
      "cell_type": "code",
      "source": [
        "X_test_embeddings = get_bert_embeddings(X_test_tokens)"
      ],
      "metadata": {
        "id": "pBkQD0I99H-3"
      },
      "execution_count": null,
      "outputs": []
    },
    {
      "cell_type": "code",
      "source": [
        "X_train_embeddings.shape"
      ],
      "metadata": {
        "colab": {
          "base_uri": "https://localhost:8080/"
        },
        "id": "XuxlkV5rPSJ_",
        "outputId": "0178f4d1-a693-4dcb-fc37-0668e3e6b12c"
      },
      "execution_count": null,
      "outputs": [
        {
          "output_type": "execute_result",
          "data": {
            "text/plain": [
              "torch.Size([195, 768])"
            ]
          },
          "metadata": {},
          "execution_count": 31
        }
      ]
    },
    {
      "cell_type": "code",
      "source": [
        "sequence_length = X_train_embeddings.shape[0]\n",
        "embedding_dim = X_train_embeddings.shape[1]"
      ],
      "metadata": {
        "id": "YaJLZmwz73um"
      },
      "execution_count": null,
      "outputs": []
    },
    {
      "cell_type": "code",
      "source": [
        "X_train_embeddings = X_train_embeddings.reshape(-1,195,768)\n"
      ],
      "metadata": {
        "id": "2yGuGqSY80N-"
      },
      "execution_count": null,
      "outputs": []
    },
    {
      "cell_type": "code",
      "source": [
        "X_test_embeddings = X_test_embeddings.reshape(-1,35,768)"
      ],
      "metadata": {
        "id": "Pv0Xi-7n9DBg"
      },
      "execution_count": null,
      "outputs": []
    },
    {
      "cell_type": "code",
      "source": [
        "X_train_embeddings.shape"
      ],
      "metadata": {
        "colab": {
          "base_uri": "https://localhost:8080/"
        },
        "id": "xc9LQUQr7I6v",
        "outputId": "c7bec233-54f2-45dc-f8d0-d4799d1b47b8"
      },
      "execution_count": null,
      "outputs": [
        {
          "output_type": "execute_result",
          "data": {
            "text/plain": [
              "torch.Size([1, 195, 768])"
            ]
          },
          "metadata": {},
          "execution_count": 36
        }
      ]
    },
    {
      "cell_type": "code",
      "source": [
        "X_test_embeddings.shape"
      ],
      "metadata": {
        "colab": {
          "base_uri": "https://localhost:8080/"
        },
        "id": "W5hf4qLn9WR4",
        "outputId": "ab7ee990-2e75-4a85-b084-b0b31eec0d8e"
      },
      "execution_count": null,
      "outputs": [
        {
          "output_type": "execute_result",
          "data": {
            "text/plain": [
              "torch.Size([1, 35, 768])"
            ]
          },
          "metadata": {},
          "execution_count": 37
        }
      ]
    },
    {
      "cell_type": "code",
      "source": [
        "model = Sequential()\n",
        "model.add(tf.keras.Input(shape=(768,)))\n",
        "model.add(layers.Flatten())\n",
        "model.add(layers.Dense(32,activation='relu'))\n",
        "model.add(layers.Dense(1))"
      ],
      "metadata": {
        "colab": {
          "base_uri": "https://localhost:8080/"
        },
        "id": "5NWUE2mZ07qV",
        "outputId": "02f48d0a-d684-43f1-f993-fc652d2d188a"
      },
      "execution_count": null,
      "outputs": [
        {
          "output_type": "stream",
          "name": "stdout",
          "text": [
            "Executing op _EagerConst in device /job:localhost/replica:0/task:0/device:GPU:0\n",
            "Executing op FloorMod in device /job:localhost/replica:0/task:0/device:GPU:0\n",
            "Executing op Cast in device /job:localhost/replica:0/task:0/device:GPU:0\n",
            "Executing op _EagerConst in device /job:localhost/replica:0/task:0/device:GPU:0\n",
            "Executing op StatelessRandomGetKeyCounter in device /job:localhost/replica:0/task:0/device:GPU:0\n",
            "Executing op StatelessRandomUniformV2 in device /job:localhost/replica:0/task:0/device:GPU:0\n",
            "Executing op Sub in device /job:localhost/replica:0/task:0/device:GPU:0\n",
            "Executing op Mul in device /job:localhost/replica:0/task:0/device:GPU:0\n",
            "Executing op AddV2 in device /job:localhost/replica:0/task:0/device:GPU:0\n",
            "Executing op VarHandleOp in device /job:localhost/replica:0/task:0/device:GPU:0\n",
            "Executing op AssignVariableOp in device /job:localhost/replica:0/task:0/device:GPU:0\n",
            "Executing op _EagerConst in device /job:localhost/replica:0/task:0/device:GPU:0\n",
            "Executing op Fill in device /job:localhost/replica:0/task:0/device:GPU:0\n",
            "Executing op VarHandleOp in device /job:localhost/replica:0/task:0/device:GPU:0\n",
            "Executing op AssignVariableOp in device /job:localhost/replica:0/task:0/device:GPU:0\n",
            "Executing op _EagerConst in device /job:localhost/replica:0/task:0/device:GPU:0\n",
            "Executing op FloorMod in device /job:localhost/replica:0/task:0/device:GPU:0\n",
            "Executing op Cast in device /job:localhost/replica:0/task:0/device:GPU:0\n",
            "Executing op _EagerConst in device /job:localhost/replica:0/task:0/device:GPU:0\n",
            "Executing op StatelessRandomGetKeyCounter in device /job:localhost/replica:0/task:0/device:GPU:0\n",
            "Executing op StatelessRandomUniformV2 in device /job:localhost/replica:0/task:0/device:GPU:0\n",
            "Executing op Sub in device /job:localhost/replica:0/task:0/device:GPU:0\n",
            "Executing op Mul in device /job:localhost/replica:0/task:0/device:GPU:0\n",
            "Executing op AddV2 in device /job:localhost/replica:0/task:0/device:GPU:0\n",
            "Executing op VarHandleOp in device /job:localhost/replica:0/task:0/device:GPU:0\n",
            "Executing op AssignVariableOp in device /job:localhost/replica:0/task:0/device:GPU:0\n",
            "Executing op _EagerConst in device /job:localhost/replica:0/task:0/device:GPU:0\n",
            "Executing op Fill in device /job:localhost/replica:0/task:0/device:GPU:0\n",
            "Executing op VarHandleOp in device /job:localhost/replica:0/task:0/device:GPU:0\n",
            "Executing op AssignVariableOp in device /job:localhost/replica:0/task:0/device:GPU:0\n"
          ]
        }
      ]
    },
    {
      "cell_type": "code",
      "source": [
        "model.compile(optimizer='adam',loss='mean_absolute_error',metrics=['mae'])"
      ],
      "metadata": {
        "colab": {
          "base_uri": "https://localhost:8080/"
        },
        "id": "OgV_ochc07Zc",
        "outputId": "020d939d-6946-495e-d7ec-898ca5203b5a"
      },
      "execution_count": null,
      "outputs": [
        {
          "output_type": "stream",
          "name": "stdout",
          "text": [
            "Executing op VarHandleOp in device /job:localhost/replica:0/task:0/device:GPU:0\n",
            "Executing op AssignVariableOp in device /job:localhost/replica:0/task:0/device:GPU:0\n",
            "Executing op VarHandleOp in device /job:localhost/replica:0/task:0/device:GPU:0\n",
            "Executing op AssignVariableOp in device /job:localhost/replica:0/task:0/device:GPU:0\n",
            "Executing op _EagerConst in device /job:localhost/replica:0/task:0/device:GPU:0\n",
            "Executing op Fill in device /job:localhost/replica:0/task:0/device:GPU:0\n",
            "Executing op VarHandleOp in device /job:localhost/replica:0/task:0/device:GPU:0\n",
            "Executing op AssignVariableOp in device /job:localhost/replica:0/task:0/device:GPU:0\n",
            "Executing op _EagerConst in device /job:localhost/replica:0/task:0/device:GPU:0\n",
            "Executing op Fill in device /job:localhost/replica:0/task:0/device:GPU:0\n",
            "Executing op VarHandleOp in device /job:localhost/replica:0/task:0/device:GPU:0\n",
            "Executing op AssignVariableOp in device /job:localhost/replica:0/task:0/device:GPU:0\n"
          ]
        }
      ]
    },
    {
      "cell_type": "code",
      "source": [
        "model.summary()"
      ],
      "metadata": {
        "colab": {
          "base_uri": "https://localhost:8080/",
          "height": 232
        },
        "id": "2O8y6He13cJr",
        "outputId": "70163104-a731-492e-84f2-46db6c57aa99"
      },
      "execution_count": null,
      "outputs": [
        {
          "output_type": "display_data",
          "data": {
            "text/plain": [
              "\u001b[1mModel: \"sequential_5\"\u001b[0m\n"
            ],
            "text/html": [
              "<pre style=\"white-space:pre;overflow-x:auto;line-height:normal;font-family:Menlo,'DejaVu Sans Mono',consolas,'Courier New',monospace\"><span style=\"font-weight: bold\">Model: \"sequential_5\"</span>\n",
              "</pre>\n"
            ]
          },
          "metadata": {}
        },
        {
          "output_type": "display_data",
          "data": {
            "text/plain": [
              "┏━━━━━━━━━━━━━━━━━━━━━━━━━━━━━━━━━━━━━━┳━━━━━━━━━━━━━━━━━━━━━━━━━━━━━┳━━━━━━━━━━━━━━━━━┓\n",
              "┃\u001b[1m \u001b[0m\u001b[1mLayer (type)                        \u001b[0m\u001b[1m \u001b[0m┃\u001b[1m \u001b[0m\u001b[1mOutput Shape               \u001b[0m\u001b[1m \u001b[0m┃\u001b[1m \u001b[0m\u001b[1m        Param #\u001b[0m\u001b[1m \u001b[0m┃\n",
              "┡━━━━━━━━━━━━━━━━━━━━━━━━━━━━━━━━━━━━━━╇━━━━━━━━━━━━━━━━━━━━━━━━━━━━━╇━━━━━━━━━━━━━━━━━┩\n",
              "│ flatten_5 (\u001b[38;5;33mFlatten\u001b[0m)                  │ (\u001b[38;5;45mNone\u001b[0m, \u001b[38;5;34m768\u001b[0m)                 │               \u001b[38;5;34m0\u001b[0m │\n",
              "├──────────────────────────────────────┼─────────────────────────────┼─────────────────┤\n",
              "│ dense_9 (\u001b[38;5;33mDense\u001b[0m)                      │ (\u001b[38;5;45mNone\u001b[0m, \u001b[38;5;34m32\u001b[0m)                  │          \u001b[38;5;34m24,608\u001b[0m │\n",
              "├──────────────────────────────────────┼─────────────────────────────┼─────────────────┤\n",
              "│ dense_10 (\u001b[38;5;33mDense\u001b[0m)                     │ (\u001b[38;5;45mNone\u001b[0m, \u001b[38;5;34m1\u001b[0m)                   │              \u001b[38;5;34m33\u001b[0m │\n",
              "└──────────────────────────────────────┴─────────────────────────────┴─────────────────┘\n"
            ],
            "text/html": [
              "<pre style=\"white-space:pre;overflow-x:auto;line-height:normal;font-family:Menlo,'DejaVu Sans Mono',consolas,'Courier New',monospace\">┏━━━━━━━━━━━━━━━━━━━━━━━━━━━━━━━━━━━━━━┳━━━━━━━━━━━━━━━━━━━━━━━━━━━━━┳━━━━━━━━━━━━━━━━━┓\n",
              "┃<span style=\"font-weight: bold\"> Layer (type)                         </span>┃<span style=\"font-weight: bold\"> Output Shape                </span>┃<span style=\"font-weight: bold\">         Param # </span>┃\n",
              "┡━━━━━━━━━━━━━━━━━━━━━━━━━━━━━━━━━━━━━━╇━━━━━━━━━━━━━━━━━━━━━━━━━━━━━╇━━━━━━━━━━━━━━━━━┩\n",
              "│ flatten_5 (<span style=\"color: #0087ff; text-decoration-color: #0087ff\">Flatten</span>)                  │ (<span style=\"color: #00d7ff; text-decoration-color: #00d7ff\">None</span>, <span style=\"color: #00af00; text-decoration-color: #00af00\">768</span>)                 │               <span style=\"color: #00af00; text-decoration-color: #00af00\">0</span> │\n",
              "├──────────────────────────────────────┼─────────────────────────────┼─────────────────┤\n",
              "│ dense_9 (<span style=\"color: #0087ff; text-decoration-color: #0087ff\">Dense</span>)                      │ (<span style=\"color: #00d7ff; text-decoration-color: #00d7ff\">None</span>, <span style=\"color: #00af00; text-decoration-color: #00af00\">32</span>)                  │          <span style=\"color: #00af00; text-decoration-color: #00af00\">24,608</span> │\n",
              "├──────────────────────────────────────┼─────────────────────────────┼─────────────────┤\n",
              "│ dense_10 (<span style=\"color: #0087ff; text-decoration-color: #0087ff\">Dense</span>)                     │ (<span style=\"color: #00d7ff; text-decoration-color: #00d7ff\">None</span>, <span style=\"color: #00af00; text-decoration-color: #00af00\">1</span>)                   │              <span style=\"color: #00af00; text-decoration-color: #00af00\">33</span> │\n",
              "└──────────────────────────────────────┴─────────────────────────────┴─────────────────┘\n",
              "</pre>\n"
            ]
          },
          "metadata": {}
        },
        {
          "output_type": "display_data",
          "data": {
            "text/plain": [
              "\u001b[1m Total params: \u001b[0m\u001b[38;5;34m24,641\u001b[0m (96.25 KB)\n"
            ],
            "text/html": [
              "<pre style=\"white-space:pre;overflow-x:auto;line-height:normal;font-family:Menlo,'DejaVu Sans Mono',consolas,'Courier New',monospace\"><span style=\"font-weight: bold\"> Total params: </span><span style=\"color: #00af00; text-decoration-color: #00af00\">24,641</span> (96.25 KB)\n",
              "</pre>\n"
            ]
          },
          "metadata": {}
        },
        {
          "output_type": "display_data",
          "data": {
            "text/plain": [
              "\u001b[1m Trainable params: \u001b[0m\u001b[38;5;34m24,641\u001b[0m (96.25 KB)\n"
            ],
            "text/html": [
              "<pre style=\"white-space:pre;overflow-x:auto;line-height:normal;font-family:Menlo,'DejaVu Sans Mono',consolas,'Courier New',monospace\"><span style=\"font-weight: bold\"> Trainable params: </span><span style=\"color: #00af00; text-decoration-color: #00af00\">24,641</span> (96.25 KB)\n",
              "</pre>\n"
            ]
          },
          "metadata": {}
        },
        {
          "output_type": "display_data",
          "data": {
            "text/plain": [
              "\u001b[1m Non-trainable params: \u001b[0m\u001b[38;5;34m0\u001b[0m (0.00 B)\n"
            ],
            "text/html": [
              "<pre style=\"white-space:pre;overflow-x:auto;line-height:normal;font-family:Menlo,'DejaVu Sans Mono',consolas,'Courier New',monospace\"><span style=\"font-weight: bold\"> Non-trainable params: </span><span style=\"color: #00af00; text-decoration-color: #00af00\">0</span> (0.00 B)\n",
              "</pre>\n"
            ]
          },
          "metadata": {}
        }
      ]
    },
    {
      "cell_type": "code",
      "source": [
        "print(type(X_train_embeddings))\n",
        "print(X_train_embeddings.dtype)\n",
        "print(friends_train_df['ratings'].dtype)"
      ],
      "metadata": {
        "colab": {
          "base_uri": "https://localhost:8080/"
        },
        "id": "bcRrIxR--1dG",
        "outputId": "0d61ad60-565a-4bc9-d7c1-c082e56a2c0e"
      },
      "execution_count": null,
      "outputs": [
        {
          "output_type": "stream",
          "name": "stdout",
          "text": [
            "<class 'numpy.ndarray'>\n",
            "float32\n",
            "float32\n"
          ]
        }
      ]
    },
    {
      "cell_type": "code",
      "source": [
        "X_train_embeddings = tf.cast(X_train_embeddings,dtype=tf.float32)\n",
        "friends_train_df['ratings']=friends_train_df['ratings'].astype(np.float32)"
      ],
      "metadata": {
        "colab": {
          "base_uri": "https://localhost:8080/"
        },
        "id": "-7b4Yml7_DTq",
        "outputId": "22810e81-8bc7-478a-f986-eefc0dd892f3"
      },
      "execution_count": null,
      "outputs": [
        {
          "output_type": "stream",
          "name": "stdout",
          "text": [
            "Executing op _EagerConst in device /job:localhost/replica:0/task:0/device:GPU:0\n"
          ]
        }
      ]
    },
    {
      "cell_type": "code",
      "source": [
        "X_test_embeddings = tf.cast(X_test_embeddings,tf.float32)\n",
        "# friends_test_df['ratings']=friends_test_df['ratings'].astype(np.float32)"
      ],
      "metadata": {
        "id": "L4PKj5tHAbtu"
      },
      "execution_count": null,
      "outputs": []
    },
    {
      "cell_type": "code",
      "source": [
        "X_train_embeddings = tf.reshape(X_train_embeddings,(195,-1))"
      ],
      "metadata": {
        "colab": {
          "base_uri": "https://localhost:8080/"
        },
        "id": "-hDkOJk9Q_S2",
        "outputId": "db5a8a5c-ef17-4afe-947f-a8aa9f408502"
      },
      "execution_count": null,
      "outputs": [
        {
          "output_type": "stream",
          "name": "stdout",
          "text": [
            "Executing op _EagerConst in device /job:localhost/replica:0/task:0/device:GPU:0\n",
            "Executing op Reshape in device /job:localhost/replica:0/task:0/device:GPU:0\n"
          ]
        }
      ]
    },
    {
      "cell_type": "code",
      "source": [
        "X_test_embeddings = tf.reshape(X_test_embeddings,(35,-1))"
      ],
      "metadata": {
        "colab": {
          "base_uri": "https://localhost:8080/"
        },
        "id": "daREunpLSCF0",
        "outputId": "8a702887-471a-453f-bc73-7155fcea6f30"
      },
      "execution_count": null,
      "outputs": [
        {
          "output_type": "stream",
          "name": "stdout",
          "text": [
            "Executing op _EagerConst in device /job:localhost/replica:0/task:0/device:GPU:0\n",
            "Executing op Reshape in device /job:localhost/replica:0/task:0/device:GPU:0\n"
          ]
        }
      ]
    },
    {
      "cell_type": "code",
      "source": [
        "X_train_embeddings = np.array(X_train_embeddings, dtype=np.float32)\n",
        "y_train = np.array(friends_train_df['ratings'], dtype=np.float32)"
      ],
      "metadata": {
        "id": "EPGyMzrASPCc"
      },
      "execution_count": null,
      "outputs": []
    },
    {
      "cell_type": "code",
      "source": [
        "X_train_embeddings.shape"
      ],
      "metadata": {
        "colab": {
          "base_uri": "https://localhost:8080/"
        },
        "id": "zT6YphPdSS13",
        "outputId": "c037532b-36ff-4c4d-ce05-b1c9b9a6cee9"
      },
      "execution_count": null,
      "outputs": [
        {
          "output_type": "execute_result",
          "data": {
            "text/plain": [
              "(195, 768)"
            ]
          },
          "metadata": {},
          "execution_count": 177
        }
      ]
    },
    {
      "cell_type": "code",
      "source": [
        "y_train.shape"
      ],
      "metadata": {
        "colab": {
          "base_uri": "https://localhost:8080/"
        },
        "id": "KfQEhKYsSUQv",
        "outputId": "2c7c0fa2-435e-449a-e653-c5c36a52d65a"
      },
      "execution_count": null,
      "outputs": [
        {
          "output_type": "execute_result",
          "data": {
            "text/plain": [
              "(195,)"
            ]
          },
          "metadata": {},
          "execution_count": 178
        }
      ]
    },
    {
      "cell_type": "code",
      "source": [
        "if np.any(np.isnan(X_train_embeddings)) or np.any(np.isnan(y_train)):\n",
        "    print(\"There are NaN values in the data!\")\n",
        "if np.any(np.isinf(X_train_embeddings)) or np.any(np.isinf(y_train)):\n",
        "    print(\"There are infinite values in the data!\")"
      ],
      "metadata": {
        "id": "o-K-A34MSZOs"
      },
      "execution_count": null,
      "outputs": []
    },
    {
      "cell_type": "code",
      "source": [
        "X_train,X_valid,y_train,y_valid = train_test_split(X_train_embeddings,y_train,test_size=0.2,random_state=42)"
      ],
      "metadata": {
        "id": "MOxe03xJSurR"
      },
      "execution_count": null,
      "outputs": []
    },
    {
      "cell_type": "code",
      "source": [
        "X_train.shape"
      ],
      "metadata": {
        "colab": {
          "base_uri": "https://localhost:8080/"
        },
        "id": "PUhKKIbHT4si",
        "outputId": "6905b84a-ce86-4a42-9f98-3a5bd6032cb8"
      },
      "execution_count": null,
      "outputs": [
        {
          "output_type": "execute_result",
          "data": {
            "text/plain": [
              "(156, 768)"
            ]
          },
          "metadata": {},
          "execution_count": 181
        }
      ]
    },
    {
      "cell_type": "code",
      "source": [
        "y_train.shape"
      ],
      "metadata": {
        "colab": {
          "base_uri": "https://localhost:8080/"
        },
        "id": "lwPn-rV0T8If",
        "outputId": "b8823da9-aa37-43b4-decf-ce7a8a677721"
      },
      "execution_count": null,
      "outputs": [
        {
          "output_type": "execute_result",
          "data": {
            "text/plain": [
              "(156,)"
            ]
          },
          "metadata": {},
          "execution_count": 182
        }
      ]
    },
    {
      "cell_type": "code",
      "source": [
        "X_valid.shape"
      ],
      "metadata": {
        "colab": {
          "base_uri": "https://localhost:8080/"
        },
        "id": "Dz664VtxUCNw",
        "outputId": "5ddd69d4-b9a3-4c8e-96ee-d51647f9ce34"
      },
      "execution_count": null,
      "outputs": [
        {
          "output_type": "execute_result",
          "data": {
            "text/plain": [
              "(39, 768)"
            ]
          },
          "metadata": {},
          "execution_count": 183
        }
      ]
    },
    {
      "cell_type": "code",
      "source": [
        "X_train.shape,X_valid.shape"
      ],
      "metadata": {
        "colab": {
          "base_uri": "https://localhost:8080/"
        },
        "id": "IfY5-FkEUEAw",
        "outputId": "2a1b16ab-89ea-48f1-977b-8a092505c285"
      },
      "execution_count": null,
      "outputs": [
        {
          "output_type": "execute_result",
          "data": {
            "text/plain": [
              "((156, 768), (39, 768))"
            ]
          },
          "metadata": {},
          "execution_count": 184
        }
      ]
    },
    {
      "cell_type": "code",
      "source": [
        "y_train.shape,y_valid.shape"
      ],
      "metadata": {
        "colab": {
          "base_uri": "https://localhost:8080/"
        },
        "id": "F-DxIzVWYjtc",
        "outputId": "542c1819-2b58-4c4c-eb50-86baa0c90d62"
      },
      "execution_count": null,
      "outputs": [
        {
          "output_type": "execute_result",
          "data": {
            "text/plain": [
              "((156,), (39,))"
            ]
          },
          "metadata": {},
          "execution_count": 185
        }
      ]
    },
    {
      "cell_type": "code",
      "source": [
        "print(X_train.shape)\n",
        "print(y_train.shape)\n",
        "print(X_valid.shape)\n",
        "print(y_valid.shape)"
      ],
      "metadata": {
        "colab": {
          "base_uri": "https://localhost:8080/"
        },
        "id": "fH8_zhe1bNyh",
        "outputId": "62d39be6-c090-4b71-83d8-0f3e7cbb87b1"
      },
      "execution_count": null,
      "outputs": [
        {
          "output_type": "stream",
          "name": "stdout",
          "text": [
            "(156, 768)\n",
            "(156,)\n",
            "(39, 768)\n",
            "(39,)\n"
          ]
        }
      ]
    },
    {
      "cell_type": "code",
      "source": [],
      "metadata": {
        "id": "FuPZiAyDbQl1"
      },
      "execution_count": null,
      "outputs": []
    },
    {
      "cell_type": "code",
      "source": [
        "history = model.fit(X_train,y_train,validation_data=(X_valid,y_valid),epochs=10,batch_size=32)"
      ],
      "metadata": {
        "colab": {
          "base_uri": "https://localhost:8080/"
        },
        "id": "AlgC1BD23tDh",
        "outputId": "e436f993-e39e-4a17-8ccf-6d56b78ca5ba"
      },
      "execution_count": null,
      "outputs": [
        {
          "output_type": "stream",
          "name": "stdout",
          "text": [
            "Executing op RangeDataset in device /job:localhost/replica:0/task:0/device:CPU:0\n",
            "Executing op MapDataset in device /job:localhost/replica:0/task:0/device:CPU:0\n",
            "Executing op PrefetchDataset in device /job:localhost/replica:0/task:0/device:CPU:0\n",
            "Executing op FlatMapDataset in device /job:localhost/replica:0/task:0/device:CPU:0\n",
            "Executing op _EagerConst in device /job:localhost/replica:0/task:0/device:GPU:0\n",
            "Executing op _EagerConst in device /job:localhost/replica:0/task:0/device:GPU:0\n",
            "Executing op TensorDataset in device /job:localhost/replica:0/task:0/device:CPU:0\n",
            "Executing op RepeatDataset in device /job:localhost/replica:0/task:0/device:CPU:0\n",
            "Executing op ZipDataset in device /job:localhost/replica:0/task:0/device:CPU:0\n",
            "Executing op ParallelMapDatasetV2 in device /job:localhost/replica:0/task:0/device:CPU:0\n",
            "Executing op OptionsDataset in device /job:localhost/replica:0/task:0/device:CPU:0\n",
            "Executing op OptionsDataset in device /job:localhost/replica:0/task:0/device:CPU:0\n",
            "Executing op PrefetchDataset in device /job:localhost/replica:0/task:0/device:CPU:0\n",
            "Executing op AssignVariableOp in device /job:localhost/replica:0/task:0/device:GPU:0\n",
            "Executing op AssignVariableOp in device /job:localhost/replica:0/task:0/device:GPU:0\n",
            "Executing op AssignVariableOp in device /job:localhost/replica:0/task:0/device:GPU:0\n",
            "Executing op AssignVariableOp in device /job:localhost/replica:0/task:0/device:GPU:0\n",
            "Epoch 1/10\n",
            "Executing op AnonymousIteratorV3 in device /job:localhost/replica:0/task:0/device:CPU:0\n",
            "Executing op MakeIterator in device /job:localhost/replica:0/task:0/device:CPU:0\n",
            "Executing op __inference_one_step_on_iterator_8603 in device /job:localhost/replica:0/task:0/device:GPU:0\n",
            "Executing op _EagerConst in device /job:localhost/replica:0/task:0/device:GPU:0\n",
            "Executing op Range in device /job:localhost/replica:0/task:0/device:GPU:0\n",
            "Executing op Mean in device /job:localhost/replica:0/task:0/device:GPU:0\n",
            "Executing op Range in device /job:localhost/replica:0/task:0/device:GPU:0\n",
            "Executing op Mean in device /job:localhost/replica:0/task:0/device:GPU:0\n",
            "\u001b[1m1/5\u001b[0m \u001b[32m━━━━\u001b[0m\u001b[37m━━━━━━━━━━━━━━━━\u001b[0m \u001b[1m0s\u001b[0m 30ms/step - loss: 1.3104 - mae: 1.3104Executing op __inference_one_step_on_iterator_8603 in device /job:localhost/replica:0/task:0/device:GPU:0\n",
            "Executing op __inference_one_step_on_iterator_8603 in device /job:localhost/replica:0/task:0/device:GPU:0\n",
            "Executing op __inference_one_step_on_iterator_8603 in device /job:localhost/replica:0/task:0/device:GPU:0\n",
            "Executing op __inference_one_step_on_iterator_8603 in device /job:localhost/replica:0/task:0/device:GPU:0\n",
            "Executing op ReadVariableOp in device /job:localhost/replica:0/task:0/device:GPU:0\n",
            "Executing op ReadVariableOp in device /job:localhost/replica:0/task:0/device:GPU:0\n",
            "Executing op DivNoNan in device /job:localhost/replica:0/task:0/device:GPU:0\n",
            "Executing op ReadVariableOp in device /job:localhost/replica:0/task:0/device:GPU:0\n",
            "Executing op ReadVariableOp in device /job:localhost/replica:0/task:0/device:GPU:0\n",
            "Executing op DivNoNan in device /job:localhost/replica:0/task:0/device:GPU:0\n",
            "Executing op RangeDataset in device /job:localhost/replica:0/task:0/device:CPU:0\n",
            "Executing op MapDataset in device /job:localhost/replica:0/task:0/device:CPU:0\n",
            "Executing op PrefetchDataset in device /job:localhost/replica:0/task:0/device:CPU:0\n",
            "Executing op FlatMapDataset in device /job:localhost/replica:0/task:0/device:CPU:0\n",
            "Executing op _EagerConst in device /job:localhost/replica:0/task:0/device:GPU:0\n",
            "Executing op _EagerConst in device /job:localhost/replica:0/task:0/device:GPU:0\n",
            "Executing op TensorDataset in device /job:localhost/replica:0/task:0/device:CPU:0\n",
            "Executing op RepeatDataset in device /job:localhost/replica:0/task:0/device:CPU:0\n",
            "Executing op ZipDataset in device /job:localhost/replica:0/task:0/device:CPU:0\n",
            "Executing op ParallelMapDatasetV2 in device /job:localhost/replica:0/task:0/device:CPU:0\n",
            "Executing op OptionsDataset in device /job:localhost/replica:0/task:0/device:CPU:0\n",
            "Executing op OptionsDataset in device /job:localhost/replica:0/task:0/device:CPU:0\n",
            "Executing op PrefetchDataset in device /job:localhost/replica:0/task:0/device:CPU:0\n",
            "Executing op AssignVariableOp in device /job:localhost/replica:0/task:0/device:GPU:0\n",
            "Executing op AssignVariableOp in device /job:localhost/replica:0/task:0/device:GPU:0\n",
            "Executing op AssignVariableOp in device /job:localhost/replica:0/task:0/device:GPU:0\n",
            "Executing op AssignVariableOp in device /job:localhost/replica:0/task:0/device:GPU:0\n",
            "Executing op AnonymousIteratorV3 in device /job:localhost/replica:0/task:0/device:CPU:0\n",
            "Executing op MakeIterator in device /job:localhost/replica:0/task:0/device:CPU:0\n",
            "Executing op __inference_one_step_on_iterator_8821 in device /job:localhost/replica:0/task:0/device:GPU:0\n",
            "Executing op __inference_one_step_on_iterator_8821 in device /job:localhost/replica:0/task:0/device:GPU:0\n",
            "Executing op ReadVariableOp in device /job:localhost/replica:0/task:0/device:GPU:0\n",
            "Executing op ReadVariableOp in device /job:localhost/replica:0/task:0/device:GPU:0\n",
            "Executing op DivNoNan in device /job:localhost/replica:0/task:0/device:GPU:0\n",
            "Executing op ReadVariableOp in device /job:localhost/replica:0/task:0/device:GPU:0\n",
            "Executing op ReadVariableOp in device /job:localhost/replica:0/task:0/device:GPU:0\n",
            "Executing op DivNoNan in device /job:localhost/replica:0/task:0/device:GPU:0\n",
            "Executing op _EagerConst in device /job:localhost/replica:0/task:0/device:GPU:0\n",
            "Executing op Range in device /job:localhost/replica:0/task:0/device:GPU:0\n",
            "Executing op Mean in device /job:localhost/replica:0/task:0/device:GPU:0\n",
            "Executing op Range in device /job:localhost/replica:0/task:0/device:GPU:0\n",
            "Executing op Mean in device /job:localhost/replica:0/task:0/device:GPU:0\n",
            "Executing op _EagerConst in device /job:localhost/replica:0/task:0/device:GPU:0\n",
            "Executing op Range in device /job:localhost/replica:0/task:0/device:GPU:0\n",
            "Executing op Mean in device /job:localhost/replica:0/task:0/device:GPU:0\n",
            "Executing op Range in device /job:localhost/replica:0/task:0/device:GPU:0\n",
            "Executing op Mean in device /job:localhost/replica:0/task:0/device:GPU:0\n",
            "\u001b[1m5/5\u001b[0m \u001b[32m━━━━━━━━━━━━━━━━━━━━\u001b[0m\u001b[37m\u001b[0m \u001b[1m0s\u001b[0m 35ms/step - loss: 1.3103 - mae: 1.3103 - val_loss: 0.9184 - val_mae: 0.9184\n",
            "Executing op AssignVariableOp in device /job:localhost/replica:0/task:0/device:GPU:0\n",
            "Executing op AssignVariableOp in device /job:localhost/replica:0/task:0/device:GPU:0\n",
            "Executing op AssignVariableOp in device /job:localhost/replica:0/task:0/device:GPU:0\n",
            "Executing op AssignVariableOp in device /job:localhost/replica:0/task:0/device:GPU:0\n",
            "Epoch 2/10\n",
            "Executing op AnonymousIteratorV3 in device /job:localhost/replica:0/task:0/device:CPU:0\n",
            "Executing op MakeIterator in device /job:localhost/replica:0/task:0/device:CPU:0\n",
            "Executing op __inference_one_step_on_iterator_8603 in device /job:localhost/replica:0/task:0/device:GPU:0\n",
            "Executing op _EagerConst in device /job:localhost/replica:0/task:0/device:GPU:0\n",
            "Executing op Range in device /job:localhost/replica:0/task:0/device:GPU:0\n",
            "Executing op Mean in device /job:localhost/replica:0/task:0/device:GPU:0\n",
            "Executing op Range in device /job:localhost/replica:0/task:0/device:GPU:0\n",
            "Executing op Mean in device /job:localhost/replica:0/task:0/device:GPU:0\n",
            "\u001b[1m1/5\u001b[0m \u001b[32m━━━━\u001b[0m\u001b[37m━━━━━━━━━━━━━━━━\u001b[0m \u001b[1m0s\u001b[0m 29ms/step - loss: 0.9680 - mae: 0.9680Executing op __inference_one_step_on_iterator_8603 in device /job:localhost/replica:0/task:0/device:GPU:0\n",
            "Executing op __inference_one_step_on_iterator_8603 in device /job:localhost/replica:0/task:0/device:GPU:0\n",
            "Executing op __inference_one_step_on_iterator_8603 in device /job:localhost/replica:0/task:0/device:GPU:0\n",
            "Executing op __inference_one_step_on_iterator_8603 in device /job:localhost/replica:0/task:0/device:GPU:0\n",
            "Executing op ReadVariableOp in device /job:localhost/replica:0/task:0/device:GPU:0\n",
            "Executing op ReadVariableOp in device /job:localhost/replica:0/task:0/device:GPU:0\n",
            "Executing op DivNoNan in device /job:localhost/replica:0/task:0/device:GPU:0\n",
            "Executing op ReadVariableOp in device /job:localhost/replica:0/task:0/device:GPU:0\n",
            "Executing op ReadVariableOp in device /job:localhost/replica:0/task:0/device:GPU:0\n",
            "Executing op DivNoNan in device /job:localhost/replica:0/task:0/device:GPU:0\n",
            "Executing op AssignVariableOp in device /job:localhost/replica:0/task:0/device:GPU:0\n",
            "Executing op AssignVariableOp in device /job:localhost/replica:0/task:0/device:GPU:0\n",
            "Executing op AssignVariableOp in device /job:localhost/replica:0/task:0/device:GPU:0\n",
            "Executing op AssignVariableOp in device /job:localhost/replica:0/task:0/device:GPU:0\n",
            "Executing op AnonymousIteratorV3 in device /job:localhost/replica:0/task:0/device:CPU:0\n",
            "Executing op MakeIterator in device /job:localhost/replica:0/task:0/device:CPU:0\n",
            "Executing op __inference_one_step_on_iterator_8821 in device /job:localhost/replica:0/task:0/device:GPU:0\n",
            "Executing op __inference_one_step_on_iterator_8821 in device /job:localhost/replica:0/task:0/device:GPU:0\n",
            "Executing op ReadVariableOp in device /job:localhost/replica:0/task:0/device:GPU:0\n",
            "Executing op ReadVariableOp in device /job:localhost/replica:0/task:0/device:GPU:0\n",
            "Executing op DivNoNan in device /job:localhost/replica:0/task:0/device:GPU:0\n",
            "Executing op ReadVariableOp in device /job:localhost/replica:0/task:0/device:GPU:0\n",
            "Executing op ReadVariableOp in device /job:localhost/replica:0/task:0/device:GPU:0\n",
            "Executing op DivNoNan in device /job:localhost/replica:0/task:0/device:GPU:0\n",
            "Executing op _EagerConst in device /job:localhost/replica:0/task:0/device:GPU:0\n",
            "Executing op Range in device /job:localhost/replica:0/task:0/device:GPU:0\n",
            "Executing op Mean in device /job:localhost/replica:0/task:0/device:GPU:0\n",
            "Executing op Range in device /job:localhost/replica:0/task:0/device:GPU:0\n",
            "Executing op Mean in device /job:localhost/replica:0/task:0/device:GPU:0\n",
            "Executing op _EagerConst in device /job:localhost/replica:0/task:0/device:GPU:0\n",
            "Executing op Range in device /job:localhost/replica:0/task:0/device:GPU:0\n",
            "Executing op Mean in device /job:localhost/replica:0/task:0/device:GPU:0\n",
            "Executing op Range in device /job:localhost/replica:0/task:0/device:GPU:0\n",
            "Executing op Mean in device /job:localhost/replica:0/task:0/device:GPU:0\n",
            "\u001b[1m5/5\u001b[0m \u001b[32m━━━━━━━━━━━━━━━━━━━━\u001b[0m\u001b[37m\u001b[0m \u001b[1m0s\u001b[0m 17ms/step - loss: 0.8738 - mae: 0.8738 - val_loss: 0.5703 - val_mae: 0.5703\n",
            "Executing op AssignVariableOp in device /job:localhost/replica:0/task:0/device:GPU:0\n",
            "Executing op AssignVariableOp in device /job:localhost/replica:0/task:0/device:GPU:0\n",
            "Executing op AssignVariableOp in device /job:localhost/replica:0/task:0/device:GPU:0\n",
            "Executing op AssignVariableOp in device /job:localhost/replica:0/task:0/device:GPU:0\n",
            "Epoch 3/10\n",
            "Executing op AnonymousIteratorV3 in device /job:localhost/replica:0/task:0/device:CPU:0\n",
            "Executing op MakeIterator in device /job:localhost/replica:0/task:0/device:CPU:0\n",
            "Executing op __inference_one_step_on_iterator_8603 in device /job:localhost/replica:0/task:0/device:GPU:0\n",
            "Executing op _EagerConst in device /job:localhost/replica:0/task:0/device:GPU:0\n",
            "Executing op Range in device /job:localhost/replica:0/task:0/device:GPU:0\n",
            "Executing op Mean in device /job:localhost/replica:0/task:0/device:GPU:0\n",
            "Executing op Range in device /job:localhost/replica:0/task:0/device:GPU:0\n",
            "Executing op Mean in device /job:localhost/replica:0/task:0/device:GPU:0\n",
            "\u001b[1m1/5\u001b[0m \u001b[32m━━━━\u001b[0m\u001b[37m━━━━━━━━━━━━━━━━\u001b[0m \u001b[1m0s\u001b[0m 27ms/step - loss: 0.6972 - mae: 0.6972Executing op __inference_one_step_on_iterator_8603 in device /job:localhost/replica:0/task:0/device:GPU:0\n",
            "Executing op __inference_one_step_on_iterator_8603 in device /job:localhost/replica:0/task:0/device:GPU:0\n",
            "Executing op __inference_one_step_on_iterator_8603 in device /job:localhost/replica:0/task:0/device:GPU:0\n",
            "Executing op __inference_one_step_on_iterator_8603 in device /job:localhost/replica:0/task:0/device:GPU:0\n",
            "Executing op ReadVariableOp in device /job:localhost/replica:0/task:0/device:GPU:0\n",
            "Executing op ReadVariableOp in device /job:localhost/replica:0/task:0/device:GPU:0\n",
            "Executing op DivNoNan in device /job:localhost/replica:0/task:0/device:GPU:0\n",
            "Executing op ReadVariableOp in device /job:localhost/replica:0/task:0/device:GPU:0\n",
            "Executing op ReadVariableOp in device /job:localhost/replica:0/task:0/device:GPU:0\n",
            "Executing op DivNoNan in device /job:localhost/replica:0/task:0/device:GPU:0\n",
            "Executing op AssignVariableOp in device /job:localhost/replica:0/task:0/device:GPU:0\n",
            "Executing op AssignVariableOp in device /job:localhost/replica:0/task:0/device:GPU:0\n",
            "Executing op AssignVariableOp in device /job:localhost/replica:0/task:0/device:GPU:0\n",
            "Executing op AssignVariableOp in device /job:localhost/replica:0/task:0/device:GPU:0\n",
            "Executing op AnonymousIteratorV3 in device /job:localhost/replica:0/task:0/device:CPU:0\n",
            "Executing op MakeIterator in device /job:localhost/replica:0/task:0/device:CPU:0\n",
            "Executing op __inference_one_step_on_iterator_8821 in device /job:localhost/replica:0/task:0/device:GPU:0\n",
            "Executing op __inference_one_step_on_iterator_8821 in device /job:localhost/replica:0/task:0/device:GPU:0\n",
            "Executing op ReadVariableOp in device /job:localhost/replica:0/task:0/device:GPU:0\n",
            "Executing op ReadVariableOp in device /job:localhost/replica:0/task:0/device:GPU:0\n",
            "Executing op DivNoNan in device /job:localhost/replica:0/task:0/device:GPU:0\n",
            "Executing op ReadVariableOp in device /job:localhost/replica:0/task:0/device:GPU:0\n",
            "Executing op ReadVariableOp in device /job:localhost/replica:0/task:0/device:GPU:0\n",
            "Executing op DivNoNan in device /job:localhost/replica:0/task:0/device:GPU:0\n",
            "Executing op _EagerConst in device /job:localhost/replica:0/task:0/device:GPU:0\n",
            "Executing op Range in device /job:localhost/replica:0/task:0/device:GPU:0\n",
            "Executing op Mean in device /job:localhost/replica:0/task:0/device:GPU:0\n",
            "Executing op Range in device /job:localhost/replica:0/task:0/device:GPU:0\n",
            "Executing op Mean in device /job:localhost/replica:0/task:0/device:GPU:0\n",
            "Executing op _EagerConst in device /job:localhost/replica:0/task:0/device:GPU:0\n",
            "Executing op Range in device /job:localhost/replica:0/task:0/device:GPU:0\n",
            "Executing op Mean in device /job:localhost/replica:0/task:0/device:GPU:0\n",
            "Executing op Range in device /job:localhost/replica:0/task:0/device:GPU:0\n",
            "Executing op Mean in device /job:localhost/replica:0/task:0/device:GPU:0\n",
            "\u001b[1m5/5\u001b[0m \u001b[32m━━━━━━━━━━━━━━━━━━━━\u001b[0m\u001b[37m\u001b[0m \u001b[1m0s\u001b[0m 18ms/step - loss: 0.6580 - mae: 0.6580 - val_loss: 0.6796 - val_mae: 0.6796\n",
            "Executing op AssignVariableOp in device /job:localhost/replica:0/task:0/device:GPU:0\n",
            "Executing op AssignVariableOp in device /job:localhost/replica:0/task:0/device:GPU:0\n",
            "Executing op AssignVariableOp in device /job:localhost/replica:0/task:0/device:GPU:0\n",
            "Executing op AssignVariableOp in device /job:localhost/replica:0/task:0/device:GPU:0\n",
            "Epoch 4/10\n",
            "Executing op AnonymousIteratorV3 in device /job:localhost/replica:0/task:0/device:CPU:0\n",
            "Executing op MakeIterator in device /job:localhost/replica:0/task:0/device:CPU:0\n",
            "Executing op __inference_one_step_on_iterator_8603 in device /job:localhost/replica:0/task:0/device:GPU:0\n",
            "Executing op _EagerConst in device /job:localhost/replica:0/task:0/device:GPU:0\n",
            "Executing op Range in device /job:localhost/replica:0/task:0/device:GPU:0\n",
            "Executing op Mean in device /job:localhost/replica:0/task:0/device:GPU:0\n",
            "Executing op Range in device /job:localhost/replica:0/task:0/device:GPU:0\n",
            "Executing op Mean in device /job:localhost/replica:0/task:0/device:GPU:0\n",
            "\u001b[1m1/5\u001b[0m \u001b[32m━━━━\u001b[0m\u001b[37m━━━━━━━━━━━━━━━━\u001b[0m \u001b[1m0s\u001b[0m 29ms/step - loss: 0.5907 - mae: 0.5907Executing op __inference_one_step_on_iterator_8603 in device /job:localhost/replica:0/task:0/device:GPU:0\n",
            "Executing op __inference_one_step_on_iterator_8603 in device /job:localhost/replica:0/task:0/device:GPU:0\n",
            "Executing op __inference_one_step_on_iterator_8603 in device /job:localhost/replica:0/task:0/device:GPU:0\n",
            "Executing op __inference_one_step_on_iterator_8603 in device /job:localhost/replica:0/task:0/device:GPU:0\n",
            "Executing op ReadVariableOp in device /job:localhost/replica:0/task:0/device:GPU:0\n",
            "Executing op ReadVariableOp in device /job:localhost/replica:0/task:0/device:GPU:0\n",
            "Executing op DivNoNan in device /job:localhost/replica:0/task:0/device:GPU:0\n",
            "Executing op ReadVariableOp in device /job:localhost/replica:0/task:0/device:GPU:0\n",
            "Executing op ReadVariableOp in device /job:localhost/replica:0/task:0/device:GPU:0\n",
            "Executing op DivNoNan in device /job:localhost/replica:0/task:0/device:GPU:0\n",
            "Executing op AssignVariableOp in device /job:localhost/replica:0/task:0/device:GPU:0\n",
            "Executing op AssignVariableOp in device /job:localhost/replica:0/task:0/device:GPU:0\n",
            "Executing op AssignVariableOp in device /job:localhost/replica:0/task:0/device:GPU:0\n",
            "Executing op AssignVariableOp in device /job:localhost/replica:0/task:0/device:GPU:0\n",
            "Executing op AnonymousIteratorV3 in device /job:localhost/replica:0/task:0/device:CPU:0\n",
            "Executing op MakeIterator in device /job:localhost/replica:0/task:0/device:CPU:0\n",
            "Executing op __inference_one_step_on_iterator_8821 in device /job:localhost/replica:0/task:0/device:GPU:0\n",
            "Executing op __inference_one_step_on_iterator_8821 in device /job:localhost/replica:0/task:0/device:GPU:0\n",
            "Executing op ReadVariableOp in device /job:localhost/replica:0/task:0/device:GPU:0\n",
            "Executing op ReadVariableOp in device /job:localhost/replica:0/task:0/device:GPU:0\n",
            "Executing op DivNoNan in device /job:localhost/replica:0/task:0/device:GPU:0\n",
            "Executing op ReadVariableOp in device /job:localhost/replica:0/task:0/device:GPU:0\n",
            "Executing op ReadVariableOp in device /job:localhost/replica:0/task:0/device:GPU:0\n",
            "Executing op DivNoNan in device /job:localhost/replica:0/task:0/device:GPU:0\n",
            "Executing op _EagerConst in device /job:localhost/replica:0/task:0/device:GPU:0\n",
            "Executing op Range in device /job:localhost/replica:0/task:0/device:GPU:0\n",
            "Executing op Mean in device /job:localhost/replica:0/task:0/device:GPU:0\n",
            "Executing op Range in device /job:localhost/replica:0/task:0/device:GPU:0\n",
            "Executing op Mean in device /job:localhost/replica:0/task:0/device:GPU:0\n",
            "Executing op _EagerConst in device /job:localhost/replica:0/task:0/device:GPU:0\n",
            "Executing op Range in device /job:localhost/replica:0/task:0/device:GPU:0\n",
            "Executing op Mean in device /job:localhost/replica:0/task:0/device:GPU:0\n",
            "Executing op Range in device /job:localhost/replica:0/task:0/device:GPU:0\n",
            "Executing op Mean in device /job:localhost/replica:0/task:0/device:GPU:0\n",
            "\u001b[1m5/5\u001b[0m \u001b[32m━━━━━━━━━━━━━━━━━━━━\u001b[0m\u001b[37m\u001b[0m \u001b[1m0s\u001b[0m 18ms/step - loss: 0.6571 - mae: 0.6571 - val_loss: 0.5366 - val_mae: 0.5366\n",
            "Executing op AssignVariableOp in device /job:localhost/replica:0/task:0/device:GPU:0\n",
            "Executing op AssignVariableOp in device /job:localhost/replica:0/task:0/device:GPU:0\n",
            "Executing op AssignVariableOp in device /job:localhost/replica:0/task:0/device:GPU:0\n",
            "Executing op AssignVariableOp in device /job:localhost/replica:0/task:0/device:GPU:0\n",
            "Epoch 5/10\n",
            "Executing op AnonymousIteratorV3 in device /job:localhost/replica:0/task:0/device:CPU:0\n",
            "Executing op MakeIterator in device /job:localhost/replica:0/task:0/device:CPU:0\n",
            "Executing op __inference_one_step_on_iterator_8603 in device /job:localhost/replica:0/task:0/device:GPU:0\n",
            "Executing op _EagerConst in device /job:localhost/replica:0/task:0/device:GPU:0\n",
            "Executing op Range in device /job:localhost/replica:0/task:0/device:GPU:0\n",
            "Executing op Mean in device /job:localhost/replica:0/task:0/device:GPU:0\n",
            "Executing op Range in device /job:localhost/replica:0/task:0/device:GPU:0\n",
            "Executing op Mean in device /job:localhost/replica:0/task:0/device:GPU:0\n",
            "\u001b[1m1/5\u001b[0m \u001b[32m━━━━\u001b[0m\u001b[37m━━━━━━━━━━━━━━━━\u001b[0m \u001b[1m0s\u001b[0m 28ms/step - loss: 0.5413 - mae: 0.5413Executing op __inference_one_step_on_iterator_8603 in device /job:localhost/replica:0/task:0/device:GPU:0\n",
            "Executing op __inference_one_step_on_iterator_8603 in device /job:localhost/replica:0/task:0/device:GPU:0\n",
            "Executing op __inference_one_step_on_iterator_8603 in device /job:localhost/replica:0/task:0/device:GPU:0\n",
            "Executing op __inference_one_step_on_iterator_8603 in device /job:localhost/replica:0/task:0/device:GPU:0\n",
            "Executing op ReadVariableOp in device /job:localhost/replica:0/task:0/device:GPU:0\n",
            "Executing op ReadVariableOp in device /job:localhost/replica:0/task:0/device:GPU:0\n",
            "Executing op DivNoNan in device /job:localhost/replica:0/task:0/device:GPU:0\n",
            "Executing op ReadVariableOp in device /job:localhost/replica:0/task:0/device:GPU:0\n",
            "Executing op ReadVariableOp in device /job:localhost/replica:0/task:0/device:GPU:0\n",
            "Executing op DivNoNan in device /job:localhost/replica:0/task:0/device:GPU:0\n",
            "Executing op AssignVariableOp in device /job:localhost/replica:0/task:0/device:GPU:0\n",
            "Executing op AssignVariableOp in device /job:localhost/replica:0/task:0/device:GPU:0\n",
            "Executing op AssignVariableOp in device /job:localhost/replica:0/task:0/device:GPU:0\n",
            "Executing op AssignVariableOp in device /job:localhost/replica:0/task:0/device:GPU:0\n",
            "Executing op AnonymousIteratorV3 in device /job:localhost/replica:0/task:0/device:CPU:0\n",
            "Executing op MakeIterator in device /job:localhost/replica:0/task:0/device:CPU:0\n",
            "Executing op __inference_one_step_on_iterator_8821 in device /job:localhost/replica:0/task:0/device:GPU:0\n",
            "Executing op __inference_one_step_on_iterator_8821 in device /job:localhost/replica:0/task:0/device:GPU:0\n",
            "Executing op ReadVariableOp in device /job:localhost/replica:0/task:0/device:GPU:0\n",
            "Executing op ReadVariableOp in device /job:localhost/replica:0/task:0/device:GPU:0\n",
            "Executing op DivNoNan in device /job:localhost/replica:0/task:0/device:GPU:0\n",
            "Executing op ReadVariableOp in device /job:localhost/replica:0/task:0/device:GPU:0\n",
            "Executing op ReadVariableOp in device /job:localhost/replica:0/task:0/device:GPU:0\n",
            "Executing op DivNoNan in device /job:localhost/replica:0/task:0/device:GPU:0\n",
            "Executing op _EagerConst in device /job:localhost/replica:0/task:0/device:GPU:0\n",
            "Executing op Range in device /job:localhost/replica:0/task:0/device:GPU:0\n",
            "Executing op Mean in device /job:localhost/replica:0/task:0/device:GPU:0\n",
            "Executing op Range in device /job:localhost/replica:0/task:0/device:GPU:0\n",
            "Executing op Mean in device /job:localhost/replica:0/task:0/device:GPU:0\n",
            "Executing op _EagerConst in device /job:localhost/replica:0/task:0/device:GPU:0\n",
            "Executing op Range in device /job:localhost/replica:0/task:0/device:GPU:0\n",
            "Executing op Mean in device /job:localhost/replica:0/task:0/device:GPU:0\n",
            "Executing op Range in device /job:localhost/replica:0/task:0/device:GPU:0\n",
            "Executing op Mean in device /job:localhost/replica:0/task:0/device:GPU:0\n",
            "\u001b[1m5/5\u001b[0m \u001b[32m━━━━━━━━━━━━━━━━━━━━\u001b[0m\u001b[37m\u001b[0m \u001b[1m0s\u001b[0m 17ms/step - loss: 0.5161 - mae: 0.5161 - val_loss: 0.5380 - val_mae: 0.5380\n",
            "Executing op AssignVariableOp in device /job:localhost/replica:0/task:0/device:GPU:0\n",
            "Executing op AssignVariableOp in device /job:localhost/replica:0/task:0/device:GPU:0\n",
            "Executing op AssignVariableOp in device /job:localhost/replica:0/task:0/device:GPU:0\n",
            "Executing op AssignVariableOp in device /job:localhost/replica:0/task:0/device:GPU:0\n",
            "Epoch 6/10\n",
            "Executing op AnonymousIteratorV3 in device /job:localhost/replica:0/task:0/device:CPU:0\n",
            "Executing op MakeIterator in device /job:localhost/replica:0/task:0/device:CPU:0\n",
            "Executing op __inference_one_step_on_iterator_8603 in device /job:localhost/replica:0/task:0/device:GPU:0\n",
            "Executing op _EagerConst in device /job:localhost/replica:0/task:0/device:GPU:0\n",
            "Executing op Range in device /job:localhost/replica:0/task:0/device:GPU:0\n",
            "Executing op Mean in device /job:localhost/replica:0/task:0/device:GPU:0\n",
            "Executing op Range in device /job:localhost/replica:0/task:0/device:GPU:0\n",
            "Executing op Mean in device /job:localhost/replica:0/task:0/device:GPU:0\n",
            "\u001b[1m1/5\u001b[0m \u001b[32m━━━━\u001b[0m\u001b[37m━━━━━━━━━━━━━━━━\u001b[0m \u001b[1m0s\u001b[0m 28ms/step - loss: 0.4637 - mae: 0.4637Executing op __inference_one_step_on_iterator_8603 in device /job:localhost/replica:0/task:0/device:GPU:0\n",
            "Executing op __inference_one_step_on_iterator_8603 in device /job:localhost/replica:0/task:0/device:GPU:0\n",
            "Executing op __inference_one_step_on_iterator_8603 in device /job:localhost/replica:0/task:0/device:GPU:0\n",
            "Executing op __inference_one_step_on_iterator_8603 in device /job:localhost/replica:0/task:0/device:GPU:0\n",
            "Executing op ReadVariableOp in device /job:localhost/replica:0/task:0/device:GPU:0\n",
            "Executing op ReadVariableOp in device /job:localhost/replica:0/task:0/device:GPU:0\n",
            "Executing op DivNoNan in device /job:localhost/replica:0/task:0/device:GPU:0\n",
            "Executing op ReadVariableOp in device /job:localhost/replica:0/task:0/device:GPU:0\n",
            "Executing op ReadVariableOp in device /job:localhost/replica:0/task:0/device:GPU:0\n",
            "Executing op DivNoNan in device /job:localhost/replica:0/task:0/device:GPU:0\n",
            "Executing op AssignVariableOp in device /job:localhost/replica:0/task:0/device:GPU:0\n",
            "Executing op AssignVariableOp in device /job:localhost/replica:0/task:0/device:GPU:0\n",
            "Executing op AssignVariableOp in device /job:localhost/replica:0/task:0/device:GPU:0\n",
            "Executing op AssignVariableOp in device /job:localhost/replica:0/task:0/device:GPU:0\n",
            "Executing op AnonymousIteratorV3 in device /job:localhost/replica:0/task:0/device:CPU:0\n",
            "Executing op MakeIterator in device /job:localhost/replica:0/task:0/device:CPU:0\n",
            "Executing op __inference_one_step_on_iterator_8821 in device /job:localhost/replica:0/task:0/device:GPU:0\n",
            "Executing op __inference_one_step_on_iterator_8821 in device /job:localhost/replica:0/task:0/device:GPU:0\n",
            "Executing op ReadVariableOp in device /job:localhost/replica:0/task:0/device:GPU:0\n",
            "Executing op ReadVariableOp in device /job:localhost/replica:0/task:0/device:GPU:0\n",
            "Executing op DivNoNan in device /job:localhost/replica:0/task:0/device:GPU:0\n",
            "Executing op ReadVariableOp in device /job:localhost/replica:0/task:0/device:GPU:0\n",
            "Executing op ReadVariableOp in device /job:localhost/replica:0/task:0/device:GPU:0\n",
            "Executing op DivNoNan in device /job:localhost/replica:0/task:0/device:GPU:0\n",
            "Executing op _EagerConst in device /job:localhost/replica:0/task:0/device:GPU:0\n",
            "Executing op Range in device /job:localhost/replica:0/task:0/device:GPU:0\n",
            "Executing op Mean in device /job:localhost/replica:0/task:0/device:GPU:0\n",
            "Executing op Range in device /job:localhost/replica:0/task:0/device:GPU:0\n",
            "Executing op Mean in device /job:localhost/replica:0/task:0/device:GPU:0\n",
            "Executing op _EagerConst in device /job:localhost/replica:0/task:0/device:GPU:0\n",
            "Executing op Range in device /job:localhost/replica:0/task:0/device:GPU:0\n",
            "Executing op Mean in device /job:localhost/replica:0/task:0/device:GPU:0\n",
            "Executing op Range in device /job:localhost/replica:0/task:0/device:GPU:0\n",
            "Executing op Mean in device /job:localhost/replica:0/task:0/device:GPU:0\n",
            "\u001b[1m5/5\u001b[0m \u001b[32m━━━━━━━━━━━━━━━━━━━━\u001b[0m\u001b[37m\u001b[0m \u001b[1m0s\u001b[0m 18ms/step - loss: 0.5098 - mae: 0.5098 - val_loss: 0.5182 - val_mae: 0.5182\n",
            "Executing op AssignVariableOp in device /job:localhost/replica:0/task:0/device:GPU:0\n",
            "Executing op AssignVariableOp in device /job:localhost/replica:0/task:0/device:GPU:0\n",
            "Executing op AssignVariableOp in device /job:localhost/replica:0/task:0/device:GPU:0\n",
            "Executing op AssignVariableOp in device /job:localhost/replica:0/task:0/device:GPU:0\n",
            "Epoch 7/10\n",
            "Executing op AnonymousIteratorV3 in device /job:localhost/replica:0/task:0/device:CPU:0\n",
            "Executing op MakeIterator in device /job:localhost/replica:0/task:0/device:CPU:0\n",
            "Executing op __inference_one_step_on_iterator_8603 in device /job:localhost/replica:0/task:0/device:GPU:0\n",
            "Executing op _EagerConst in device /job:localhost/replica:0/task:0/device:GPU:0\n",
            "Executing op Range in device /job:localhost/replica:0/task:0/device:GPU:0\n",
            "Executing op Mean in device /job:localhost/replica:0/task:0/device:GPU:0\n",
            "Executing op Range in device /job:localhost/replica:0/task:0/device:GPU:0\n",
            "Executing op Mean in device /job:localhost/replica:0/task:0/device:GPU:0\n",
            "\u001b[1m1/5\u001b[0m \u001b[32m━━━━\u001b[0m\u001b[37m━━━━━━━━━━━━━━━━\u001b[0m \u001b[1m0s\u001b[0m 28ms/step - loss: 0.4637 - mae: 0.4637Executing op __inference_one_step_on_iterator_8603 in device /job:localhost/replica:0/task:0/device:GPU:0\n",
            "Executing op __inference_one_step_on_iterator_8603 in device /job:localhost/replica:0/task:0/device:GPU:0\n",
            "Executing op __inference_one_step_on_iterator_8603 in device /job:localhost/replica:0/task:0/device:GPU:0\n",
            "Executing op __inference_one_step_on_iterator_8603 in device /job:localhost/replica:0/task:0/device:GPU:0\n",
            "Executing op ReadVariableOp in device /job:localhost/replica:0/task:0/device:GPU:0\n",
            "Executing op ReadVariableOp in device /job:localhost/replica:0/task:0/device:GPU:0\n",
            "Executing op DivNoNan in device /job:localhost/replica:0/task:0/device:GPU:0\n",
            "Executing op ReadVariableOp in device /job:localhost/replica:0/task:0/device:GPU:0\n",
            "Executing op ReadVariableOp in device /job:localhost/replica:0/task:0/device:GPU:0\n",
            "Executing op DivNoNan in device /job:localhost/replica:0/task:0/device:GPU:0\n",
            "Executing op AssignVariableOp in device /job:localhost/replica:0/task:0/device:GPU:0\n",
            "Executing op AssignVariableOp in device /job:localhost/replica:0/task:0/device:GPU:0\n",
            "Executing op AssignVariableOp in device /job:localhost/replica:0/task:0/device:GPU:0\n",
            "Executing op AssignVariableOp in device /job:localhost/replica:0/task:0/device:GPU:0\n",
            "Executing op AnonymousIteratorV3 in device /job:localhost/replica:0/task:0/device:CPU:0\n",
            "Executing op MakeIterator in device /job:localhost/replica:0/task:0/device:CPU:0\n",
            "Executing op __inference_one_step_on_iterator_8821 in device /job:localhost/replica:0/task:0/device:GPU:0\n",
            "Executing op __inference_one_step_on_iterator_8821 in device /job:localhost/replica:0/task:0/device:GPU:0\n",
            "Executing op ReadVariableOp in device /job:localhost/replica:0/task:0/device:GPU:0\n",
            "Executing op ReadVariableOp in device /job:localhost/replica:0/task:0/device:GPU:0\n",
            "Executing op DivNoNan in device /job:localhost/replica:0/task:0/device:GPU:0\n",
            "Executing op ReadVariableOp in device /job:localhost/replica:0/task:0/device:GPU:0\n",
            "Executing op ReadVariableOp in device /job:localhost/replica:0/task:0/device:GPU:0\n",
            "Executing op DivNoNan in device /job:localhost/replica:0/task:0/device:GPU:0\n",
            "Executing op _EagerConst in device /job:localhost/replica:0/task:0/device:GPU:0\n",
            "Executing op Range in device /job:localhost/replica:0/task:0/device:GPU:0\n",
            "Executing op Mean in device /job:localhost/replica:0/task:0/device:GPU:0\n",
            "Executing op Range in device /job:localhost/replica:0/task:0/device:GPU:0\n",
            "Executing op Mean in device /job:localhost/replica:0/task:0/device:GPU:0\n",
            "Executing op _EagerConst in device /job:localhost/replica:0/task:0/device:GPU:0\n",
            "Executing op Range in device /job:localhost/replica:0/task:0/device:GPU:0\n",
            "Executing op Mean in device /job:localhost/replica:0/task:0/device:GPU:0\n",
            "Executing op Range in device /job:localhost/replica:0/task:0/device:GPU:0\n",
            "Executing op Mean in device /job:localhost/replica:0/task:0/device:GPU:0\n",
            "\u001b[1m5/5\u001b[0m \u001b[32m━━━━━━━━━━━━━━━━━━━━\u001b[0m\u001b[37m\u001b[0m \u001b[1m0s\u001b[0m 19ms/step - loss: 0.4671 - mae: 0.4671 - val_loss: 0.5456 - val_mae: 0.5456\n",
            "Executing op AssignVariableOp in device /job:localhost/replica:0/task:0/device:GPU:0\n",
            "Executing op AssignVariableOp in device /job:localhost/replica:0/task:0/device:GPU:0\n",
            "Executing op AssignVariableOp in device /job:localhost/replica:0/task:0/device:GPU:0\n",
            "Executing op AssignVariableOp in device /job:localhost/replica:0/task:0/device:GPU:0\n",
            "Epoch 8/10\n",
            "Executing op AnonymousIteratorV3 in device /job:localhost/replica:0/task:0/device:CPU:0\n",
            "Executing op MakeIterator in device /job:localhost/replica:0/task:0/device:CPU:0\n",
            "Executing op __inference_one_step_on_iterator_8603 in device /job:localhost/replica:0/task:0/device:GPU:0\n",
            "Executing op _EagerConst in device /job:localhost/replica:0/task:0/device:GPU:0\n",
            "Executing op Range in device /job:localhost/replica:0/task:0/device:GPU:0\n",
            "Executing op Mean in device /job:localhost/replica:0/task:0/device:GPU:0\n",
            "Executing op Range in device /job:localhost/replica:0/task:0/device:GPU:0\n",
            "Executing op Mean in device /job:localhost/replica:0/task:0/device:GPU:0\n",
            "\u001b[1m1/5\u001b[0m \u001b[32m━━━━\u001b[0m\u001b[37m━━━━━━━━━━━━━━━━\u001b[0m \u001b[1m0s\u001b[0m 30ms/step - loss: 0.5494 - mae: 0.5494Executing op __inference_one_step_on_iterator_8603 in device /job:localhost/replica:0/task:0/device:GPU:0\n",
            "Executing op __inference_one_step_on_iterator_8603 in device /job:localhost/replica:0/task:0/device:GPU:0\n",
            "Executing op __inference_one_step_on_iterator_8603 in device /job:localhost/replica:0/task:0/device:GPU:0\n",
            "Executing op __inference_one_step_on_iterator_8603 in device /job:localhost/replica:0/task:0/device:GPU:0\n",
            "Executing op ReadVariableOp in device /job:localhost/replica:0/task:0/device:GPU:0\n",
            "Executing op ReadVariableOp in device /job:localhost/replica:0/task:0/device:GPU:0\n",
            "Executing op DivNoNan in device /job:localhost/replica:0/task:0/device:GPU:0\n",
            "Executing op ReadVariableOp in device /job:localhost/replica:0/task:0/device:GPU:0\n",
            "Executing op ReadVariableOp in device /job:localhost/replica:0/task:0/device:GPU:0\n",
            "Executing op DivNoNan in device /job:localhost/replica:0/task:0/device:GPU:0\n",
            "Executing op AssignVariableOp in device /job:localhost/replica:0/task:0/device:GPU:0\n",
            "Executing op AssignVariableOp in device /job:localhost/replica:0/task:0/device:GPU:0\n",
            "Executing op AssignVariableOp in device /job:localhost/replica:0/task:0/device:GPU:0\n",
            "Executing op AssignVariableOp in device /job:localhost/replica:0/task:0/device:GPU:0\n",
            "Executing op AnonymousIteratorV3 in device /job:localhost/replica:0/task:0/device:CPU:0\n",
            "Executing op MakeIterator in device /job:localhost/replica:0/task:0/device:CPU:0\n",
            "Executing op __inference_one_step_on_iterator_8821 in device /job:localhost/replica:0/task:0/device:GPU:0\n",
            "Executing op __inference_one_step_on_iterator_8821 in device /job:localhost/replica:0/task:0/device:GPU:0\n",
            "Executing op ReadVariableOp in device /job:localhost/replica:0/task:0/device:GPU:0\n",
            "Executing op ReadVariableOp in device /job:localhost/replica:0/task:0/device:GPU:0\n",
            "Executing op DivNoNan in device /job:localhost/replica:0/task:0/device:GPU:0\n",
            "Executing op ReadVariableOp in device /job:localhost/replica:0/task:0/device:GPU:0\n",
            "Executing op ReadVariableOp in device /job:localhost/replica:0/task:0/device:GPU:0\n",
            "Executing op DivNoNan in device /job:localhost/replica:0/task:0/device:GPU:0\n",
            "Executing op _EagerConst in device /job:localhost/replica:0/task:0/device:GPU:0\n",
            "Executing op Range in device /job:localhost/replica:0/task:0/device:GPU:0\n",
            "Executing op Mean in device /job:localhost/replica:0/task:0/device:GPU:0\n",
            "Executing op Range in device /job:localhost/replica:0/task:0/device:GPU:0\n",
            "Executing op Mean in device /job:localhost/replica:0/task:0/device:GPU:0\n",
            "Executing op _EagerConst in device /job:localhost/replica:0/task:0/device:GPU:0\n",
            "Executing op Range in device /job:localhost/replica:0/task:0/device:GPU:0\n",
            "Executing op Mean in device /job:localhost/replica:0/task:0/device:GPU:0\n",
            "Executing op Range in device /job:localhost/replica:0/task:0/device:GPU:0\n",
            "Executing op Mean in device /job:localhost/replica:0/task:0/device:GPU:0\n",
            "\u001b[1m5/5\u001b[0m \u001b[32m━━━━━━━━━━━━━━━━━━━━\u001b[0m\u001b[37m\u001b[0m \u001b[1m0s\u001b[0m 17ms/step - loss: 0.4806 - mae: 0.4806 - val_loss: 0.5040 - val_mae: 0.5040\n",
            "Executing op AssignVariableOp in device /job:localhost/replica:0/task:0/device:GPU:0\n",
            "Executing op AssignVariableOp in device /job:localhost/replica:0/task:0/device:GPU:0\n",
            "Executing op AssignVariableOp in device /job:localhost/replica:0/task:0/device:GPU:0\n",
            "Executing op AssignVariableOp in device /job:localhost/replica:0/task:0/device:GPU:0\n",
            "Epoch 9/10\n",
            "Executing op AnonymousIteratorV3 in device /job:localhost/replica:0/task:0/device:CPU:0\n",
            "Executing op MakeIterator in device /job:localhost/replica:0/task:0/device:CPU:0\n",
            "Executing op __inference_one_step_on_iterator_8603 in device /job:localhost/replica:0/task:0/device:GPU:0\n",
            "Executing op _EagerConst in device /job:localhost/replica:0/task:0/device:GPU:0\n",
            "Executing op Range in device /job:localhost/replica:0/task:0/device:GPU:0\n",
            "Executing op Mean in device /job:localhost/replica:0/task:0/device:GPU:0\n",
            "Executing op Range in device /job:localhost/replica:0/task:0/device:GPU:0\n",
            "Executing op Mean in device /job:localhost/replica:0/task:0/device:GPU:0\n",
            "\u001b[1m1/5\u001b[0m \u001b[32m━━━━\u001b[0m\u001b[37m━━━━━━━━━━━━━━━━\u001b[0m \u001b[1m0s\u001b[0m 30ms/step - loss: 0.3028 - mae: 0.3028Executing op __inference_one_step_on_iterator_8603 in device /job:localhost/replica:0/task:0/device:GPU:0\n",
            "Executing op __inference_one_step_on_iterator_8603 in device /job:localhost/replica:0/task:0/device:GPU:0\n",
            "Executing op __inference_one_step_on_iterator_8603 in device /job:localhost/replica:0/task:0/device:GPU:0\n",
            "Executing op __inference_one_step_on_iterator_8603 in device /job:localhost/replica:0/task:0/device:GPU:0\n",
            "Executing op ReadVariableOp in device /job:localhost/replica:0/task:0/device:GPU:0\n",
            "Executing op ReadVariableOp in device /job:localhost/replica:0/task:0/device:GPU:0\n",
            "Executing op DivNoNan in device /job:localhost/replica:0/task:0/device:GPU:0\n",
            "Executing op ReadVariableOp in device /job:localhost/replica:0/task:0/device:GPU:0\n",
            "Executing op ReadVariableOp in device /job:localhost/replica:0/task:0/device:GPU:0\n",
            "Executing op DivNoNan in device /job:localhost/replica:0/task:0/device:GPU:0\n",
            "Executing op AssignVariableOp in device /job:localhost/replica:0/task:0/device:GPU:0\n",
            "Executing op AssignVariableOp in device /job:localhost/replica:0/task:0/device:GPU:0\n",
            "Executing op AssignVariableOp in device /job:localhost/replica:0/task:0/device:GPU:0\n",
            "Executing op AssignVariableOp in device /job:localhost/replica:0/task:0/device:GPU:0\n",
            "Executing op AnonymousIteratorV3 in device /job:localhost/replica:0/task:0/device:CPU:0\n",
            "Executing op MakeIterator in device /job:localhost/replica:0/task:0/device:CPU:0\n",
            "Executing op __inference_one_step_on_iterator_8821 in device /job:localhost/replica:0/task:0/device:GPU:0\n",
            "Executing op __inference_one_step_on_iterator_8821 in device /job:localhost/replica:0/task:0/device:GPU:0\n",
            "Executing op ReadVariableOp in device /job:localhost/replica:0/task:0/device:GPU:0\n",
            "Executing op ReadVariableOp in device /job:localhost/replica:0/task:0/device:GPU:0\n",
            "Executing op DivNoNan in device /job:localhost/replica:0/task:0/device:GPU:0\n",
            "Executing op ReadVariableOp in device /job:localhost/replica:0/task:0/device:GPU:0\n",
            "Executing op ReadVariableOp in device /job:localhost/replica:0/task:0/device:GPU:0\n",
            "Executing op DivNoNan in device /job:localhost/replica:0/task:0/device:GPU:0\n",
            "Executing op _EagerConst in device /job:localhost/replica:0/task:0/device:GPU:0\n",
            "Executing op Range in device /job:localhost/replica:0/task:0/device:GPU:0\n",
            "Executing op Mean in device /job:localhost/replica:0/task:0/device:GPU:0\n",
            "Executing op Range in device /job:localhost/replica:0/task:0/device:GPU:0\n",
            "Executing op Mean in device /job:localhost/replica:0/task:0/device:GPU:0\n",
            "Executing op _EagerConst in device /job:localhost/replica:0/task:0/device:GPU:0\n",
            "Executing op Range in device /job:localhost/replica:0/task:0/device:GPU:0\n",
            "Executing op Mean in device /job:localhost/replica:0/task:0/device:GPU:0\n",
            "Executing op Range in device /job:localhost/replica:0/task:0/device:GPU:0\n",
            "Executing op Mean in device /job:localhost/replica:0/task:0/device:GPU:0\n",
            "\u001b[1m5/5\u001b[0m \u001b[32m━━━━━━━━━━━━━━━━━━━━\u001b[0m\u001b[37m\u001b[0m \u001b[1m0s\u001b[0m 19ms/step - loss: 0.3930 - mae: 0.3930 - val_loss: 0.4939 - val_mae: 0.4939\n",
            "Executing op AssignVariableOp in device /job:localhost/replica:0/task:0/device:GPU:0\n",
            "Executing op AssignVariableOp in device /job:localhost/replica:0/task:0/device:GPU:0\n",
            "Executing op AssignVariableOp in device /job:localhost/replica:0/task:0/device:GPU:0\n",
            "Executing op AssignVariableOp in device /job:localhost/replica:0/task:0/device:GPU:0\n",
            "Epoch 10/10\n",
            "Executing op AnonymousIteratorV3 in device /job:localhost/replica:0/task:0/device:CPU:0\n",
            "Executing op MakeIterator in device /job:localhost/replica:0/task:0/device:CPU:0\n",
            "Executing op __inference_one_step_on_iterator_8603 in device /job:localhost/replica:0/task:0/device:GPU:0\n",
            "Executing op _EagerConst in device /job:localhost/replica:0/task:0/device:GPU:0\n",
            "Executing op Range in device /job:localhost/replica:0/task:0/device:GPU:0\n",
            "Executing op Mean in device /job:localhost/replica:0/task:0/device:GPU:0\n",
            "Executing op Range in device /job:localhost/replica:0/task:0/device:GPU:0\n",
            "Executing op Mean in device /job:localhost/replica:0/task:0/device:GPU:0\n",
            "\u001b[1m1/5\u001b[0m \u001b[32m━━━━\u001b[0m\u001b[37m━━━━━━━━━━━━━━━━\u001b[0m \u001b[1m0s\u001b[0m 30ms/step - loss: 0.4713 - mae: 0.4713Executing op __inference_one_step_on_iterator_8603 in device /job:localhost/replica:0/task:0/device:GPU:0\n",
            "Executing op __inference_one_step_on_iterator_8603 in device /job:localhost/replica:0/task:0/device:GPU:0\n",
            "Executing op __inference_one_step_on_iterator_8603 in device /job:localhost/replica:0/task:0/device:GPU:0\n",
            "Executing op __inference_one_step_on_iterator_8603 in device /job:localhost/replica:0/task:0/device:GPU:0\n",
            "Executing op ReadVariableOp in device /job:localhost/replica:0/task:0/device:GPU:0\n",
            "Executing op ReadVariableOp in device /job:localhost/replica:0/task:0/device:GPU:0\n",
            "Executing op DivNoNan in device /job:localhost/replica:0/task:0/device:GPU:0\n",
            "Executing op ReadVariableOp in device /job:localhost/replica:0/task:0/device:GPU:0\n",
            "Executing op ReadVariableOp in device /job:localhost/replica:0/task:0/device:GPU:0\n",
            "Executing op DivNoNan in device /job:localhost/replica:0/task:0/device:GPU:0\n",
            "Executing op AssignVariableOp in device /job:localhost/replica:0/task:0/device:GPU:0\n",
            "Executing op AssignVariableOp in device /job:localhost/replica:0/task:0/device:GPU:0\n",
            "Executing op AssignVariableOp in device /job:localhost/replica:0/task:0/device:GPU:0\n",
            "Executing op AssignVariableOp in device /job:localhost/replica:0/task:0/device:GPU:0\n",
            "Executing op AnonymousIteratorV3 in device /job:localhost/replica:0/task:0/device:CPU:0\n",
            "Executing op MakeIterator in device /job:localhost/replica:0/task:0/device:CPU:0\n",
            "Executing op __inference_one_step_on_iterator_8821 in device /job:localhost/replica:0/task:0/device:GPU:0\n",
            "Executing op __inference_one_step_on_iterator_8821 in device /job:localhost/replica:0/task:0/device:GPU:0\n",
            "Executing op ReadVariableOp in device /job:localhost/replica:0/task:0/device:GPU:0\n",
            "Executing op ReadVariableOp in device /job:localhost/replica:0/task:0/device:GPU:0\n",
            "Executing op DivNoNan in device /job:localhost/replica:0/task:0/device:GPU:0\n",
            "Executing op ReadVariableOp in device /job:localhost/replica:0/task:0/device:GPU:0\n",
            "Executing op ReadVariableOp in device /job:localhost/replica:0/task:0/device:GPU:0\n",
            "Executing op DivNoNan in device /job:localhost/replica:0/task:0/device:GPU:0\n",
            "Executing op _EagerConst in device /job:localhost/replica:0/task:0/device:GPU:0\n",
            "Executing op Range in device /job:localhost/replica:0/task:0/device:GPU:0\n",
            "Executing op Mean in device /job:localhost/replica:0/task:0/device:GPU:0\n",
            "Executing op Range in device /job:localhost/replica:0/task:0/device:GPU:0\n",
            "Executing op Mean in device /job:localhost/replica:0/task:0/device:GPU:0\n",
            "Executing op _EagerConst in device /job:localhost/replica:0/task:0/device:GPU:0\n",
            "Executing op Range in device /job:localhost/replica:0/task:0/device:GPU:0\n",
            "Executing op Mean in device /job:localhost/replica:0/task:0/device:GPU:0\n",
            "Executing op Range in device /job:localhost/replica:0/task:0/device:GPU:0\n",
            "Executing op Mean in device /job:localhost/replica:0/task:0/device:GPU:0\n",
            "\u001b[1m5/5\u001b[0m \u001b[32m━━━━━━━━━━━━━━━━━━━━\u001b[0m\u001b[37m\u001b[0m \u001b[1m0s\u001b[0m 18ms/step - loss: 0.4237 - mae: 0.4237 - val_loss: 0.5217 - val_mae: 0.5217\n"
          ]
        }
      ]
    },
    {
      "cell_type": "code",
      "source": [
        "loss,mae = model.evaluate(X_valid,y_valid)"
      ],
      "metadata": {
        "colab": {
          "base_uri": "https://localhost:8080/"
        },
        "id": "Hk3riLBRUBJB",
        "outputId": "9c3b3840-8b1d-41d9-9106-c5815191fc91"
      },
      "execution_count": null,
      "outputs": [
        {
          "output_type": "stream",
          "name": "stdout",
          "text": [
            "Executing op RangeDataset in device /job:localhost/replica:0/task:0/device:CPU:0\n",
            "Executing op MapDataset in device /job:localhost/replica:0/task:0/device:CPU:0\n",
            "Executing op PrefetchDataset in device /job:localhost/replica:0/task:0/device:CPU:0\n",
            "Executing op FlatMapDataset in device /job:localhost/replica:0/task:0/device:CPU:0\n",
            "Executing op _EagerConst in device /job:localhost/replica:0/task:0/device:GPU:0\n",
            "Executing op _EagerConst in device /job:localhost/replica:0/task:0/device:GPU:0\n",
            "Executing op TensorDataset in device /job:localhost/replica:0/task:0/device:CPU:0\n",
            "Executing op RepeatDataset in device /job:localhost/replica:0/task:0/device:CPU:0\n",
            "Executing op ZipDataset in device /job:localhost/replica:0/task:0/device:CPU:0\n",
            "Executing op ParallelMapDatasetV2 in device /job:localhost/replica:0/task:0/device:CPU:0\n",
            "Executing op OptionsDataset in device /job:localhost/replica:0/task:0/device:CPU:0\n",
            "Executing op OptionsDataset in device /job:localhost/replica:0/task:0/device:CPU:0\n",
            "Executing op PrefetchDataset in device /job:localhost/replica:0/task:0/device:CPU:0\n",
            "Executing op AssignVariableOp in device /job:localhost/replica:0/task:0/device:GPU:0\n",
            "Executing op AssignVariableOp in device /job:localhost/replica:0/task:0/device:GPU:0\n",
            "Executing op AssignVariableOp in device /job:localhost/replica:0/task:0/device:GPU:0\n",
            "Executing op AssignVariableOp in device /job:localhost/replica:0/task:0/device:GPU:0\n",
            "Executing op AnonymousIteratorV3 in device /job:localhost/replica:0/task:0/device:CPU:0\n",
            "Executing op MakeIterator in device /job:localhost/replica:0/task:0/device:CPU:0\n",
            "Executing op __inference_one_step_on_iterator_8821 in device /job:localhost/replica:0/task:0/device:GPU:0\n",
            "Executing op _EagerConst in device /job:localhost/replica:0/task:0/device:GPU:0\n",
            "Executing op Range in device /job:localhost/replica:0/task:0/device:GPU:0\n",
            "Executing op Mean in device /job:localhost/replica:0/task:0/device:GPU:0\n",
            "Executing op Range in device /job:localhost/replica:0/task:0/device:GPU:0\n",
            "Executing op Mean in device /job:localhost/replica:0/task:0/device:GPU:0\n",
            "\u001b[1m1/2\u001b[0m \u001b[32m━━━━━━━━━━\u001b[0m\u001b[37m━━━━━━━━━━\u001b[0m \u001b[1m0s\u001b[0m 32ms/step - loss: 0.5158 - mae: 0.5158Executing op __inference_one_step_on_iterator_8821 in device /job:localhost/replica:0/task:0/device:GPU:0\n",
            "Executing op ReadVariableOp in device /job:localhost/replica:0/task:0/device:GPU:0\n",
            "Executing op ReadVariableOp in device /job:localhost/replica:0/task:0/device:GPU:0\n",
            "Executing op DivNoNan in device /job:localhost/replica:0/task:0/device:GPU:0\n",
            "Executing op ReadVariableOp in device /job:localhost/replica:0/task:0/device:GPU:0\n",
            "Executing op ReadVariableOp in device /job:localhost/replica:0/task:0/device:GPU:0\n",
            "Executing op DivNoNan in device /job:localhost/replica:0/task:0/device:GPU:0\n",
            "Executing op _EagerConst in device /job:localhost/replica:0/task:0/device:GPU:0\n",
            "Executing op Range in device /job:localhost/replica:0/task:0/device:GPU:0\n",
            "Executing op Mean in device /job:localhost/replica:0/task:0/device:GPU:0\n",
            "Executing op Range in device /job:localhost/replica:0/task:0/device:GPU:0\n",
            "Executing op Mean in device /job:localhost/replica:0/task:0/device:GPU:0\n",
            "\u001b[1m2/2\u001b[0m \u001b[32m━━━━━━━━━━━━━━━━━━━━\u001b[0m\u001b[37m\u001b[0m \u001b[1m0s\u001b[0m 21ms/step - loss: 0.5198 - mae: 0.5198\n"
          ]
        }
      ]
    },
    {
      "cell_type": "markdown",
      "source": [
        "#Visualization of Results"
      ],
      "metadata": {
        "id": "VbX_XT2ddmgE"
      }
    },
    {
      "cell_type": "code",
      "source": [
        "import pandas as pd\n",
        "import matplotlib.pyplot as plt\n",
        "pd.DataFrame(history.history).plot(figsize=(8,5))\n",
        "plt.gca().set_ylim(0,10)\n",
        "plt.show()"
      ],
      "metadata": {
        "colab": {
          "base_uri": "https://localhost:8080/",
          "height": 451
        },
        "id": "RF7oV3ozQ0t6",
        "outputId": "7bc9b118-e31c-46e3-fc5b-a6c0ce3bce83"
      },
      "execution_count": null,
      "outputs": [
        {
          "output_type": "display_data",
          "data": {
            "text/plain": [
              "<Figure size 800x500 with 1 Axes>"
            ],
            "image/png": "[encoded data removed]"
          },
          "metadata": {}
        }
      ]
    },
    {
      "cell_type": "code",
      "source": [
        "y_predict_test = model.predict(X_test_embeddings)"
      ],
      "metadata": {
        "colab": {
          "base_uri": "https://localhost:8080/"
        },
        "id": "cYKNdMnSdMz4",
        "outputId": "1e3b4421-cdff-4372-f52f-b71e58081bc7"
      },
      "execution_count": null,
      "outputs": [
        {
          "output_type": "stream",
          "name": "stdout",
          "text": [
            "Executing op RangeDataset in device /job:localhost/replica:0/task:0/device:CPU:0\n",
            "Executing op MapDataset in device /job:localhost/replica:0/task:0/device:CPU:0\n",
            "Executing op PrefetchDataset in device /job:localhost/replica:0/task:0/device:CPU:0\n",
            "Executing op FlatMapDataset in device /job:localhost/replica:0/task:0/device:CPU:0\n",
            "Executing op TensorDataset in device /job:localhost/replica:0/task:0/device:CPU:0\n",
            "Executing op RepeatDataset in device /job:localhost/replica:0/task:0/device:CPU:0\n",
            "Executing op ZipDataset in device /job:localhost/replica:0/task:0/device:CPU:0\n",
            "Executing op ParallelMapDatasetV2 in device /job:localhost/replica:0/task:0/device:CPU:0\n",
            "Executing op OptionsDataset in device /job:localhost/replica:0/task:0/device:CPU:0\n",
            "Executing op OptionsDataset in device /job:localhost/replica:0/task:0/device:CPU:0\n",
            "Executing op PrefetchDataset in device /job:localhost/replica:0/task:0/device:CPU:0\n",
            "Executing op AnonymousIteratorV3 in device /job:localhost/replica:0/task:0/device:CPU:0\n",
            "Executing op MakeIterator in device /job:localhost/replica:0/task:0/device:CPU:0\n",
            "Executing op IteratorGetNext in device /job:localhost/replica:0/task:0/device:CPU:0\n",
            "Executing op __inference_one_step_on_data_distributed_9318 in device /job:localhost/replica:0/task:0/device:GPU:0\n",
            "\u001b[1m1/2\u001b[0m \u001b[32m━━━━━━━━━━\u001b[0m\u001b[37m━━━━━━━━━━\u001b[0m \u001b[1m0s\u001b[0m 23ms/stepExecuting op IteratorGetNext in device /job:localhost/replica:0/task:0/device:CPU:0\n",
            "Executing op __inference_one_step_on_data_distributed_9352 in device /job:localhost/replica:0/task:0/device:GPU:0\n",
            "\u001b[1m2/2\u001b[0m \u001b[32m━━━━━━━━━━━━━━━━━━━━\u001b[0m\u001b[37m\u001b[0m \u001b[1m0s\u001b[0m 5ms/step \n",
            "Executing op Shape in device /job:localhost/replica:0/task:0/device:GPU:0\n",
            "Executing op _EagerConst in device /job:localhost/replica:0/task:0/device:GPU:0\n",
            "Executing op _EagerConst in device /job:localhost/replica:0/task:0/device:GPU:0\n",
            "Executing op _EagerConst in device /job:localhost/replica:0/task:0/device:GPU:0\n",
            "Executing op StridedSlice in device /job:localhost/replica:0/task:0/device:GPU:0\n",
            "Executing op Shape in device /job:localhost/replica:0/task:0/device:GPU:0\n",
            "Executing op _EagerConst in device /job:localhost/replica:0/task:0/device:GPU:0\n",
            "Executing op _EagerConst in device /job:localhost/replica:0/task:0/device:GPU:0\n",
            "Executing op _EagerConst in device /job:localhost/replica:0/task:0/device:GPU:0\n",
            "Executing op StridedSlice in device /job:localhost/replica:0/task:0/device:GPU:0\n",
            "Executing op Pack in device /job:localhost/replica:0/task:0/device:GPU:0\n",
            "Executing op _EagerConst in device /job:localhost/replica:0/task:0/device:GPU:0\n",
            "Executing op _EagerConst in device /job:localhost/replica:0/task:0/device:GPU:0\n",
            "Executing op _EagerConst in device /job:localhost/replica:0/task:0/device:GPU:0\n",
            "Executing op StridedSlice in device /job:localhost/replica:0/task:0/device:GPU:0\n",
            "Executing op Equal in device /job:localhost/replica:0/task:0/device:GPU:0\n",
            "Executing op All in device /job:localhost/replica:0/task:0/device:GPU:0\n",
            "Executing op _EagerConst in device /job:localhost/replica:0/task:0/device:GPU:0\n",
            "Executing op All in device /job:localhost/replica:0/task:0/device:GPU:0\n",
            "Executing op ConcatV2 in device /job:localhost/replica:0/task:0/device:GPU:0\n"
          ]
        }
      ]
    },
    {
      "cell_type": "markdown",
      "source": [
        "# Prediction of Ratings for Test data episodes"
      ],
      "metadata": {
        "id": "Xs3xYbgYeGvt"
      }
    },
    {
      "cell_type": "code",
      "source": [
        "for index,prediction in enumerate(y_predict_test):\n",
        "  print(f'Predicted rating for episode {index+1} => {prediction}')"
      ],
      "metadata": {
        "colab": {
          "base_uri": "https://localhost:8080/"
        },
        "id": "OU2u9OdvdRKE",
        "outputId": "26f9f620-573f-4bc9-9465-6e2a30b293e3"
      },
      "execution_count": null,
      "outputs": [
        {
          "output_type": "stream",
          "name": "stdout",
          "text": [
            "Predicted rating for episode 1 => [7.9352713]\n",
            "Predicted rating for episode 2 => [8.099145]\n",
            "Predicted rating for episode 3 => [8.187528]\n",
            "Predicted rating for episode 4 => [8.368564]\n",
            "Predicted rating for episode 5 => [7.8905187]\n",
            "Predicted rating for episode 6 => [7.471448]\n",
            "Predicted rating for episode 7 => [8.601542]\n",
            "Predicted rating for episode 8 => [8.471859]\n",
            "Predicted rating for episode 9 => [7.3480973]\n",
            "Predicted rating for episode 10 => [8.341857]\n",
            "Predicted rating for episode 11 => [7.5728416]\n",
            "Predicted rating for episode 12 => [8.465197]\n",
            "Predicted rating for episode 13 => [7.307722]\n",
            "Predicted rating for episode 14 => [8.723716]\n",
            "Predicted rating for episode 15 => [7.847596]\n",
            "Predicted rating for episode 16 => [8.214574]\n",
            "Predicted rating for episode 17 => [9.0777445]\n",
            "Predicted rating for episode 18 => [8.489818]\n",
            "Predicted rating for episode 19 => [8.107761]\n",
            "Predicted rating for episode 20 => [8.183797]\n",
            "Predicted rating for episode 21 => [8.218577]\n",
            "Predicted rating for episode 22 => [7.960944]\n",
            "Predicted rating for episode 23 => [8.537648]\n",
            "Predicted rating for episode 24 => [8.561202]\n",
            "Predicted rating for episode 25 => [7.8549166]\n",
            "Predicted rating for episode 26 => [7.7415032]\n",
            "Predicted rating for episode 27 => [8.843112]\n",
            "Predicted rating for episode 28 => [8.477089]\n",
            "Predicted rating for episode 29 => [8.306161]\n",
            "Predicted rating for episode 30 => [8.598892]\n",
            "Predicted rating for episode 31 => [8.103253]\n",
            "Predicted rating for episode 32 => [8.053075]\n",
            "Predicted rating for episode 33 => [8.541892]\n",
            "Predicted rating for episode 34 => [8.22847]\n",
            "Predicted rating for episode 35 => [8.433417]\n"
          ]
        }
      ]
    },
    {
      "cell_type": "code",
      "source": [
        "print('Loss is',loss)\n",
        "print('MAE is',mae)"
      ],
      "metadata": {
        "colab": {
          "base_uri": "https://localhost:8080/"
        },
        "id": "WvQUbaaud0fM",
        "outputId": "bd6314b6-08eb-4100-f558-e37f129d01f0"
      },
      "execution_count": null,
      "outputs": [
        {
          "output_type": "stream",
          "name": "stdout",
          "text": [
            "Loss is 0.5217361450195312\n",
            "MAE is 0.5217361450195312\n"
          ]
        }
      ]
    },
    {
      "cell_type": "markdown",
      "source": [
        "##\n",
        "Loss - 0.5217361450195312- and MAE(0.5217361450195312). For some reason, loss and mae has gone up if i apply Dropout() and BatchNormalization overfitting techniques\n",
        "We can still make changes with hyperparameter tuning like chaning learning rate, change optimizers and acitvation function combination to see if model performance improves"
      ],
      "metadata": {
        "id": "m5es_NHDdsUS"
      }
    }
  ]
}